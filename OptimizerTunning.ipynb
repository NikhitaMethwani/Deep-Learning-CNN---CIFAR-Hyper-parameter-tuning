{
  "nbformat": 4,
  "nbformat_minor": 0,
  "metadata": {
    "colab": {
      "name": "OptimizerTunning-Assignmnent1.ipynb",
      "version": "0.3.2",
      "provenance": [],
      "collapsed_sections": []
    },
    "language_info": {
      "codemirror_mode": {
        "name": "ipython",
        "version": 3
      },
      "file_extension": ".py",
      "mimetype": "text/x-python",
      "name": "python",
      "nbconvert_exporter": "python",
      "pygments_lexer": "ipython3",
      "version": "3.7.3"
    },
    "kernelspec": {
      "name": "python3",
      "display_name": "Python 3"
    },
    "accelerator": "TPU"
  },
  "cells": [
    {
      "cell_type": "markdown",
      "metadata": {
        "id": "ESEvwbm3hasL",
        "colab_type": "text"
      },
      "source": [
        "## Hyperparameter tuning of Optimizer in Neural Network and obtaining the results of best optimizer"
      ]
    },
    {
      "cell_type": "code",
      "metadata": {
        "id": "tlXn14egcs8C",
        "colab_type": "code",
        "outputId": "4a106e9e-8913-47c9-f794-fd604304cc6c",
        "colab": {
          "base_uri": "https://localhost:8080/",
          "height": 35
        }
      },
      "source": [
        "from __future__ import print_function\n",
        "import keras\n",
        "from keras.datasets import cifar10\n",
        "from keras.preprocessing.image import ImageDataGenerator\n",
        "from keras.models import Sequential\n",
        "from keras.layers import Dense, Dropout, Activation, Flatten\n",
        "from keras.layers import Conv2D, MaxPooling2D\n",
        "import os\n",
        "from matplotlib import pyplot as plt"
      ],
      "execution_count": 0,
      "outputs": [
        {
          "output_type": "stream",
          "text": [
            "Using TensorFlow backend.\n"
          ],
          "name": "stderr"
        }
      ]
    },
    {
      "cell_type": "code",
      "metadata": {
        "id": "dSUpsYhbcs8Q",
        "colab_type": "code",
        "colab": {}
      },
      "source": [
        "num_classes = 10\n",
        "data_augmentation = True\n",
        "num_predictions = 20\n",
        "# batch_size = 128\n",
        "# epochs = 30"
      ],
      "execution_count": 0,
      "outputs": []
    },
    {
      "cell_type": "code",
      "metadata": {
        "id": "Qo9KtU-tcs89",
        "colab_type": "code",
        "colab": {}
      },
      "source": [
        "# save_dir = os.path.join(os.getcwd(), 'saved_models')\n",
        "# model_name = 'keras_cifar10_trained_model.h5'"
      ],
      "execution_count": 0,
      "outputs": []
    },
    {
      "cell_type": "markdown",
      "metadata": {
        "id": "ygl3FxYVhRqb",
        "colab_type": "text"
      },
      "source": [
        "### Load the data"
      ]
    },
    {
      "cell_type": "code",
      "metadata": {
        "id": "oXQiDQ3ucs9i",
        "colab_type": "code",
        "outputId": "76235e1f-f22d-4162-ac7d-d79d227d8c47",
        "colab": {
          "base_uri": "https://localhost:8080/",
          "height": 106
        }
      },
      "source": [
        "# The data, split between train and test sets:\n",
        "(x_train, y_train), (x_test, y_test) = cifar10.load_data()\n",
        "print('x_train shape:', x_train.shape)\n",
        "print(x_train.shape[0], 'train samples')\n",
        "print(x_test.shape[0], 'test samples')"
      ],
      "execution_count": 0,
      "outputs": [
        {
          "output_type": "stream",
          "text": [
            "Downloading data from https://www.cs.toronto.edu/~kriz/cifar-10-python.tar.gz\n",
            "170500096/170498071 [==============================] - 2s 0us/step\n",
            "x_train shape: (50000, 32, 32, 3)\n",
            "50000 train samples\n",
            "10000 test samples\n"
          ],
          "name": "stdout"
        }
      ]
    },
    {
      "cell_type": "markdown",
      "metadata": {
        "id": "s7VBhxQhhUzZ",
        "colab_type": "text"
      },
      "source": [
        "### Convert the image data into required format"
      ]
    },
    {
      "cell_type": "code",
      "metadata": {
        "id": "d3XkzSlFcs90",
        "colab_type": "code",
        "colab": {}
      },
      "source": [
        "x_train = x_train.astype('float32')\n",
        "x_test = x_test.astype('float32')\n",
        "x_train /= 255\n",
        "x_test /= 255"
      ],
      "execution_count": 0,
      "outputs": []
    },
    {
      "cell_type": "code",
      "metadata": {
        "id": "-dcQn6Svcs96",
        "colab_type": "code",
        "colab": {}
      },
      "source": [
        "# Convert class vectors to binary class matrices.\n",
        "y_train = keras.utils.to_categorical(y_train, num_classes)\n",
        "y_test = keras.utils.to_categorical(y_test, num_classes)"
      ],
      "execution_count": 0,
      "outputs": []
    },
    {
      "cell_type": "markdown",
      "metadata": {
        "id": "qTGzvgb4hIw4",
        "colab_type": "text"
      },
      "source": [
        "### Create a neural network for classifying CIFAR dataset"
      ]
    },
    {
      "cell_type": "code",
      "metadata": {
        "id": "x81uvglocs-A",
        "colab_type": "code",
        "colab": {}
      },
      "source": [
        "def model1(model,batch_size,epochs,optimizer):\n",
        "    \n",
        "        model.add(Conv2D(32, (3, 3), padding='same',\n",
        "                         input_shape=x_train.shape[1:]))\n",
        "        model.add(Activation('relu'))\n",
        "        \n",
        "        model.add(Conv2D(32, (3, 3)))\n",
        "        model.add(Activation('relu'))\n",
        "        \n",
        "        model.add(MaxPooling2D(pool_size=(2, 2)))\n",
        "        model.add(Dropout(rate = 0.25))\n",
        "\n",
        "        model.add(Conv2D(64, (3, 3), padding='same'))\n",
        "        model.add(Activation('relu'))\n",
        "        \n",
        "        model.add(Conv2D(64, (3, 3)))\n",
        "        model.add(Activation('relu'))\n",
        "        \n",
        "        model.add(MaxPooling2D(pool_size=(2, 2)))\n",
        "        model.add(Dropout(rate = 0.25))\n",
        "\n",
        "        model.add(Flatten())\n",
        "        model.add(Dense(512))\n",
        "        model.add(Activation('relu'))\n",
        "        model.add(Dropout(rate = 0.5))\n",
        "        model.add(Dense(num_classes))\n",
        "        model.add(Activation('softmax'))\n",
        "        \n",
        "        if(optimizer == 'rms'):\n",
        "            opt = keras.optimizers.rmsprop(lr=0.0001, decay=1e-6)\n",
        "        if(optimizer == 'adam'):\n",
        "            opt = keras.optimizers.adam(lr=0.0001, decay=1e-6)\n",
        "        if(optimizer == 'sgd'):\n",
        "            opt = keras.optimizers.SGD(lr=0.01, momentum=0.0, decay=0.0, nesterov=False)\n",
        "        if(optimizer == 'adagrad'):\n",
        "             opt =  keras.optimizers.Adagrad(lr=0.01, epsilon=None, decay=0.0)\n",
        "        if(optimizer == 'adadelta'):\n",
        "               opt = keras.optimizers.Adadelta(lr=1.0, rho=0.95, epsilon=None, decay=0.0)\n",
        "        if(optimizer == 'adamax'):\n",
        "               opt = keras.optimizers.Adamax(lr=0.002, beta_1=0.9, beta_2=0.999, epsilon=None, decay=0.0)\n",
        "        if(optimizer == 'nadam'):\n",
        "                opt = keras.optimizers.Nadam(lr=0.002, beta_1=0.9, beta_2=0.999, epsilon=None, schedule_decay=0.004)\n",
        "            \n",
        "\n",
        "        # Let's train the model\n",
        "        model.compile(loss='categorical_crossentropy',\n",
        "              optimizer=opt,\n",
        "              metrics=['accuracy'])\n",
        "        \n",
        "        history = model.fit(x_train, y_train,\n",
        "              batch_size=batch_size,\n",
        "              epochs=epochs,\n",
        "              validation_data=(x_test, y_test),\n",
        "              shuffle=True)\n",
        "        return history"
      ],
      "execution_count": 0,
      "outputs": []
    },
    {
      "cell_type": "markdown",
      "metadata": {
        "id": "OTVx98d5hAxn",
        "colab_type": "text"
      },
      "source": [
        "### Train the model by tuning the Optimizer"
      ]
    },
    {
      "cell_type": "markdown",
      "metadata": {
        "id": "cFdDdfXRg3Zl",
        "colab_type": "text"
      },
      "source": [
        "#### RMSprop Optimizer"
      ]
    },
    {
      "cell_type": "code",
      "metadata": {
        "id": "gxvhbw8frTlJ",
        "colab_type": "code",
        "outputId": "c6f10f39-f556-475f-a001-8f47c4205fbc",
        "colab": {
          "base_uri": "https://localhost:8080/",
          "height": 1000
        }
      },
      "source": [
        "tmodel1 = Sequential()\n",
        "train_model1 = model1(tmodel1,128,40,'rms')"
      ],
      "execution_count": 0,
      "outputs": [
        {
          "output_type": "stream",
          "text": [
            "Train on 50000 samples, validate on 10000 samples\n",
            "Epoch 1/40\n",
            "50000/50000 [==============================] - 369s 7ms/step - loss: 1.9799 - acc: 0.2720 - val_loss: 1.7393 - val_acc: 0.3872\n",
            "Epoch 2/40\n",
            "50000/50000 [==============================] - 406s 8ms/step - loss: 1.6895 - acc: 0.3882 - val_loss: 1.5718 - val_acc: 0.4303\n",
            "Epoch 3/40\n",
            "50000/50000 [==============================] - 456s 9ms/step - loss: 1.5672 - acc: 0.4311 - val_loss: 1.5003 - val_acc: 0.4711\n",
            "Epoch 4/40\n",
            "50000/50000 [==============================] - 461s 9ms/step - loss: 1.4710 - acc: 0.4699 - val_loss: 1.3519 - val_acc: 0.5149\n",
            "Epoch 5/40\n",
            "50000/50000 [==============================] - 458s 9ms/step - loss: 1.4002 - acc: 0.4979 - val_loss: 1.3086 - val_acc: 0.5319\n",
            "Epoch 6/40\n",
            "50000/50000 [==============================] - 455s 9ms/step - loss: 1.3456 - acc: 0.5185 - val_loss: 1.2510 - val_acc: 0.5562\n",
            "Epoch 7/40\n",
            "50000/50000 [==============================] - 452s 9ms/step - loss: 1.2964 - acc: 0.5373 - val_loss: 1.2288 - val_acc: 0.5619\n",
            "Epoch 8/40\n",
            "50000/50000 [==============================] - 319s 6ms/step - loss: 1.2549 - acc: 0.5556 - val_loss: 1.1690 - val_acc: 0.5880\n",
            "Epoch 9/40\n",
            "50000/50000 [==============================] - 233s 5ms/step - loss: 1.2135 - acc: 0.5704 - val_loss: 1.1436 - val_acc: 0.5962\n",
            "Epoch 10/40\n",
            "50000/50000 [==============================] - 232s 5ms/step - loss: 1.1807 - acc: 0.5827 - val_loss: 1.1201 - val_acc: 0.6078\n",
            "Epoch 11/40\n",
            "50000/50000 [==============================] - 231s 5ms/step - loss: 1.1494 - acc: 0.5947 - val_loss: 1.0684 - val_acc: 0.6270\n",
            "Epoch 12/40\n",
            "50000/50000 [==============================] - 233s 5ms/step - loss: 1.1169 - acc: 0.6035 - val_loss: 1.0423 - val_acc: 0.6325\n",
            "Epoch 13/40\n",
            "50000/50000 [==============================] - 233s 5ms/step - loss: 1.0909 - acc: 0.6173 - val_loss: 1.0555 - val_acc: 0.6287\n",
            "Epoch 14/40\n",
            "50000/50000 [==============================] - 232s 5ms/step - loss: 1.0617 - acc: 0.6267 - val_loss: 0.9861 - val_acc: 0.6486\n",
            "Epoch 15/40\n",
            "50000/50000 [==============================] - 231s 5ms/step - loss: 1.0374 - acc: 0.6353 - val_loss: 0.9696 - val_acc: 0.6568\n",
            "Epoch 16/40\n",
            "50000/50000 [==============================] - 232s 5ms/step - loss: 1.0163 - acc: 0.6444 - val_loss: 0.9601 - val_acc: 0.6616\n",
            "Epoch 17/40\n",
            "50000/50000 [==============================] - 232s 5ms/step - loss: 0.9935 - acc: 0.6533 - val_loss: 0.9454 - val_acc: 0.6688\n",
            "Epoch 18/40\n",
            "50000/50000 [==============================] - 232s 5ms/step - loss: 0.9735 - acc: 0.6574 - val_loss: 0.9265 - val_acc: 0.6772\n",
            "Epoch 19/40\n",
            "50000/50000 [==============================] - 232s 5ms/step - loss: 0.9538 - acc: 0.6667 - val_loss: 0.9156 - val_acc: 0.6796\n",
            "Epoch 20/40\n",
            "50000/50000 [==============================] - 240s 5ms/step - loss: 0.9363 - acc: 0.6730 - val_loss: 0.9286 - val_acc: 0.6767\n",
            "Epoch 21/40\n",
            "50000/50000 [==============================] - 231s 5ms/step - loss: 0.9203 - acc: 0.6797 - val_loss: 0.8808 - val_acc: 0.6944\n",
            "Epoch 22/40\n",
            "50000/50000 [==============================] - 432s 9ms/step - loss: 0.9076 - acc: 0.6845 - val_loss: 0.9008 - val_acc: 0.6825\n",
            "Epoch 23/40\n",
            "50000/50000 [==============================] - 625s 12ms/step - loss: 0.8869 - acc: 0.6902 - val_loss: 0.8559 - val_acc: 0.7031\n",
            "Epoch 24/40\n",
            "50000/50000 [==============================] - 795s 16ms/step - loss: 0.8731 - acc: 0.6970 - val_loss: 0.8368 - val_acc: 0.7119\n",
            "Epoch 25/40\n",
            "50000/50000 [==============================] - 708s 14ms/step - loss: 0.8594 - acc: 0.7003 - val_loss: 0.8509 - val_acc: 0.7063\n",
            "Epoch 26/40\n",
            "50000/50000 [==============================] - 593s 12ms/step - loss: 0.8469 - acc: 0.7050 - val_loss: 0.8174 - val_acc: 0.7148\n",
            "Epoch 27/40\n",
            "50000/50000 [==============================] - 811s 16ms/step - loss: 0.8284 - acc: 0.7112 - val_loss: 0.7999 - val_acc: 0.7219\n",
            "Epoch 28/40\n",
            "50000/50000 [==============================] - 812s 16ms/step - loss: 0.8131 - acc: 0.7158 - val_loss: 0.8105 - val_acc: 0.7199\n",
            "Epoch 29/40\n",
            "50000/50000 [==============================] - 808s 16ms/step - loss: 0.8045 - acc: 0.7198 - val_loss: 0.8041 - val_acc: 0.7195\n",
            "Epoch 30/40\n",
            "50000/50000 [==============================] - 808s 16ms/step - loss: 0.7908 - acc: 0.7234 - val_loss: 0.7763 - val_acc: 0.7360\n",
            "Epoch 31/40\n",
            "50000/50000 [==============================] - 765s 15ms/step - loss: 0.7792 - acc: 0.7271 - val_loss: 0.7670 - val_acc: 0.7323\n",
            "Epoch 32/40\n",
            "50000/50000 [==============================] - 831s 17ms/step - loss: 0.7647 - acc: 0.7329 - val_loss: 0.7705 - val_acc: 0.7333\n",
            "Epoch 33/40\n",
            "50000/50000 [==============================] - 754s 15ms/step - loss: 0.7551 - acc: 0.7373 - val_loss: 0.7713 - val_acc: 0.7337\n",
            "Epoch 34/40\n",
            "50000/50000 [==============================] - 582s 12ms/step - loss: 0.7468 - acc: 0.7405 - val_loss: 0.7489 - val_acc: 0.7412\n",
            "Epoch 35/40\n",
            "50000/50000 [==============================] - 581s 12ms/step - loss: 0.7330 - acc: 0.7453 - val_loss: 0.7474 - val_acc: 0.7421\n",
            "Epoch 36/40\n",
            "50000/50000 [==============================] - 577s 12ms/step - loss: 0.7253 - acc: 0.7478 - val_loss: 0.7236 - val_acc: 0.7484\n",
            "Epoch 37/40\n",
            "50000/50000 [==============================] - 581s 12ms/step - loss: 0.7172 - acc: 0.7505 - val_loss: 0.7204 - val_acc: 0.7484\n",
            "Epoch 38/40\n",
            "50000/50000 [==============================] - 584s 12ms/step - loss: 0.7030 - acc: 0.7553 - val_loss: 0.7249 - val_acc: 0.7510\n",
            "Epoch 39/40\n",
            "50000/50000 [==============================] - 585s 12ms/step - loss: 0.6923 - acc: 0.7579 - val_loss: 0.7158 - val_acc: 0.7523\n",
            "Epoch 40/40\n",
            "50000/50000 [==============================] - 580s 12ms/step - loss: 0.6842 - acc: 0.7627 - val_loss: 0.7403 - val_acc: 0.7505\n"
          ],
          "name": "stdout"
        }
      ]
    },
    {
      "cell_type": "code",
      "metadata": {
        "id": "qv_IPl8Rrw-M",
        "colab_type": "code",
        "outputId": "b00db889-4320-4c3e-8f50-da1d153d3d6d",
        "colab": {
          "base_uri": "https://localhost:8080/",
          "height": 238
        }
      },
      "source": [
        "# summarize history for accuracy\n",
        "plt.plot(tmodel1.history['acc'])\n",
        "plt.plot(tmodel1.history['val_acc'])\n",
        "plt.title('model accuracy')\n",
        "plt.ylabel('accuracy')\n",
        "plt.xlabel('epoch')\n",
        "plt.legend(['train', 'test'], loc='upper left')\n",
        "plt.show()\n",
        "# summarize history for loss\n",
        "plt.plot(tmodel1.history['loss'])\n",
        "plt.plot(tmodel1.history['val_loss'])\n",
        "plt.title('model loss')\n",
        "plt.ylabel('loss')\n",
        "plt.xlabel('epoch')\n",
        "plt.legend(['train', 'test'], loc='upper left')\n",
        "plt.show()"
      ],
      "execution_count": 0,
      "outputs": [
        {
          "output_type": "error",
          "ename": "NameError",
          "evalue": "ignored",
          "traceback": [
            "\u001b[0;31m---------------------------------------------------------------------------\u001b[0m",
            "\u001b[0;31mNameError\u001b[0m                                 Traceback (most recent call last)",
            "\u001b[0;32m<ipython-input-5-c01c6c05a2ef>\u001b[0m in \u001b[0;36m<module>\u001b[0;34m()\u001b[0m\n\u001b[0;32m----> 1\u001b[0;31m \u001b[0mplt\u001b[0m\u001b[0;34m.\u001b[0m\u001b[0mplot\u001b[0m\u001b[0;34m(\u001b[0m\u001b[0mtmodel1\u001b[0m\u001b[0;34m.\u001b[0m\u001b[0mhistory\u001b[0m\u001b[0;34m[\u001b[0m\u001b[0;34m'acc'\u001b[0m\u001b[0;34m]\u001b[0m\u001b[0;34m)\u001b[0m\u001b[0;34m\u001b[0m\u001b[0;34m\u001b[0m\u001b[0m\n\u001b[0m\u001b[1;32m      2\u001b[0m \u001b[0mplt\u001b[0m\u001b[0;34m.\u001b[0m\u001b[0mplot\u001b[0m\u001b[0;34m(\u001b[0m\u001b[0mtmodel1\u001b[0m\u001b[0;34m.\u001b[0m\u001b[0mhistory\u001b[0m\u001b[0;34m[\u001b[0m\u001b[0;34m'val_acc'\u001b[0m\u001b[0;34m]\u001b[0m\u001b[0;34m)\u001b[0m\u001b[0;34m\u001b[0m\u001b[0;34m\u001b[0m\u001b[0m\n\u001b[1;32m      3\u001b[0m \u001b[0mplt\u001b[0m\u001b[0;34m.\u001b[0m\u001b[0mtitle\u001b[0m\u001b[0;34m(\u001b[0m\u001b[0;34m'model accuracy'\u001b[0m\u001b[0;34m)\u001b[0m\u001b[0;34m\u001b[0m\u001b[0;34m\u001b[0m\u001b[0m\n\u001b[1;32m      4\u001b[0m \u001b[0mplt\u001b[0m\u001b[0;34m.\u001b[0m\u001b[0mylabel\u001b[0m\u001b[0;34m(\u001b[0m\u001b[0;34m'accuracy'\u001b[0m\u001b[0;34m)\u001b[0m\u001b[0;34m\u001b[0m\u001b[0;34m\u001b[0m\u001b[0m\n\u001b[1;32m      5\u001b[0m \u001b[0mplt\u001b[0m\u001b[0;34m.\u001b[0m\u001b[0mxlabel\u001b[0m\u001b[0;34m(\u001b[0m\u001b[0;34m'epoch'\u001b[0m\u001b[0;34m)\u001b[0m\u001b[0;34m\u001b[0m\u001b[0;34m\u001b[0m\u001b[0m\n",
            "\u001b[0;31mNameError\u001b[0m: name 'tmodel1' is not defined"
          ]
        }
      ]
    },
    {
      "cell_type": "markdown",
      "metadata": {
        "id": "CzmZ3G0-dqVL",
        "colab_type": "text"
      },
      "source": [
        "#### Adam Optimizer"
      ]
    },
    {
      "cell_type": "code",
      "metadata": {
        "id": "7fMOEUHvdpOW",
        "colab_type": "code",
        "outputId": "52874f2f-7785-4373-f4df-0b9e59b855ee",
        "colab": {
          "base_uri": "https://localhost:8080/",
          "height": 1000
        }
      },
      "source": [
        "tmodel2 = Sequential()\n",
        "train_model2 = model1(tmodel2,128,40,'adam')"
      ],
      "execution_count": 7,
      "outputs": [
        {
          "output_type": "stream",
          "text": [
            "WARNING: Logging before flag parsing goes to stderr.\n",
            "W0720 08:36:14.939845 139729649719168 deprecation_wrapper.py:119] From /usr/local/lib/python3.6/dist-packages/keras/backend/tensorflow_backend.py:74: The name tf.get_default_graph is deprecated. Please use tf.compat.v1.get_default_graph instead.\n",
            "\n",
            "W0720 08:36:14.983927 139729649719168 deprecation_wrapper.py:119] From /usr/local/lib/python3.6/dist-packages/keras/backend/tensorflow_backend.py:517: The name tf.placeholder is deprecated. Please use tf.compat.v1.placeholder instead.\n",
            "\n",
            "W0720 08:36:14.992692 139729649719168 deprecation_wrapper.py:119] From /usr/local/lib/python3.6/dist-packages/keras/backend/tensorflow_backend.py:4138: The name tf.random_uniform is deprecated. Please use tf.random.uniform instead.\n",
            "\n",
            "W0720 08:36:15.062439 139729649719168 deprecation_wrapper.py:119] From /usr/local/lib/python3.6/dist-packages/keras/backend/tensorflow_backend.py:3976: The name tf.nn.max_pool is deprecated. Please use tf.nn.max_pool2d instead.\n",
            "\n",
            "W0720 08:36:15.066233 139729649719168 deprecation_wrapper.py:119] From /usr/local/lib/python3.6/dist-packages/keras/backend/tensorflow_backend.py:133: The name tf.placeholder_with_default is deprecated. Please use tf.compat.v1.placeholder_with_default instead.\n",
            "\n",
            "W0720 08:36:15.078647 139729649719168 deprecation.py:506] From /usr/local/lib/python3.6/dist-packages/keras/backend/tensorflow_backend.py:3445: calling dropout (from tensorflow.python.ops.nn_ops) with keep_prob is deprecated and will be removed in a future version.\n",
            "Instructions for updating:\n",
            "Please use `rate` instead of `keep_prob`. Rate should be set to `rate = 1 - keep_prob`.\n",
            "W0720 08:36:15.222012 139729649719168 deprecation_wrapper.py:119] From /usr/local/lib/python3.6/dist-packages/keras/optimizers.py:790: The name tf.train.Optimizer is deprecated. Please use tf.compat.v1.train.Optimizer instead.\n",
            "\n",
            "W0720 08:36:15.233823 139729649719168 deprecation_wrapper.py:119] From /usr/local/lib/python3.6/dist-packages/keras/backend/tensorflow_backend.py:3295: The name tf.log is deprecated. Please use tf.math.log instead.\n",
            "\n",
            "W0720 08:36:15.391877 139729649719168 deprecation.py:323] From /usr/local/lib/python3.6/dist-packages/tensorflow/python/ops/math_grad.py:1250: add_dispatch_support.<locals>.wrapper (from tensorflow.python.ops.array_ops) is deprecated and will be removed in a future version.\n",
            "Instructions for updating:\n",
            "Use tf.where in 2.0, which has the same broadcast rule as np.where\n"
          ],
          "name": "stderr"
        },
        {
          "output_type": "stream",
          "text": [
            "Train on 50000 samples, validate on 10000 samples\n",
            "Epoch 1/40\n",
            "50000/50000 [==============================] - 254s 5ms/step - loss: 1.9334 - acc: 0.2900 - val_loss: 1.6449 - val_acc: 0.4074\n",
            "Epoch 2/40\n",
            "50000/50000 [==============================] - 254s 5ms/step - loss: 1.6175 - acc: 0.4101 - val_loss: 1.4761 - val_acc: 0.4655\n",
            "Epoch 3/40\n",
            "50000/50000 [==============================] - 252s 5ms/step - loss: 1.4825 - acc: 0.4594 - val_loss: 1.3609 - val_acc: 0.5095\n",
            "Epoch 4/40\n",
            "50000/50000 [==============================] - 253s 5ms/step - loss: 1.3962 - acc: 0.4948 - val_loss: 1.2904 - val_acc: 0.5409\n",
            "Epoch 5/40\n",
            "50000/50000 [==============================] - 250s 5ms/step - loss: 1.3295 - acc: 0.5223 - val_loss: 1.2294 - val_acc: 0.5660\n",
            "Epoch 6/40\n",
            "50000/50000 [==============================] - 251s 5ms/step - loss: 1.2793 - acc: 0.5445 - val_loss: 1.1909 - val_acc: 0.5759\n",
            "Epoch 7/40\n",
            "50000/50000 [==============================] - 251s 5ms/step - loss: 1.2336 - acc: 0.5621 - val_loss: 1.1484 - val_acc: 0.5968\n",
            "Epoch 8/40\n",
            "50000/50000 [==============================] - 252s 5ms/step - loss: 1.1937 - acc: 0.5782 - val_loss: 1.1161 - val_acc: 0.6101\n",
            "Epoch 9/40\n",
            "50000/50000 [==============================] - 243s 5ms/step - loss: 1.1595 - acc: 0.5917 - val_loss: 1.0922 - val_acc: 0.6202\n",
            "Epoch 10/40\n",
            "50000/50000 [==============================] - 242s 5ms/step - loss: 1.1222 - acc: 0.6040 - val_loss: 1.0416 - val_acc: 0.6371\n",
            "Epoch 11/40\n",
            "50000/50000 [==============================] - 241s 5ms/step - loss: 1.0930 - acc: 0.6158 - val_loss: 1.0093 - val_acc: 0.6522\n",
            "Epoch 12/40\n",
            "50000/50000 [==============================] - 239s 5ms/step - loss: 1.0636 - acc: 0.6265 - val_loss: 1.0001 - val_acc: 0.6491\n",
            "Epoch 13/40\n",
            "50000/50000 [==============================] - 239s 5ms/step - loss: 1.0318 - acc: 0.6380 - val_loss: 0.9591 - val_acc: 0.6659\n",
            "Epoch 14/40\n",
            "50000/50000 [==============================] - 240s 5ms/step - loss: 1.0071 - acc: 0.6467 - val_loss: 0.9466 - val_acc: 0.6711\n",
            "Epoch 15/40\n",
            "50000/50000 [==============================] - 243s 5ms/step - loss: 0.9832 - acc: 0.6553 - val_loss: 0.9490 - val_acc: 0.6701\n",
            "Epoch 16/40\n",
            "50000/50000 [==============================] - 246s 5ms/step - loss: 0.9635 - acc: 0.6634 - val_loss: 0.9304 - val_acc: 0.6763\n",
            "Epoch 17/40\n",
            "50000/50000 [==============================] - 247s 5ms/step - loss: 0.9400 - acc: 0.6711 - val_loss: 0.8843 - val_acc: 0.6933\n",
            "Epoch 18/40\n",
            "50000/50000 [==============================] - 246s 5ms/step - loss: 0.9175 - acc: 0.6809 - val_loss: 0.8732 - val_acc: 0.6995\n",
            "Epoch 19/40\n",
            "50000/50000 [==============================] - 248s 5ms/step - loss: 0.9036 - acc: 0.6846 - val_loss: 0.8609 - val_acc: 0.6980\n",
            "Epoch 20/40\n",
            "50000/50000 [==============================] - 250s 5ms/step - loss: 0.8815 - acc: 0.6934 - val_loss: 0.8547 - val_acc: 0.7040\n",
            "Epoch 21/40\n",
            "50000/50000 [==============================] - 250s 5ms/step - loss: 0.8622 - acc: 0.6997 - val_loss: 0.8342 - val_acc: 0.7112\n",
            "Epoch 22/40\n",
            "50000/50000 [==============================] - 250s 5ms/step - loss: 0.8508 - acc: 0.7036 - val_loss: 0.8185 - val_acc: 0.7177\n",
            "Epoch 23/40\n",
            "50000/50000 [==============================] - 250s 5ms/step - loss: 0.8310 - acc: 0.7091 - val_loss: 0.8131 - val_acc: 0.7173\n",
            "Epoch 24/40\n",
            "50000/50000 [==============================] - 251s 5ms/step - loss: 0.8183 - acc: 0.7124 - val_loss: 0.8023 - val_acc: 0.7232\n",
            "Epoch 25/40\n",
            "50000/50000 [==============================] - 251s 5ms/step - loss: 0.8049 - acc: 0.7186 - val_loss: 0.7858 - val_acc: 0.7283\n",
            "Epoch 26/40\n",
            "50000/50000 [==============================] - 298s 6ms/step - loss: 0.7880 - acc: 0.7254 - val_loss: 0.7700 - val_acc: 0.7362\n",
            "Epoch 27/40\n",
            "50000/50000 [==============================] - 502s 10ms/step - loss: 0.7709 - acc: 0.7323 - val_loss: 0.7852 - val_acc: 0.7269\n",
            "Epoch 28/40\n",
            "50000/50000 [==============================] - 507s 10ms/step - loss: 0.7620 - acc: 0.7345 - val_loss: 0.7676 - val_acc: 0.7344\n",
            "Epoch 29/40\n",
            "50000/50000 [==============================] - 505s 10ms/step - loss: 0.7440 - acc: 0.7401 - val_loss: 0.7454 - val_acc: 0.7416\n",
            "Epoch 30/40\n",
            "50000/50000 [==============================] - 504s 10ms/step - loss: 0.7266 - acc: 0.7479 - val_loss: 0.7521 - val_acc: 0.7375\n",
            "Epoch 31/40\n",
            "50000/50000 [==============================] - 508s 10ms/step - loss: 0.7194 - acc: 0.7491 - val_loss: 0.7326 - val_acc: 0.7445\n",
            "Epoch 32/40\n",
            "50000/50000 [==============================] - 509s 10ms/step - loss: 0.7104 - acc: 0.7506 - val_loss: 0.7230 - val_acc: 0.7491\n",
            "Epoch 33/40\n",
            "50000/50000 [==============================] - 426s 9ms/step - loss: 0.6955 - acc: 0.7555 - val_loss: 0.7426 - val_acc: 0.7436\n",
            "Epoch 34/40\n",
            "50000/50000 [==============================] - 501s 10ms/step - loss: 0.6849 - acc: 0.7610 - val_loss: 0.7125 - val_acc: 0.7533\n",
            "Epoch 35/40\n",
            "50000/50000 [==============================] - 506s 10ms/step - loss: 0.6689 - acc: 0.7646 - val_loss: 0.7057 - val_acc: 0.7547\n",
            "Epoch 36/40\n",
            "50000/50000 [==============================] - 500s 10ms/step - loss: 0.6667 - acc: 0.7651 - val_loss: 0.7125 - val_acc: 0.7527\n",
            "Epoch 37/40\n",
            "50000/50000 [==============================] - 499s 10ms/step - loss: 0.6525 - acc: 0.7716 - val_loss: 0.7053 - val_acc: 0.7561\n",
            "Epoch 38/40\n",
            "50000/50000 [==============================] - 502s 10ms/step - loss: 0.6373 - acc: 0.7762 - val_loss: 0.6949 - val_acc: 0.7595\n",
            "Epoch 39/40\n",
            "50000/50000 [==============================] - 501s 10ms/step - loss: 0.6270 - acc: 0.7792 - val_loss: 0.6882 - val_acc: 0.7614\n",
            "Epoch 40/40\n",
            "50000/50000 [==============================] - 284s 6ms/step - loss: 0.6216 - acc: 0.7820 - val_loss: 0.6910 - val_acc: 0.7613\n"
          ],
          "name": "stdout"
        }
      ]
    },
    {
      "cell_type": "code",
      "metadata": {
        "id": "Raq5EnEjEnL4",
        "colab_type": "code",
        "colab": {}
      },
      "source": [
        "# train_model2"
      ],
      "execution_count": 0,
      "outputs": []
    },
    {
      "cell_type": "code",
      "metadata": {
        "id": "HdgUICSJfBml",
        "colab_type": "code",
        "outputId": "bdce6c40-fec5-4250-8a39-c97068fd39bc",
        "colab": {
          "base_uri": "https://localhost:8080/",
          "height": 572
        }
      },
      "source": [
        "from matplotlib import pyplot as plt\n",
        "# summarize history for accuracy\n",
        "plt.plot(train_model2.history['acc'])\n",
        "plt.plot(train_model2.history['val_acc'])\n",
        "plt.title('model accuracy')\n",
        "plt.ylabel('accuracy')\n",
        "plt.xlabel('epoch')\n",
        "plt.legend(['train', 'test'], loc='upper left')\n",
        "plt.show()\n",
        "# summarize history for loss\n",
        "plt.plot(train_model2.history['loss'])\n",
        "plt.plot(train_model2.history['val_loss'])\n",
        "plt.title('model loss')\n",
        "plt.ylabel('loss')\n",
        "plt.xlabel('epoch')\n",
        "plt.legend(['train', 'test'], loc='upper left')\n",
        "plt.show()"
      ],
      "execution_count": 9,
      "outputs": [
        {
          "output_type": "display_data",
          "data": {
            "image/png": "[encoded data removed]",
            "text/plain": [
              "<Figure size 432x288 with 1 Axes>"
            ]
          },
          "metadata": {
            "tags": []
          }
        },
        {
          "output_type": "display_data",
          "data": {
            "image/png": "[encoded data removed]",
            "text/plain": [
              "<Figure size 432x288 with 1 Axes>"
            ]
          },
          "metadata": {
            "tags": []
          }
        }
      ]
    },
    {
      "cell_type": "markdown",
      "metadata": {
        "id": "diwh4G_ogK-g",
        "colab_type": "text"
      },
      "source": [
        "#### Stochastic Gradient Descent optimizer"
      ]
    },
    {
      "cell_type": "code",
      "metadata": {
        "id": "WD-hIo0ceqs1",
        "colab_type": "code",
        "outputId": "1086f4d0-755f-4126-bcfe-580ad8f4f7ed",
        "colab": {
          "base_uri": "https://localhost:8080/",
          "height": 1000
        }
      },
      "source": [
        "tmodel3 = Sequential()\n",
        "train_model3 = model1(tmodel3,128,40,'sgd')"
      ],
      "execution_count": 0,
      "outputs": [
        {
          "output_type": "stream",
          "text": [
            "W0628 07:54:22.321609 139714845165440 deprecation_wrapper.py:119] From /usr/local/lib/python3.6/dist-packages/keras/backend/tensorflow_backend.py:517: The name tf.placeholder is deprecated. Please use tf.compat.v1.placeholder instead.\n",
            "\n",
            "W0628 07:54:22.343479 139714845165440 deprecation_wrapper.py:119] From /usr/local/lib/python3.6/dist-packages/keras/backend/tensorflow_backend.py:4138: The name tf.random_uniform is deprecated. Please use tf.random.uniform instead.\n",
            "\n",
            "W0628 07:54:22.420454 139714845165440 deprecation_wrapper.py:119] From /usr/local/lib/python3.6/dist-packages/keras/backend/tensorflow_backend.py:3976: The name tf.nn.max_pool is deprecated. Please use tf.nn.max_pool2d instead.\n",
            "\n",
            "W0628 07:54:22.424273 139714845165440 deprecation_wrapper.py:119] From /usr/local/lib/python3.6/dist-packages/keras/backend/tensorflow_backend.py:133: The name tf.placeholder_with_default is deprecated. Please use tf.compat.v1.placeholder_with_default instead.\n",
            "\n",
            "W0628 07:54:22.438910 139714845165440 deprecation.py:506] From /usr/local/lib/python3.6/dist-packages/keras/backend/tensorflow_backend.py:3445: calling dropout (from tensorflow.python.ops.nn_ops) with keep_prob is deprecated and will be removed in a future version.\n",
            "Instructions for updating:\n",
            "Please use `rate` instead of `keep_prob`. Rate should be set to `rate = 1 - keep_prob`.\n",
            "W0628 07:54:22.580860 139714845165440 deprecation_wrapper.py:119] From /usr/local/lib/python3.6/dist-packages/keras/optimizers.py:790: The name tf.train.Optimizer is deprecated. Please use tf.compat.v1.train.Optimizer instead.\n",
            "\n",
            "W0628 07:54:22.591817 139714845165440 deprecation_wrapper.py:119] From /usr/local/lib/python3.6/dist-packages/keras/backend/tensorflow_backend.py:3295: The name tf.log is deprecated. Please use tf.math.log instead.\n",
            "\n",
            "W0628 07:54:22.748669 139714845165440 deprecation.py:323] From /usr/local/lib/python3.6/dist-packages/tensorflow/python/ops/math_grad.py:1250: add_dispatch_support.<locals>.wrapper (from tensorflow.python.ops.array_ops) is deprecated and will be removed in a future version.\n",
            "Instructions for updating:\n",
            "Use tf.where in 2.0, which has the same broadcast rule as np.where\n"
          ],
          "name": "stderr"
        },
        {
          "output_type": "stream",
          "text": [
            "Train on 50000 samples, validate on 10000 samples\n",
            "Epoch 1/40\n",
            "50000/50000 [==============================] - 238s 5ms/step - loss: 2.2486 - acc: 0.1511 - val_loss: 2.1181 - val_acc: 0.2535\n",
            "Epoch 2/40\n",
            "50000/50000 [==============================] - 443s 9ms/step - loss: 2.0584 - acc: 0.2405 - val_loss: 1.9587 - val_acc: 0.2897\n",
            "Epoch 3/40\n",
            "50000/50000 [==============================] - 468s 9ms/step - loss: 1.9850 - acc: 0.2781 - val_loss: 2.0010 - val_acc: 0.2870\n",
            "Epoch 4/40\n",
            "50000/50000 [==============================] - 470s 9ms/step - loss: 1.8959 - acc: 0.3151 - val_loss: 1.7545 - val_acc: 0.3850\n",
            "Epoch 5/40\n",
            "50000/50000 [==============================] - 469s 9ms/step - loss: 1.7900 - acc: 0.3507 - val_loss: 1.6533 - val_acc: 0.4058\n",
            "Epoch 6/40\n",
            "50000/50000 [==============================] - 471s 9ms/step - loss: 1.7158 - acc: 0.3740 - val_loss: 1.6056 - val_acc: 0.4177\n",
            "Epoch 7/40\n",
            "50000/50000 [==============================] - 470s 9ms/step - loss: 1.6628 - acc: 0.3940 - val_loss: 1.5482 - val_acc: 0.4367\n",
            "Epoch 8/40\n",
            "50000/50000 [==============================] - 473s 9ms/step - loss: 1.6120 - acc: 0.4101 - val_loss: 1.4994 - val_acc: 0.4559\n",
            "Epoch 9/40\n",
            "50000/50000 [==============================] - 475s 10ms/step - loss: 1.5709 - acc: 0.4261 - val_loss: 1.4706 - val_acc: 0.4663\n",
            "Epoch 10/40\n",
            "50000/50000 [==============================] - 476s 10ms/step - loss: 1.5288 - acc: 0.4418 - val_loss: 1.4552 - val_acc: 0.4796\n",
            "Epoch 11/40\n",
            "50000/50000 [==============================] - 473s 9ms/step - loss: 1.4913 - acc: 0.4590 - val_loss: 1.3740 - val_acc: 0.5018\n",
            "Epoch 12/40\n",
            "50000/50000 [==============================] - 472s 9ms/step - loss: 1.4569 - acc: 0.4700 - val_loss: 1.3691 - val_acc: 0.5040\n",
            "Epoch 13/40\n",
            "50000/50000 [==============================] - 473s 9ms/step - loss: 1.4243 - acc: 0.4820 - val_loss: 1.3344 - val_acc: 0.5152\n",
            "Epoch 14/40\n",
            "50000/50000 [==============================] - 472s 9ms/step - loss: 1.3987 - acc: 0.4943 - val_loss: 1.2958 - val_acc: 0.5324\n",
            "Epoch 15/40\n",
            "50000/50000 [==============================] - 472s 9ms/step - loss: 1.3731 - acc: 0.5051 - val_loss: 1.2858 - val_acc: 0.5416\n",
            "Epoch 16/40\n",
            "50000/50000 [==============================] - 474s 9ms/step - loss: 1.3501 - acc: 0.5158 - val_loss: 1.2559 - val_acc: 0.5541\n",
            "Epoch 17/40\n",
            "50000/50000 [==============================] - 476s 10ms/step - loss: 1.3258 - acc: 0.5259 - val_loss: 1.2404 - val_acc: 0.5638\n",
            "Epoch 18/40\n",
            "50000/50000 [==============================] - 474s 9ms/step - loss: 1.3110 - acc: 0.5314 - val_loss: 1.2063 - val_acc: 0.5751\n",
            "Epoch 19/40\n",
            "50000/50000 [==============================] - 477s 10ms/step - loss: 1.2877 - acc: 0.5395 - val_loss: 1.2420 - val_acc: 0.5635\n",
            "Epoch 20/40\n",
            "50000/50000 [==============================] - 475s 10ms/step - loss: 1.2714 - acc: 0.5461 - val_loss: 1.1837 - val_acc: 0.5800\n",
            "Epoch 21/40\n",
            "50000/50000 [==============================] - 473s 9ms/step - loss: 1.2480 - acc: 0.5541 - val_loss: 1.1721 - val_acc: 0.5861\n",
            "Epoch 22/40\n",
            "50000/50000 [==============================] - 421s 8ms/step - loss: 1.2346 - acc: 0.5602 - val_loss: 1.1671 - val_acc: 0.5810\n",
            "Epoch 23/40\n",
            "50000/50000 [==============================] - 238s 5ms/step - loss: 1.2149 - acc: 0.5664 - val_loss: 1.1197 - val_acc: 0.6070\n",
            "Epoch 24/40\n",
            "50000/50000 [==============================] - 237s 5ms/step - loss: 1.1993 - acc: 0.5725 - val_loss: 1.1172 - val_acc: 0.6094\n",
            "Epoch 25/40\n",
            "50000/50000 [==============================] - 237s 5ms/step - loss: 1.1837 - acc: 0.5779 - val_loss: 1.1010 - val_acc: 0.6156\n",
            "Epoch 26/40\n",
            "50000/50000 [==============================] - 237s 5ms/step - loss: 1.1637 - acc: 0.5845 - val_loss: 1.0636 - val_acc: 0.6283\n",
            "Epoch 27/40\n",
            "50000/50000 [==============================] - 240s 5ms/step - loss: 1.1509 - acc: 0.5897 - val_loss: 1.0673 - val_acc: 0.6244\n",
            "Epoch 28/40\n",
            "50000/50000 [==============================] - 304s 6ms/step - loss: 1.1319 - acc: 0.5987 - val_loss: 1.0649 - val_acc: 0.6211\n",
            "Epoch 29/40\n",
            "50000/50000 [==============================] - 476s 10ms/step - loss: 1.1222 - acc: 0.6001 - val_loss: 1.0416 - val_acc: 0.6342\n",
            "Epoch 30/40\n",
            "50000/50000 [==============================] - 476s 10ms/step - loss: 1.1079 - acc: 0.6069 - val_loss: 1.0161 - val_acc: 0.6435\n",
            "Epoch 31/40\n",
            "50000/50000 [==============================] - 477s 10ms/step - loss: 1.0904 - acc: 0.6149 - val_loss: 1.0114 - val_acc: 0.6453\n",
            "Epoch 32/40\n",
            "50000/50000 [==============================] - 476s 10ms/step - loss: 1.0818 - acc: 0.6165 - val_loss: 1.0157 - val_acc: 0.6372\n",
            "Epoch 33/40\n",
            "50000/50000 [==============================] - 476s 10ms/step - loss: 1.0698 - acc: 0.6210 - val_loss: 1.0626 - val_acc: 0.6296\n",
            "Epoch 34/40\n",
            "50000/50000 [==============================] - 477s 10ms/step - loss: 1.0607 - acc: 0.6252 - val_loss: 0.9748 - val_acc: 0.6552\n",
            "Epoch 35/40\n",
            "50000/50000 [==============================] - 476s 10ms/step - loss: 1.0486 - acc: 0.6277 - val_loss: 0.9908 - val_acc: 0.6501\n",
            "Epoch 36/40\n",
            "50000/50000 [==============================] - 477s 10ms/step - loss: 1.0381 - acc: 0.6317 - val_loss: 0.9546 - val_acc: 0.6677\n",
            "Epoch 37/40\n",
            "50000/50000 [==============================] - 478s 10ms/step - loss: 1.0257 - acc: 0.6372 - val_loss: 1.0003 - val_acc: 0.6445\n",
            "Epoch 38/40\n",
            "50000/50000 [==============================] - 478s 10ms/step - loss: 1.0131 - acc: 0.6425 - val_loss: 0.9312 - val_acc: 0.6731\n",
            "Epoch 39/40\n",
            "50000/50000 [==============================] - 478s 10ms/step - loss: 1.0063 - acc: 0.6433 - val_loss: 0.9250 - val_acc: 0.6750\n",
            "Epoch 40/40\n",
            "50000/50000 [==============================] - 480s 10ms/step - loss: 0.9919 - acc: 0.6477 - val_loss: 0.9349 - val_acc: 0.6712\n"
          ],
          "name": "stdout"
        }
      ]
    },
    {
      "cell_type": "code",
      "metadata": {
        "id": "K1boN68kfMoG",
        "colab_type": "code",
        "outputId": "29dac503-f0ca-4233-88a0-8124bfae05dd",
        "colab": {
          "base_uri": "https://localhost:8080/",
          "height": 572
        }
      },
      "source": [
        "# summarize history for accuracy\n",
        "plt.plot(train_model3.history['acc'])\n",
        "plt.plot(train_model3.history['val_acc'])\n",
        "plt.title('model accuracy')\n",
        "plt.ylabel('accuracy')\n",
        "plt.xlabel('epoch')\n",
        "plt.legend(['train', 'test'], loc='upper left')\n",
        "plt.show()\n",
        "# summarize history for loss\n",
        "plt.plot(train_model3.history['loss'])\n",
        "plt.plot(train_model3.history['val_loss'])\n",
        "plt.title('model loss')\n",
        "plt.ylabel('loss')\n",
        "plt.xlabel('epoch')\n",
        "plt.legend(['train', 'test'], loc='upper left')\n",
        "plt.show()"
      ],
      "execution_count": 0,
      "outputs": [
        {
          "output_type": "display_data",
          "data": {
            "image/png": "[encoded data removed]",
            "text/plain": [
              "<Figure size 432x288 with 1 Axes>"
            ]
          },
          "metadata": {
            "tags": []
          }
        },
        {
          "output_type": "display_data",
          "data": {
            "image/png": "[encoded data removed]",
            "text/plain": [
              "<Figure size 432x288 with 1 Axes>"
            ]
          },
          "metadata": {
            "tags": []
          }
        }
      ]
    },
    {
      "cell_type": "markdown",
      "metadata": {
        "id": "jFYBb54ugg2e",
        "colab_type": "text"
      },
      "source": [
        "#### Adagrad Optimizer"
      ]
    },
    {
      "cell_type": "code",
      "metadata": {
        "id": "My74a8O_erma",
        "colab_type": "code",
        "outputId": "f96c5a0a-873f-4504-c78a-6a0ef5e56615",
        "colab": {
          "base_uri": "https://localhost:8080/",
          "height": 1000
        }
      },
      "source": [
        "tmodel4 = Sequential()\n",
        "train_model4 = model1(tmodel4,32,40,'adagrad')"
      ],
      "execution_count": 0,
      "outputs": [
        {
          "output_type": "stream",
          "text": [
            "Train on 50000 samples, validate on 10000 samples\n",
            "Epoch 1/40\n",
            "50000/50000 [==============================] - 515s 10ms/step - loss: 14.5000 - acc: 0.0999 - val_loss: 14.5063 - val_acc: 0.1000\n",
            "Epoch 2/40\n",
            "50000/50000 [==============================] - 523s 10ms/step - loss: 14.5063 - acc: 0.1000 - val_loss: 14.5063 - val_acc: 0.1000\n",
            "Epoch 3/40\n",
            "50000/50000 [==============================] - 521s 10ms/step - loss: 14.5063 - acc: 0.1000 - val_loss: 14.5063 - val_acc: 0.1000\n",
            "Epoch 4/40\n",
            "50000/50000 [==============================] - 509s 10ms/step - loss: 14.5063 - acc: 0.1000 - val_loss: 14.5063 - val_acc: 0.1000\n",
            "Epoch 5/40\n",
            "50000/50000 [==============================] - 521s 10ms/step - loss: 14.5063 - acc: 0.1000 - val_loss: 14.5063 - val_acc: 0.1000\n",
            "Epoch 6/40\n",
            "50000/50000 [==============================] - 521s 10ms/step - loss: 14.5063 - acc: 0.1000 - val_loss: 14.5063 - val_acc: 0.1000\n",
            "Epoch 7/40\n",
            "50000/50000 [==============================] - 527s 11ms/step - loss: 14.5063 - acc: 0.1000 - val_loss: 14.5063 - val_acc: 0.1000\n",
            "Epoch 8/40\n",
            "50000/50000 [==============================] - 524s 10ms/step - loss: 14.5063 - acc: 0.1000 - val_loss: 14.5063 - val_acc: 0.1000\n",
            "Epoch 9/40\n",
            "50000/50000 [==============================] - 521s 10ms/step - loss: 14.5063 - acc: 0.1000 - val_loss: 14.5063 - val_acc: 0.1000\n",
            "Epoch 10/40\n",
            "50000/50000 [==============================] - 522s 10ms/step - loss: 14.5063 - acc: 0.1000 - val_loss: 14.5063 - val_acc: 0.1000\n",
            "Epoch 11/40\n",
            "50000/50000 [==============================] - 521s 10ms/step - loss: 14.5063 - acc: 0.1000 - val_loss: 14.5063 - val_acc: 0.1000\n",
            "Epoch 12/40\n",
            "50000/50000 [==============================] - 522s 10ms/step - loss: 14.5063 - acc: 0.1000 - val_loss: 14.5063 - val_acc: 0.1000\n",
            "Epoch 13/40\n",
            "50000/50000 [==============================] - 520s 10ms/step - loss: 14.5063 - acc: 0.1000 - val_loss: 14.5063 - val_acc: 0.1000\n",
            "Epoch 14/40\n",
            "50000/50000 [==============================] - 519s 10ms/step - loss: 14.5063 - acc: 0.1000 - val_loss: 14.5063 - val_acc: 0.1000\n",
            "Epoch 15/40\n",
            "50000/50000 [==============================] - 521s 10ms/step - loss: 14.5063 - acc: 0.1000 - val_loss: 14.5063 - val_acc: 0.1000\n",
            "Epoch 16/40\n",
            "50000/50000 [==============================] - 521s 10ms/step - loss: 14.5063 - acc: 0.1000 - val_loss: 14.5063 - val_acc: 0.1000\n",
            "Epoch 17/40\n",
            "50000/50000 [==============================] - 491s 10ms/step - loss: 14.5063 - acc: 0.1000 - val_loss: 14.5063 - val_acc: 0.1000\n",
            "Epoch 18/40\n",
            "50000/50000 [==============================] - 260s 5ms/step - loss: 14.5063 - acc: 0.1000 - val_loss: 14.5063 - val_acc: 0.1000\n",
            "Epoch 19/40\n",
            "50000/50000 [==============================] - 259s 5ms/step - loss: 14.5063 - acc: 0.1000 - val_loss: 14.5063 - val_acc: 0.1000\n",
            "Epoch 20/40\n",
            "50000/50000 [==============================] - 257s 5ms/step - loss: 14.5063 - acc: 0.1000 - val_loss: 14.5063 - val_acc: 0.1000\n",
            "Epoch 21/40\n",
            "50000/50000 [==============================] - 267s 5ms/step - loss: 14.5063 - acc: 0.1000 - val_loss: 14.5063 - val_acc: 0.1000\n",
            "Epoch 22/40\n",
            "50000/50000 [==============================] - 260s 5ms/step - loss: 14.5063 - acc: 0.1000 - val_loss: 14.5063 - val_acc: 0.1000\n",
            "Epoch 23/40\n",
            "50000/50000 [==============================] - 260s 5ms/step - loss: 14.5063 - acc: 0.1000 - val_loss: 14.5063 - val_acc: 0.1000\n",
            "Epoch 24/40\n",
            "50000/50000 [==============================] - 260s 5ms/step - loss: 14.5063 - acc: 0.1000 - val_loss: 14.5063 - val_acc: 0.1000\n",
            "Epoch 25/40\n",
            "50000/50000 [==============================] - 259s 5ms/step - loss: 14.5063 - acc: 0.1000 - val_loss: 14.5063 - val_acc: 0.1000\n",
            "Epoch 26/40\n",
            "50000/50000 [==============================] - 259s 5ms/step - loss: 14.5063 - acc: 0.1000 - val_loss: 14.5063 - val_acc: 0.1000\n",
            "Epoch 27/40\n",
            "50000/50000 [==============================] - 260s 5ms/step - loss: 14.5063 - acc: 0.1000 - val_loss: 14.5063 - val_acc: 0.1000\n",
            "Epoch 28/40\n",
            "50000/50000 [==============================] - 261s 5ms/step - loss: 14.5063 - acc: 0.1000 - val_loss: 14.5063 - val_acc: 0.1000\n",
            "Epoch 29/40\n",
            "50000/50000 [==============================] - 262s 5ms/step - loss: 14.5063 - acc: 0.1000 - val_loss: 14.5063 - val_acc: 0.1000\n",
            "Epoch 30/40\n",
            "50000/50000 [==============================] - 261s 5ms/step - loss: 14.5063 - acc: 0.1000 - val_loss: 14.5063 - val_acc: 0.1000\n",
            "Epoch 31/40\n",
            "50000/50000 [==============================] - 260s 5ms/step - loss: 14.5063 - acc: 0.1000 - val_loss: 14.5063 - val_acc: 0.1000\n",
            "Epoch 32/40\n",
            "50000/50000 [==============================] - 260s 5ms/step - loss: 14.5063 - acc: 0.1000 - val_loss: 14.5063 - val_acc: 0.1000\n",
            "Epoch 33/40\n",
            "50000/50000 [==============================] - 260s 5ms/step - loss: 14.5063 - acc: 0.1000 - val_loss: 14.5063 - val_acc: 0.1000\n",
            "Epoch 34/40\n",
            "50000/50000 [==============================] - 260s 5ms/step - loss: 14.5063 - acc: 0.1000 - val_loss: 14.5063 - val_acc: 0.1000\n",
            "Epoch 35/40\n",
            "50000/50000 [==============================] - 260s 5ms/step - loss: 14.5063 - acc: 0.1000 - val_loss: 14.5063 - val_acc: 0.1000\n",
            "Epoch 36/40\n",
            "50000/50000 [==============================] - 261s 5ms/step - loss: 14.5063 - acc: 0.1000 - val_loss: 14.5063 - val_acc: 0.1000\n",
            "Epoch 37/40\n",
            "50000/50000 [==============================] - 260s 5ms/step - loss: 14.5063 - acc: 0.1000 - val_loss: 14.5063 - val_acc: 0.1000\n",
            "Epoch 38/40\n",
            "17472/50000 [=========>....................] - ETA: 2:42 - loss: 14.4963 - acc: 0.1006Buffered data was truncated after reaching the output size limit."
          ],
          "name": "stdout"
        }
      ]
    },
    {
      "cell_type": "code",
      "metadata": {
        "id": "V1G94Zy6fXXP",
        "colab_type": "code",
        "colab": {}
      },
      "source": [
        "# summarize history for accuracy\n",
        "plt.plot(train_model4.history['acc'])\n",
        "plt.plot(train_model4.history['val_acc'])\n",
        "plt.title('model accuracy')\n",
        "plt.ylabel('accuracy')\n",
        "plt.xlabel('epoch')\n",
        "plt.legend(['train', 'test'], loc='upper left')\n",
        "plt.show()\n",
        "# summarize history for loss\n",
        "plt.plot(train_model4.history['loss'])\n",
        "plt.plot(train_model4.history['val_loss'])\n",
        "plt.title('model loss')\n",
        "plt.ylabel('loss')\n",
        "plt.xlabel('epoch')\n",
        "plt.legend(['train', 'test'], loc='upper left')\n",
        "plt.show()"
      ],
      "execution_count": 0,
      "outputs": []
    },
    {
      "cell_type": "markdown",
      "metadata": {
        "id": "uxFw3TaaglFK",
        "colab_type": "text"
      },
      "source": [
        "#### Adadelta Optimizer"
      ]
    },
    {
      "cell_type": "code",
      "metadata": {
        "id": "bpUC3l4lesUk",
        "colab_type": "code",
        "outputId": "942ab28f-5ac5-4c8e-bc4a-f50b0aebb106",
        "colab": {
          "base_uri": "https://localhost:8080/",
          "height": 1000
        }
      },
      "source": [
        "tmodel5 = Sequential()\n",
        "train_model5 = model1(tmodel5,32,40,'adadelta')"
      ],
      "execution_count": 0,
      "outputs": [
        {
          "output_type": "stream",
          "text": [
            "WARNING: Logging before flag parsing goes to stderr.\n",
            "W0702 08:28:27.366836 140155350448000 deprecation_wrapper.py:119] From /usr/local/lib/python3.6/dist-packages/keras/backend/tensorflow_backend.py:74: The name tf.get_default_graph is deprecated. Please use tf.compat.v1.get_default_graph instead.\n",
            "\n",
            "W0702 08:28:27.408641 140155350448000 deprecation_wrapper.py:119] From /usr/local/lib/python3.6/dist-packages/keras/backend/tensorflow_backend.py:517: The name tf.placeholder is deprecated. Please use tf.compat.v1.placeholder instead.\n",
            "\n",
            "W0702 08:28:27.415416 140155350448000 deprecation_wrapper.py:119] From /usr/local/lib/python3.6/dist-packages/keras/backend/tensorflow_backend.py:4138: The name tf.random_uniform is deprecated. Please use tf.random.uniform instead.\n",
            "\n",
            "W0702 08:28:27.471290 140155350448000 deprecation_wrapper.py:119] From /usr/local/lib/python3.6/dist-packages/keras/backend/tensorflow_backend.py:3976: The name tf.nn.max_pool is deprecated. Please use tf.nn.max_pool2d instead.\n",
            "\n",
            "W0702 08:28:27.474386 140155350448000 deprecation_wrapper.py:119] From /usr/local/lib/python3.6/dist-packages/keras/backend/tensorflow_backend.py:133: The name tf.placeholder_with_default is deprecated. Please use tf.compat.v1.placeholder_with_default instead.\n",
            "\n",
            "W0702 08:28:27.487709 140155350448000 deprecation.py:506] From /usr/local/lib/python3.6/dist-packages/keras/backend/tensorflow_backend.py:3445: calling dropout (from tensorflow.python.ops.nn_ops) with keep_prob is deprecated and will be removed in a future version.\n",
            "Instructions for updating:\n",
            "Please use `rate` instead of `keep_prob`. Rate should be set to `rate = 1 - keep_prob`.\n",
            "W0702 08:28:27.620411 140155350448000 deprecation_wrapper.py:119] From /usr/local/lib/python3.6/dist-packages/keras/optimizers.py:790: The name tf.train.Optimizer is deprecated. Please use tf.compat.v1.train.Optimizer instead.\n",
            "\n",
            "W0702 08:28:27.631594 140155350448000 deprecation_wrapper.py:119] From /usr/local/lib/python3.6/dist-packages/keras/backend/tensorflow_backend.py:3295: The name tf.log is deprecated. Please use tf.math.log instead.\n",
            "\n",
            "W0702 08:28:27.774757 140155350448000 deprecation.py:323] From /usr/local/lib/python3.6/dist-packages/tensorflow/python/ops/math_grad.py:1250: add_dispatch_support.<locals>.wrapper (from tensorflow.python.ops.array_ops) is deprecated and will be removed in a future version.\n",
            "Instructions for updating:\n",
            "Use tf.where in 2.0, which has the same broadcast rule as np.where\n"
          ],
          "name": "stderr"
        },
        {
          "output_type": "stream",
          "text": [
            "Train on 50000 samples, validate on 10000 samples\n",
            "Epoch 1/40\n",
            "50000/50000 [==============================] - 273s 5ms/step - loss: 1.6601 - acc: 0.3981 - val_loss: 1.4455 - val_acc: 0.4965\n",
            "Epoch 2/40\n",
            "50000/50000 [==============================] - 273s 5ms/step - loss: 1.2456 - acc: 0.5604 - val_loss: 1.1655 - val_acc: 0.5807\n",
            "Epoch 3/40\n",
            "50000/50000 [==============================] - 273s 5ms/step - loss: 1.0777 - acc: 0.6253 - val_loss: 0.9235 - val_acc: 0.6800\n",
            "Epoch 4/40\n",
            "50000/50000 [==============================] - 272s 5ms/step - loss: 0.9779 - acc: 0.6605 - val_loss: 0.9279 - val_acc: 0.6816\n",
            "Epoch 5/40\n",
            "50000/50000 [==============================] - 275s 5ms/step - loss: 0.9079 - acc: 0.6885 - val_loss: 0.8514 - val_acc: 0.7104\n",
            "Epoch 6/40\n",
            "50000/50000 [==============================] - 276s 6ms/step - loss: 0.8683 - acc: 0.7026 - val_loss: 0.9475 - val_acc: 0.6870\n",
            "Epoch 7/40\n",
            "50000/50000 [==============================] - 275s 5ms/step - loss: 0.8366 - acc: 0.7124 - val_loss: 0.7919 - val_acc: 0.7282\n",
            "Epoch 8/40\n",
            "50000/50000 [==============================] - 273s 5ms/step - loss: 0.8015 - acc: 0.7271 - val_loss: 0.7872 - val_acc: 0.7421\n",
            "Epoch 9/40\n",
            "50000/50000 [==============================] - 274s 5ms/step - loss: 0.7792 - acc: 0.7355 - val_loss: 0.7477 - val_acc: 0.7483\n",
            "Epoch 10/40\n",
            "50000/50000 [==============================] - 274s 5ms/step - loss: 0.7762 - acc: 0.7370 - val_loss: 0.7765 - val_acc: 0.7481\n",
            "Epoch 11/40\n",
            "50000/50000 [==============================] - 275s 6ms/step - loss: 0.7683 - acc: 0.7404 - val_loss: 0.7617 - val_acc: 0.7474\n",
            "Epoch 12/40\n",
            "50000/50000 [==============================] - 276s 6ms/step - loss: 0.7652 - acc: 0.7447 - val_loss: 0.8027 - val_acc: 0.7365\n",
            "Epoch 13/40\n",
            "50000/50000 [==============================] - 276s 6ms/step - loss: 0.7530 - acc: 0.7478 - val_loss: 0.8325 - val_acc: 0.7395\n",
            "Epoch 14/40\n",
            "50000/50000 [==============================] - 277s 6ms/step - loss: 0.7493 - acc: 0.7509 - val_loss: 0.8332 - val_acc: 0.7468\n",
            "Epoch 15/40\n",
            "50000/50000 [==============================] - 277s 6ms/step - loss: 0.7407 - acc: 0.7537 - val_loss: 0.7660 - val_acc: 0.7586\n",
            "Epoch 16/40\n",
            "50000/50000 [==============================] - 277s 6ms/step - loss: 0.7413 - acc: 0.7537 - val_loss: 0.8369 - val_acc: 0.7347\n",
            "Epoch 17/40\n",
            "50000/50000 [==============================] - 276s 6ms/step - loss: 0.7382 - acc: 0.7561 - val_loss: 0.8855 - val_acc: 0.7402\n",
            "Epoch 18/40\n",
            "50000/50000 [==============================] - 277s 6ms/step - loss: 0.7367 - acc: 0.7593 - val_loss: 0.7546 - val_acc: 0.7525\n",
            "Epoch 19/40\n",
            "50000/50000 [==============================] - 276s 6ms/step - loss: 0.7356 - acc: 0.7589 - val_loss: 0.7338 - val_acc: 0.7663\n",
            "Epoch 20/40\n",
            "50000/50000 [==============================] - 276s 6ms/step - loss: 0.7451 - acc: 0.7550 - val_loss: 0.7442 - val_acc: 0.7537\n",
            "Epoch 21/40\n",
            "50000/50000 [==============================] - 277s 6ms/step - loss: 0.7372 - acc: 0.7592 - val_loss: 0.7822 - val_acc: 0.7455\n",
            "Epoch 22/40\n",
            "50000/50000 [==============================] - 278s 6ms/step - loss: 0.7447 - acc: 0.7559 - val_loss: 0.8692 - val_acc: 0.7364\n",
            "Epoch 23/40\n",
            "50000/50000 [==============================] - 277s 6ms/step - loss: 0.7511 - acc: 0.7557 - val_loss: 0.8270 - val_acc: 0.7360\n",
            "Epoch 24/40\n",
            "50000/50000 [==============================] - 278s 6ms/step - loss: 0.7476 - acc: 0.7574 - val_loss: 0.7896 - val_acc: 0.7524\n",
            "Epoch 25/40\n",
            "50000/50000 [==============================] - 278s 6ms/step - loss: 0.7582 - acc: 0.7545 - val_loss: 0.7551 - val_acc: 0.7588\n",
            "Epoch 26/40\n",
            "50000/50000 [==============================] - 278s 6ms/step - loss: 0.7591 - acc: 0.7541 - val_loss: 0.7970 - val_acc: 0.7369\n",
            "Epoch 27/40\n",
            "50000/50000 [==============================] - 277s 6ms/step - loss: 0.7581 - acc: 0.7545 - val_loss: 0.8288 - val_acc: 0.7482\n",
            "Epoch 28/40\n",
            "50000/50000 [==============================] - 277s 6ms/step - loss: 0.7694 - acc: 0.7523 - val_loss: 0.7643 - val_acc: 0.7518\n",
            "Epoch 29/40\n",
            "50000/50000 [==============================] - 277s 6ms/step - loss: 0.7727 - acc: 0.7538 - val_loss: 0.8318 - val_acc: 0.7316\n",
            "Epoch 30/40\n",
            "50000/50000 [==============================] - 278s 6ms/step - loss: 0.7850 - acc: 0.7506 - val_loss: 0.8033 - val_acc: 0.7379\n",
            "Epoch 31/40\n",
            "50000/50000 [==============================] - 278s 6ms/step - loss: 0.7922 - acc: 0.7485 - val_loss: 0.9341 - val_acc: 0.7377\n",
            "Epoch 32/40\n",
            "50000/50000 [==============================] - 278s 6ms/step - loss: 0.7884 - acc: 0.7491 - val_loss: 0.9399 - val_acc: 0.7348\n",
            "Epoch 33/40\n",
            "50000/50000 [==============================] - 277s 6ms/step - loss: 0.7845 - acc: 0.7518 - val_loss: 0.8129 - val_acc: 0.7404\n",
            "Epoch 34/40\n",
            "50000/50000 [==============================] - 276s 6ms/step - loss: 0.7941 - acc: 0.7455 - val_loss: 0.8659 - val_acc: 0.7283\n",
            "Epoch 35/40\n",
            "50000/50000 [==============================] - 279s 6ms/step - loss: 0.8030 - acc: 0.7467 - val_loss: 0.9188 - val_acc: 0.7124\n",
            "Epoch 36/40\n",
            "50000/50000 [==============================] - 278s 6ms/step - loss: 0.8131 - acc: 0.7430 - val_loss: 0.7949 - val_acc: 0.7457\n",
            "Epoch 37/40\n",
            "50000/50000 [==============================] - 278s 6ms/step - loss: 0.8077 - acc: 0.7441 - val_loss: 0.8767 - val_acc: 0.7272\n",
            "Epoch 38/40\n",
            "24384/50000 [=============>................] - ETA: 2:27 - loss: 0.8092 - acc: 0.7398Buffered data was truncated after reaching the output size limit."
          ],
          "name": "stdout"
        }
      ]
    },
    {
      "cell_type": "code",
      "metadata": {
        "id": "J-Zvv2xUfcdr",
        "colab_type": "code",
        "outputId": "2922ddb8-5a4c-4218-8392-31dc686ec687",
        "colab": {
          "base_uri": "https://localhost:8080/",
          "height": 572
        }
      },
      "source": [
        "# summarize history for accuracy\n",
        "plt.plot(train_model5.history['acc'])\n",
        "plt.plot(train_model5.history['val_acc'])\n",
        "plt.title('model accuracy')\n",
        "plt.ylabel('accuracy')\n",
        "plt.xlabel('epoch')\n",
        "plt.legend(['train', 'test'], loc='upper left')\n",
        "plt.show()\n",
        "# summarize history for loss\n",
        "plt.plot(train_model5.history['loss'])\n",
        "plt.plot(train_model5.history['val_loss'])\n",
        "plt.title('model loss')\n",
        "plt.ylabel('loss')\n",
        "plt.xlabel('epoch')\n",
        "plt.legend(['train', 'test'], loc='upper left')\n",
        "plt.show()"
      ],
      "execution_count": 0,
      "outputs": [
        {
          "output_type": "display_data",
          "data": {
            "image/png": "[encoded data removed]",
            "text/plain": [
              "<Figure size 432x288 with 1 Axes>"
            ]
          },
          "metadata": {
            "tags": []
          }
        },
        {
          "output_type": "display_data",
          "data": {
            "image/png": "[encoded data removed]",
            "text/plain": [
              "<Figure size 432x288 with 1 Axes>"
            ]
          },
          "metadata": {
            "tags": []
          }
        }
      ]
    },
    {
      "cell_type": "markdown",
      "metadata": {
        "id": "nHKnlslKgqUr",
        "colab_type": "text"
      },
      "source": [
        "#### Adamax Optimizer"
      ]
    },
    {
      "cell_type": "code",
      "metadata": {
        "id": "8aAoWQYnetEZ",
        "colab_type": "code",
        "outputId": "20dc4f0a-61fb-47f7-c705-a86562dfa777",
        "colab": {
          "base_uri": "https://localhost:8080/",
          "height": 1000
        }
      },
      "source": [
        "tmodel6 = Sequential()\n",
        "train_model6 = model1(tmodel6,32,40,'adamax')"
      ],
      "execution_count": 0,
      "outputs": [
        {
          "output_type": "stream",
          "text": [
            "Train on 50000 samples, validate on 10000 samples\n",
            "Epoch 1/40\n",
            "50000/50000 [==============================] - 286s 6ms/step - loss: 1.5489 - acc: 0.4336 - val_loss: 1.2446 - val_acc: 0.5719\n",
            "Epoch 2/40\n",
            "50000/50000 [==============================] - 286s 6ms/step - loss: 1.1525 - acc: 0.5917 - val_loss: 0.9645 - val_acc: 0.6662\n",
            "Epoch 3/40\n",
            "50000/50000 [==============================] - 273s 5ms/step - loss: 0.9803 - acc: 0.6549 - val_loss: 0.8665 - val_acc: 0.6933\n",
            "Epoch 4/40\n",
            "50000/50000 [==============================] - 274s 5ms/step - loss: 0.8635 - acc: 0.6957 - val_loss: 0.8460 - val_acc: 0.7091\n",
            "Epoch 5/40\n",
            "50000/50000 [==============================] - 274s 5ms/step - loss: 0.7942 - acc: 0.7216 - val_loss: 0.7384 - val_acc: 0.7443\n",
            "Epoch 6/40\n",
            "50000/50000 [==============================] - 274s 5ms/step - loss: 0.7272 - acc: 0.7450 - val_loss: 0.7304 - val_acc: 0.7467\n",
            "Epoch 7/40\n",
            "50000/50000 [==============================] - 275s 6ms/step - loss: 0.6883 - acc: 0.7593 - val_loss: 0.6783 - val_acc: 0.7637\n",
            "Epoch 8/40\n",
            "50000/50000 [==============================] - 273s 5ms/step - loss: 0.6351 - acc: 0.7797 - val_loss: 0.6668 - val_acc: 0.7744\n",
            "Epoch 9/40\n",
            "50000/50000 [==============================] - 267s 5ms/step - loss: 0.6014 - acc: 0.7902 - val_loss: 0.6235 - val_acc: 0.7868\n",
            "Epoch 10/40\n",
            "50000/50000 [==============================] - 267s 5ms/step - loss: 0.5699 - acc: 0.8015 - val_loss: 0.6188 - val_acc: 0.7919\n",
            "Epoch 11/40\n",
            "50000/50000 [==============================] - 267s 5ms/step - loss: 0.5395 - acc: 0.8113 - val_loss: 0.6129 - val_acc: 0.7872\n",
            "Epoch 12/40\n",
            "50000/50000 [==============================] - 269s 5ms/step - loss: 0.5175 - acc: 0.8162 - val_loss: 0.6063 - val_acc: 0.7954\n",
            "Epoch 13/40\n",
            "50000/50000 [==============================] - 268s 5ms/step - loss: 0.4869 - acc: 0.8278 - val_loss: 0.5962 - val_acc: 0.7999\n",
            "Epoch 14/40\n",
            "50000/50000 [==============================] - 268s 5ms/step - loss: 0.4665 - acc: 0.8355 - val_loss: 0.6244 - val_acc: 0.7906\n",
            "Epoch 15/40\n",
            "50000/50000 [==============================] - 271s 5ms/step - loss: 0.4490 - acc: 0.8421 - val_loss: 0.5966 - val_acc: 0.7994\n",
            "Epoch 16/40\n",
            "50000/50000 [==============================] - 269s 5ms/step - loss: 0.4302 - acc: 0.8487 - val_loss: 0.5931 - val_acc: 0.8065\n",
            "Epoch 17/40\n",
            "50000/50000 [==============================] - 268s 5ms/step - loss: 0.4125 - acc: 0.8536 - val_loss: 0.5897 - val_acc: 0.8082\n",
            "Epoch 18/40\n",
            "50000/50000 [==============================] - 268s 5ms/step - loss: 0.3949 - acc: 0.8609 - val_loss: 0.6158 - val_acc: 0.8026\n",
            "Epoch 19/40\n",
            "50000/50000 [==============================] - 270s 5ms/step - loss: 0.3822 - acc: 0.8654 - val_loss: 0.5904 - val_acc: 0.8089\n",
            "Epoch 20/40\n",
            "50000/50000 [==============================] - 269s 5ms/step - loss: 0.3659 - acc: 0.8708 - val_loss: 0.5919 - val_acc: 0.8112\n",
            "Epoch 21/40\n",
            "50000/50000 [==============================] - 268s 5ms/step - loss: 0.3456 - acc: 0.8767 - val_loss: 0.6171 - val_acc: 0.8081\n",
            "Epoch 22/40\n",
            "50000/50000 [==============================] - 269s 5ms/step - loss: 0.3418 - acc: 0.8781 - val_loss: 0.5910 - val_acc: 0.8142\n",
            "Epoch 23/40\n",
            "50000/50000 [==============================] - 279s 6ms/step - loss: 0.3358 - acc: 0.8803 - val_loss: 0.6146 - val_acc: 0.8098\n",
            "Epoch 24/40\n",
            "50000/50000 [==============================] - 276s 6ms/step - loss: 0.3215 - acc: 0.8858 - val_loss: 0.6006 - val_acc: 0.8130\n",
            "Epoch 25/40\n",
            "50000/50000 [==============================] - 276s 6ms/step - loss: 0.3131 - acc: 0.8887 - val_loss: 0.5889 - val_acc: 0.8140\n",
            "Epoch 26/40\n",
            "50000/50000 [==============================] - 278s 6ms/step - loss: 0.3048 - acc: 0.8909 - val_loss: 0.5923 - val_acc: 0.8137\n",
            "Epoch 27/40\n",
            "50000/50000 [==============================] - 278s 6ms/step - loss: 0.2936 - acc: 0.8945 - val_loss: 0.5916 - val_acc: 0.8145\n",
            "Epoch 28/40\n",
            "50000/50000 [==============================] - 276s 6ms/step - loss: 0.2883 - acc: 0.8974 - val_loss: 0.6214 - val_acc: 0.8169\n",
            "Epoch 29/40\n",
            "50000/50000 [==============================] - 282s 6ms/step - loss: 0.2860 - acc: 0.8989 - val_loss: 0.6087 - val_acc: 0.8166\n",
            "Epoch 30/40\n",
            "50000/50000 [==============================] - 283s 6ms/step - loss: 0.2729 - acc: 0.9029 - val_loss: 0.6092 - val_acc: 0.8176\n",
            "Epoch 31/40\n",
            "50000/50000 [==============================] - 286s 6ms/step - loss: 0.2706 - acc: 0.9042 - val_loss: 0.6324 - val_acc: 0.8125\n",
            "Epoch 32/40\n",
            "50000/50000 [==============================] - 291s 6ms/step - loss: 0.2692 - acc: 0.9043 - val_loss: 0.6089 - val_acc: 0.8150\n",
            "Epoch 33/40\n",
            "50000/50000 [==============================] - 289s 6ms/step - loss: 0.2544 - acc: 0.9093 - val_loss: 0.6388 - val_acc: 0.8137\n",
            "Epoch 34/40\n",
            "50000/50000 [==============================] - 290s 6ms/step - loss: 0.2577 - acc: 0.9090 - val_loss: 0.6206 - val_acc: 0.8152\n",
            "Epoch 35/40\n",
            "50000/50000 [==============================] - 289s 6ms/step - loss: 0.2514 - acc: 0.9123 - val_loss: 0.6554 - val_acc: 0.8175\n",
            "Epoch 36/40\n",
            "50000/50000 [==============================] - 289s 6ms/step - loss: 0.2393 - acc: 0.9145 - val_loss: 0.6171 - val_acc: 0.8214\n",
            "Epoch 37/40\n",
            "50000/50000 [==============================] - 293s 6ms/step - loss: 0.2386 - acc: 0.9151 - val_loss: 0.6680 - val_acc: 0.8161\n",
            "Epoch 38/40\n",
            "22432/50000 [============>.................] - ETA: 2:35 - loss: 0.2423 - acc: 0.9137Buffered data was truncated after reaching the output size limit."
          ],
          "name": "stdout"
        }
      ]
    },
    {
      "cell_type": "code",
      "metadata": {
        "id": "cetTa9n6fk39",
        "colab_type": "code",
        "outputId": "668570fa-907c-4836-b8a8-6ab8cb900ccd",
        "colab": {
          "base_uri": "https://localhost:8080/",
          "height": 572
        }
      },
      "source": [
        "# summarize history for accuracy\n",
        "plt.plot(train_model6.history['acc'])\n",
        "plt.plot(train_model6.history['val_acc'])\n",
        "plt.title('model accuracy')\n",
        "plt.ylabel('accuracy')\n",
        "plt.xlabel('epoch')\n",
        "plt.legend(['train', 'test'], loc='upper left')\n",
        "plt.show()\n",
        "# summarize history for loss\n",
        "plt.plot(train_model6.history['loss'])\n",
        "plt.plot(train_model6.history['val_loss'])\n",
        "plt.title('model loss')\n",
        "plt.ylabel('loss')\n",
        "plt.xlabel('epoch')\n",
        "plt.legend(['train', 'test'], loc='upper left')\n",
        "plt.show()"
      ],
      "execution_count": 0,
      "outputs": [
        {
          "output_type": "display_data",
          "data": {
            "image/png": "[encoded data removed]",
            "text/plain": [
              "<Figure size 432x288 with 1 Axes>"
            ]
          },
          "metadata": {
            "tags": []
          }
        },
        {
          "output_type": "display_data",
          "data": {
            "image/png": "[encoded data removed]",
            "text/plain": [
              "<Figure size 432x288 with 1 Axes>"
            ]
          },
          "metadata": {
            "tags": []
          }
        }
      ]
    },
    {
      "cell_type": "markdown",
      "metadata": {
        "id": "5vFX-08Wgu5s",
        "colab_type": "text"
      },
      "source": [
        "#### Nadam Optimizer"
      ]
    },
    {
      "cell_type": "code",
      "metadata": {
        "id": "iQn4j0uTet2w",
        "colab_type": "code",
        "outputId": "a51bd782-b030-4342-feb6-f6abd61d1120",
        "colab": {
          "base_uri": "https://localhost:8080/",
          "height": 1000
        }
      },
      "source": [
        "tmodel7 = Sequential()\n",
        "train_model7 = model1(tmodel7,32,40,'nadam')"
      ],
      "execution_count": 0,
      "outputs": [
        {
          "output_type": "stream",
          "text": [
            "WARNING: Logging before flag parsing goes to stderr.\n",
            "W0703 05:22:55.750492 139987120527232 deprecation_wrapper.py:119] From /usr/local/lib/python3.6/dist-packages/keras/backend/tensorflow_backend.py:74: The name tf.get_default_graph is deprecated. Please use tf.compat.v1.get_default_graph instead.\n",
            "\n",
            "W0703 05:22:55.802982 139987120527232 deprecation_wrapper.py:119] From /usr/local/lib/python3.6/dist-packages/keras/backend/tensorflow_backend.py:517: The name tf.placeholder is deprecated. Please use tf.compat.v1.placeholder instead.\n",
            "\n",
            "W0703 05:22:55.813268 139987120527232 deprecation_wrapper.py:119] From /usr/local/lib/python3.6/dist-packages/keras/backend/tensorflow_backend.py:4138: The name tf.random_uniform is deprecated. Please use tf.random.uniform instead.\n",
            "\n",
            "W0703 05:22:55.878073 139987120527232 deprecation_wrapper.py:119] From /usr/local/lib/python3.6/dist-packages/keras/backend/tensorflow_backend.py:3976: The name tf.nn.max_pool is deprecated. Please use tf.nn.max_pool2d instead.\n",
            "\n",
            "W0703 05:22:55.881366 139987120527232 deprecation_wrapper.py:119] From /usr/local/lib/python3.6/dist-packages/keras/backend/tensorflow_backend.py:133: The name tf.placeholder_with_default is deprecated. Please use tf.compat.v1.placeholder_with_default instead.\n",
            "\n",
            "W0703 05:22:55.894034 139987120527232 deprecation.py:506] From /usr/local/lib/python3.6/dist-packages/keras/backend/tensorflow_backend.py:3445: calling dropout (from tensorflow.python.ops.nn_ops) with keep_prob is deprecated and will be removed in a future version.\n",
            "Instructions for updating:\n",
            "Please use `rate` instead of `keep_prob`. Rate should be set to `rate = 1 - keep_prob`.\n",
            "W0703 05:22:56.036386 139987120527232 deprecation_wrapper.py:119] From /usr/local/lib/python3.6/dist-packages/keras/optimizers.py:790: The name tf.train.Optimizer is deprecated. Please use tf.compat.v1.train.Optimizer instead.\n",
            "\n",
            "W0703 05:22:56.047081 139987120527232 deprecation_wrapper.py:119] From /usr/local/lib/python3.6/dist-packages/keras/backend/tensorflow_backend.py:3295: The name tf.log is deprecated. Please use tf.math.log instead.\n",
            "\n",
            "W0703 05:22:56.199027 139987120527232 deprecation.py:323] From /usr/local/lib/python3.6/dist-packages/tensorflow/python/ops/math_grad.py:1250: add_dispatch_support.<locals>.wrapper (from tensorflow.python.ops.array_ops) is deprecated and will be removed in a future version.\n",
            "Instructions for updating:\n",
            "Use tf.where in 2.0, which has the same broadcast rule as np.where\n"
          ],
          "name": "stderr"
        },
        {
          "output_type": "stream",
          "text": [
            "Train on 50000 samples, validate on 10000 samples\n",
            "Epoch 1/40\n",
            "50000/50000 [==============================] - 464s 9ms/step - loss: 4.7652 - acc: 0.1012 - val_loss: 14.5063 - val_acc: 0.1000\n",
            "Epoch 2/40\n",
            "50000/50000 [==============================] - 557s 11ms/step - loss: 14.5034 - acc: 0.1002 - val_loss: 14.5063 - val_acc: 0.1000\n",
            "Epoch 3/40\n",
            "50000/50000 [==============================] - 558s 11ms/step - loss: 14.5073 - acc: 0.0999 - val_loss: 14.5063 - val_acc: 0.1000\n",
            "Epoch 4/40\n",
            "50000/50000 [==============================] - 562s 11ms/step - loss: 14.5073 - acc: 0.0999 - val_loss: 14.5063 - val_acc: 0.1000\n",
            "Epoch 5/40\n",
            "50000/50000 [==============================] - 565s 11ms/step - loss: 14.5047 - acc: 0.1001 - val_loss: 14.5063 - val_acc: 0.1000\n",
            "Epoch 6/40\n",
            "50000/50000 [==============================] - 554s 11ms/step - loss: 14.5047 - acc: 0.1001 - val_loss: 14.5063 - val_acc: 0.1000\n",
            "Epoch 7/40\n",
            "50000/50000 [==============================] - 530s 11ms/step - loss: 14.5069 - acc: 0.1000 - val_loss: 14.5063 - val_acc: 0.1000\n",
            "Epoch 8/40\n",
            "50000/50000 [==============================] - 530s 11ms/step - loss: 14.5060 - acc: 0.1000 - val_loss: 14.5063 - val_acc: 0.1000\n",
            "Epoch 9/40\n",
            "50000/50000 [==============================] - 526s 11ms/step - loss: 14.5060 - acc: 0.1000 - val_loss: 14.5063 - val_acc: 0.1000\n",
            "Epoch 10/40\n",
            "50000/50000 [==============================] - 532s 11ms/step - loss: 14.5063 - acc: 0.1000 - val_loss: 14.5063 - val_acc: 0.1000\n",
            "Epoch 11/40\n",
            "50000/50000 [==============================] - 547s 11ms/step - loss: 14.5063 - acc: 0.1000 - val_loss: 14.5063 - val_acc: 0.1000\n",
            "Epoch 12/40\n",
            "50000/50000 [==============================] - 547s 11ms/step - loss: 14.5063 - acc: 0.1000 - val_loss: 14.5063 - val_acc: 0.1000\n",
            "Epoch 13/40\n",
            "50000/50000 [==============================] - 549s 11ms/step - loss: 14.5063 - acc: 0.1000 - val_loss: 14.5063 - val_acc: 0.1000\n",
            "Epoch 14/40\n",
            "50000/50000 [==============================] - 552s 11ms/step - loss: 14.5063 - acc: 0.1000 - val_loss: 14.5063 - val_acc: 0.1000\n",
            "Epoch 15/40\n",
            "50000/50000 [==============================] - 544s 11ms/step - loss: 14.5063 - acc: 0.1000 - val_loss: 14.5063 - val_acc: 0.1000\n",
            "Epoch 16/40\n",
            "50000/50000 [==============================] - 544s 11ms/step - loss: 14.5063 - acc: 0.1000 - val_loss: 14.5063 - val_acc: 0.1000\n",
            "Epoch 17/40\n",
            "50000/50000 [==============================] - 548s 11ms/step - loss: 14.5063 - acc: 0.1000 - val_loss: 14.5063 - val_acc: 0.1000\n",
            "Epoch 18/40\n",
            "50000/50000 [==============================] - 548s 11ms/step - loss: 14.5063 - acc: 0.1000 - val_loss: 14.5063 - val_acc: 0.1000\n",
            "Epoch 19/40\n",
            "50000/50000 [==============================] - 544s 11ms/step - loss: 14.5063 - acc: 0.1000 - val_loss: 14.5063 - val_acc: 0.1000\n",
            "Epoch 20/40\n",
            "50000/50000 [==============================] - 544s 11ms/step - loss: 14.5063 - acc: 0.1000 - val_loss: 14.5063 - val_acc: 0.1000\n",
            "Epoch 21/40\n",
            "50000/50000 [==============================] - 543s 11ms/step - loss: 14.5063 - acc: 0.1000 - val_loss: 14.5063 - val_acc: 0.1000\n",
            "Epoch 22/40\n",
            "50000/50000 [==============================] - 542s 11ms/step - loss: 14.5063 - acc: 0.1000 - val_loss: 14.5063 - val_acc: 0.1000\n",
            "Epoch 23/40\n",
            "50000/50000 [==============================] - 538s 11ms/step - loss: 14.5063 - acc: 0.1000 - val_loss: 14.5063 - val_acc: 0.1000\n",
            "Epoch 24/40\n",
            "50000/50000 [==============================] - 524s 10ms/step - loss: 14.5063 - acc: 0.1000 - val_loss: 14.5063 - val_acc: 0.1000\n",
            "Epoch 25/40\n",
            "50000/50000 [==============================] - 524s 10ms/step - loss: 14.5063 - acc: 0.1000 - val_loss: 14.5063 - val_acc: 0.1000\n",
            "Epoch 26/40\n",
            "50000/50000 [==============================] - 524s 10ms/step - loss: 14.5063 - acc: 0.1000 - val_loss: 14.5063 - val_acc: 0.1000\n",
            "Epoch 27/40\n",
            "50000/50000 [==============================] - 526s 11ms/step - loss: 14.5063 - acc: 0.1000 - val_loss: 14.5063 - val_acc: 0.1000\n",
            "Epoch 28/40\n",
            "50000/50000 [==============================] - 537s 11ms/step - loss: 14.5063 - acc: 0.1000 - val_loss: 14.5063 - val_acc: 0.1000\n",
            "Epoch 29/40\n",
            "50000/50000 [==============================] - 533s 11ms/step - loss: 14.5063 - acc: 0.1000 - val_loss: 14.5063 - val_acc: 0.1000\n",
            "Epoch 30/40\n",
            "50000/50000 [==============================] - 535s 11ms/step - loss: 14.5063 - acc: 0.1000 - val_loss: 14.5063 - val_acc: 0.1000\n",
            "Epoch 31/40\n",
            "50000/50000 [==============================] - 543s 11ms/step - loss: 14.5063 - acc: 0.1000 - val_loss: 14.5063 - val_acc: 0.1000\n",
            "Epoch 32/40\n",
            "50000/50000 [==============================] - 537s 11ms/step - loss: 14.5063 - acc: 0.1000 - val_loss: 14.5063 - val_acc: 0.1000\n",
            "Epoch 33/40\n",
            "50000/50000 [==============================] - 538s 11ms/step - loss: 14.5063 - acc: 0.1000 - val_loss: 14.5063 - val_acc: 0.1000\n",
            "Epoch 34/40\n",
            "50000/50000 [==============================] - 537s 11ms/step - loss: 14.5063 - acc: 0.1000 - val_loss: 14.5063 - val_acc: 0.1000\n",
            "Epoch 35/40\n",
            "50000/50000 [==============================] - 536s 11ms/step - loss: 14.5063 - acc: 0.1000 - val_loss: 14.5063 - val_acc: 0.1000\n",
            "Epoch 36/40\n",
            "50000/50000 [==============================] - 294s 6ms/step - loss: 14.5063 - acc: 0.1000 - val_loss: 14.5063 - val_acc: 0.1000\n",
            "Epoch 37/40\n",
            "50000/50000 [==============================] - 272s 5ms/step - loss: 14.5063 - acc: 0.1000 - val_loss: 14.5063 - val_acc: 0.1000\n",
            "Epoch 38/40\n",
            "16512/50000 [========>.....................] - ETA: 2:53 - loss: 14.4626 - acc: 0.1027Buffered data was truncated after reaching the output size limit."
          ],
          "name": "stdout"
        }
      ]
    },
    {
      "cell_type": "code",
      "metadata": {
        "id": "uTyq9vS3fqrq",
        "colab_type": "code",
        "outputId": "2cb5b8f0-1304-4741-9223-8658f3d9ece1",
        "colab": {
          "base_uri": "https://localhost:8080/",
          "height": 572
        }
      },
      "source": [
        "# summarize history for accuracy\n",
        "plt.plot(train_model7.history['acc'])\n",
        "plt.plot(train_model7.history['val_acc'])\n",
        "plt.title('model accuracy')\n",
        "plt.ylabel('accuracy')\n",
        "plt.xlabel('epoch')\n",
        "plt.legend(['train', 'test'], loc='upper left')\n",
        "plt.show()\n",
        "# summarize history for loss\n",
        "plt.plot(train_model7.history['loss'])\n",
        "plt.plot(train_model7.history['val_loss'])\n",
        "plt.title('model loss')\n",
        "plt.ylabel('loss')\n",
        "plt.xlabel('epoch')\n",
        "plt.legend(['train', 'test'], loc='upper left')\n",
        "plt.show()"
      ],
      "execution_count": 0,
      "outputs": [
        {
          "output_type": "display_data",
          "data": {
            "image/png": "[encoded data removed]",
            "text/plain": [
              "<Figure size 432x288 with 1 Axes>"
            ]
          },
          "metadata": {
            "tags": []
          }
        },
        {
          "output_type": "display_data",
          "data": {
            "image/png": "[encoded data removed]",
            "text/plain": [
              "<Figure size 432x288 with 1 Axes>"
            ]
          },
          "metadata": {
            "tags": []
          }
        }
      ]
    }
  ]
}