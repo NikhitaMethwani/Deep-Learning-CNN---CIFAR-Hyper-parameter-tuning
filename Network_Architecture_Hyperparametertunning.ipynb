{
  "nbformat": 4,
  "nbformat_minor": 0,
  "metadata": {
    "colab": {
      "name": "Network Architecture-Hyperparametertunning.ipynb",
      "version": "0.3.2",
      "provenance": [],
      "collapsed_sections": []
    },
    "kernelspec": {
      "name": "python3",
      "display_name": "Python 3"
    }
  },
  "cells": [
    {
      "cell_type": "markdown",
      "metadata": {
        "id": "lwDw3umzCAXT",
        "colab_type": "text"
      },
      "source": [
        "# Network Archiectue Tuning of models on CIFAR-10 Dataset"
      ]
    },
    {
      "cell_type": "code",
      "metadata": {
        "id": "d4NtosA67eUX",
        "colab_type": "code",
        "outputId": "981a2617-1438-433d-e9b1-e8409ebaa34e",
        "colab": {
          "base_uri": "https://localhost:8080/",
          "height": 35
        }
      },
      "source": [
        "from __future__ import print_function\n",
        "import keras\n",
        "from keras.datasets import cifar10\n",
        "from keras.preprocessing.image import ImageDataGenerator\n",
        "from keras.models import Sequential\n",
        "from keras.layers import Dense, Dropout, Activation, Flatten\n",
        "from keras.layers import Conv2D, MaxPooling2D\n",
        "import os\n",
        "from matplotlib import pyplot as plt\n",
        "from keras import regularizers\n",
        "from keras.constraints import max_norm"
      ],
      "execution_count": 1,
      "outputs": [
        {
          "output_type": "stream",
          "text": [
            "Using TensorFlow backend.\n"
          ],
          "name": "stderr"
        }
      ]
    },
    {
      "cell_type": "code",
      "metadata": {
        "id": "alemYNSx7lvh",
        "colab_type": "code",
        "colab": {}
      },
      "source": [
        "num_classes = 10\n",
        "data_augmentation = True\n",
        "num_predictions = 20\n",
        "# batch_size = 128\n",
        "# epochs = 30"
      ],
      "execution_count": 0,
      "outputs": []
    },
    {
      "cell_type": "code",
      "metadata": {
        "id": "yoJb07CQ7oJx",
        "colab_type": "code",
        "outputId": "cfab661f-c752-4adf-bca7-f7469679a679",
        "colab": {
          "base_uri": "https://localhost:8080/",
          "height": 106
        }
      },
      "source": [
        "# The data, split between train and test sets:\n",
        "(x_train, y_train), (x_test, y_test) = cifar10.load_data()\n",
        "print('x_train shape:', x_train.shape)\n",
        "print(x_train.shape[0], 'train samples')\n",
        "print(x_test.shape[0], 'test samples')"
      ],
      "execution_count": 3,
      "outputs": [
        {
          "output_type": "stream",
          "text": [
            "Downloading data from https://www.cs.toronto.edu/~kriz/cifar-10-python.tar.gz\n",
            "170500096/170498071 [==============================] - 2s 0us/step\n",
            "x_train shape: (50000, 32, 32, 3)\n",
            "50000 train samples\n",
            "10000 test samples\n"
          ],
          "name": "stdout"
        }
      ]
    },
    {
      "cell_type": "code",
      "metadata": {
        "id": "j9zikGpt7r2C",
        "colab_type": "code",
        "colab": {}
      },
      "source": [
        "x_train = x_train.astype('float32')\n",
        "x_test = x_test.astype('float32')\n",
        "x_train /= 255\n",
        "x_test /= 255"
      ],
      "execution_count": 0,
      "outputs": []
    },
    {
      "cell_type": "code",
      "metadata": {
        "id": "jHxZRGkq7uAR",
        "colab_type": "code",
        "colab": {}
      },
      "source": [
        "x_train = x_train[0:20000]\n",
        "y_train = y_train[0:20000]"
      ],
      "execution_count": 0,
      "outputs": []
    },
    {
      "cell_type": "code",
      "metadata": {
        "id": "mcftL9IL7v56",
        "colab_type": "code",
        "colab": {}
      },
      "source": [
        "# Convert class vectors to binary class matrices.\n",
        "y_train = keras.utils.to_categorical(y_train, num_classes)\n",
        "y_test = keras.utils.to_categorical(y_test, num_classes)"
      ],
      "execution_count": 0,
      "outputs": []
    },
    {
      "cell_type": "markdown",
      "metadata": {
        "id": "4cPI1_DzEswq",
        "colab_type": "text"
      },
      "source": [
        "#### Model 1"
      ]
    },
    {
      "cell_type": "code",
      "metadata": {
        "id": "fCkko4u47xJI",
        "colab_type": "code",
        "colab": {}
      },
      "source": [
        "def model1(model,batch_size,epochs):\n",
        "    \n",
        "        model.add(Conv2D(64, (3, 3) ,padding='same',input_shape=x_train.shape[1:]))\n",
        "        model.add(Activation('relu'))\n",
        "        \n",
        "        model.add(Conv2D(64, (3, 3)))\n",
        "        model.add(Activation('relu'))\n",
        "        \n",
        "        model.add(MaxPooling2D(pool_size=(2, 2)))\n",
        "        model.add(Dropout(rate = 0.25))\n",
        "\n",
        "        model.add(Conv2D(32, (3, 3), padding='same'))\n",
        "        model.add(Activation('relu'))\n",
        "        \n",
        "        model.add(Conv2D(32, (3, 3)))\n",
        "        model.add(Activation('relu'))\n",
        "        \n",
        "        model.add(MaxPooling2D(pool_size=(2, 2)))\n",
        "        model.add(Dropout(rate = 0.25))\n",
        "\n",
        "        model.add(Flatten())\n",
        "        model.add(Dense(512))\n",
        "        model.add(Activation('relu'))\n",
        "        model.add(Dropout(rate = 0.5))\n",
        "        model.add(Dense(num_classes))\n",
        "        model.add(Activation('softmax'))\n",
        "        \n",
        "        opt = keras.optimizers.adam(lr=0.0001, decay=1e-6)\n",
        "            \n",
        "\n",
        "        # Let's train the model\n",
        "        model.compile(loss='categorical_crossentropy',\n",
        "              optimizer=opt,\n",
        "              metrics=['accuracy'])\n",
        "        \n",
        "        history = model.fit(x_train, y_train,\n",
        "              batch_size=batch_size,\n",
        "              epochs=epochs,\n",
        "              validation_data=(x_test, y_test),\n",
        "              shuffle=True)\n",
        "        return history"
      ],
      "execution_count": 0,
      "outputs": []
    },
    {
      "cell_type": "code",
      "metadata": {
        "id": "-dOB_Gyf75ws",
        "colab_type": "code",
        "outputId": "fff4300c-4585-4730-bed9-4657c4c4cec4",
        "colab": {
          "base_uri": "https://localhost:8080/",
          "height": 1000
        }
      },
      "source": [
        "tmodel1 = Sequential()\n",
        "train_model1 = model1(tmodel1,128,150)"
      ],
      "execution_count": 0,
      "outputs": [
        {
          "output_type": "stream",
          "text": [
            "WARNING: Logging before flag parsing goes to stderr.\n",
            "W0702 08:29:28.224858 140347210831744 deprecation_wrapper.py:119] From /usr/local/lib/python3.6/dist-packages/keras/backend/tensorflow_backend.py:74: The name tf.get_default_graph is deprecated. Please use tf.compat.v1.get_default_graph instead.\n",
            "\n",
            "W0702 08:29:28.268895 140347210831744 deprecation_wrapper.py:119] From /usr/local/lib/python3.6/dist-packages/keras/backend/tensorflow_backend.py:517: The name tf.placeholder is deprecated. Please use tf.compat.v1.placeholder instead.\n",
            "\n",
            "W0702 08:29:28.272888 140347210831744 deprecation_wrapper.py:119] From /usr/local/lib/python3.6/dist-packages/keras/backend/tensorflow_backend.py:4138: The name tf.random_uniform is deprecated. Please use tf.random.uniform instead.\n",
            "\n",
            "W0702 08:29:28.359340 140347210831744 deprecation_wrapper.py:119] From /usr/local/lib/python3.6/dist-packages/keras/backend/tensorflow_backend.py:3976: The name tf.nn.max_pool is deprecated. Please use tf.nn.max_pool2d instead.\n",
            "\n",
            "W0702 08:29:28.363212 140347210831744 deprecation_wrapper.py:119] From /usr/local/lib/python3.6/dist-packages/keras/backend/tensorflow_backend.py:133: The name tf.placeholder_with_default is deprecated. Please use tf.compat.v1.placeholder_with_default instead.\n",
            "\n",
            "W0702 08:29:28.377850 140347210831744 deprecation.py:506] From /usr/local/lib/python3.6/dist-packages/keras/backend/tensorflow_backend.py:3445: calling dropout (from tensorflow.python.ops.nn_ops) with keep_prob is deprecated and will be removed in a future version.\n",
            "Instructions for updating:\n",
            "Please use `rate` instead of `keep_prob`. Rate should be set to `rate = 1 - keep_prob`.\n",
            "W0702 08:29:28.738559 140347210831744 deprecation_wrapper.py:119] From /usr/local/lib/python3.6/dist-packages/keras/optimizers.py:790: The name tf.train.Optimizer is deprecated. Please use tf.compat.v1.train.Optimizer instead.\n",
            "\n",
            "W0702 08:29:28.762881 140347210831744 deprecation_wrapper.py:119] From /usr/local/lib/python3.6/dist-packages/keras/backend/tensorflow_backend.py:3295: The name tf.log is deprecated. Please use tf.math.log instead.\n",
            "\n",
            "W0702 08:29:28.953570 140347210831744 deprecation.py:323] From /usr/local/lib/python3.6/dist-packages/tensorflow/python/ops/math_grad.py:1250: add_dispatch_support.<locals>.wrapper (from tensorflow.python.ops.array_ops) is deprecated and will be removed in a future version.\n",
            "Instructions for updating:\n",
            "Use tf.where in 2.0, which has the same broadcast rule as np.where\n"
          ],
          "name": "stderr"
        },
        {
          "output_type": "stream",
          "text": [
            "Train on 20000 samples, validate on 10000 samples\n",
            "Epoch 1/150\n",
            "20000/20000 [==============================] - 327s 16ms/step - loss: 2.1452 - acc: 0.1942 - val_loss: 1.9284 - val_acc: 0.2958\n",
            "Epoch 2/150\n",
            "20000/20000 [==============================] - 332s 17ms/step - loss: 1.8244 - acc: 0.3329 - val_loss: 1.6791 - val_acc: 0.3958\n",
            "Epoch 3/150\n",
            "20000/20000 [==============================] - 329s 16ms/step - loss: 1.7025 - acc: 0.3743 - val_loss: 1.6008 - val_acc: 0.4213\n",
            "Epoch 4/150\n",
            "20000/20000 [==============================] - 332s 17ms/step - loss: 1.6363 - acc: 0.3971 - val_loss: 1.5236 - val_acc: 0.4472\n",
            "Epoch 5/150\n",
            "20000/20000 [==============================] - 329s 16ms/step - loss: 1.5724 - acc: 0.4251 - val_loss: 1.4817 - val_acc: 0.4678\n",
            "Epoch 6/150\n",
            "20000/20000 [==============================] - 336s 17ms/step - loss: 1.5144 - acc: 0.4459 - val_loss: 1.4261 - val_acc: 0.4864\n",
            "Epoch 7/150\n",
            "20000/20000 [==============================] - 334s 17ms/step - loss: 1.4705 - acc: 0.4669 - val_loss: 1.3870 - val_acc: 0.4983\n",
            "Epoch 8/150\n",
            "20000/20000 [==============================] - 333s 17ms/step - loss: 1.4310 - acc: 0.4833 - val_loss: 1.3501 - val_acc: 0.5167\n",
            "Epoch 9/150\n",
            "20000/20000 [==============================] - 332s 17ms/step - loss: 1.4030 - acc: 0.4909 - val_loss: 1.3295 - val_acc: 0.5299\n",
            "Epoch 10/150\n",
            "20000/20000 [==============================] - 326s 16ms/step - loss: 1.3716 - acc: 0.5064 - val_loss: 1.3070 - val_acc: 0.5411\n",
            "Epoch 11/150\n",
            "20000/20000 [==============================] - 327s 16ms/step - loss: 1.3542 - acc: 0.5118 - val_loss: 1.2848 - val_acc: 0.5508\n",
            "Epoch 12/150\n",
            "20000/20000 [==============================] - 324s 16ms/step - loss: 1.3294 - acc: 0.5202 - val_loss: 1.2600 - val_acc: 0.5527\n",
            "Epoch 13/150\n",
            "20000/20000 [==============================] - 326s 16ms/step - loss: 1.3051 - acc: 0.5295 - val_loss: 1.2401 - val_acc: 0.5642\n",
            "Epoch 14/150\n",
            "20000/20000 [==============================] - 320s 16ms/step - loss: 1.2840 - acc: 0.5383 - val_loss: 1.2363 - val_acc: 0.5619\n",
            "Epoch 15/150\n",
            "20000/20000 [==============================] - 318s 16ms/step - loss: 1.2744 - acc: 0.5453 - val_loss: 1.2146 - val_acc: 0.5669\n",
            "Epoch 16/150\n",
            "20000/20000 [==============================] - 322s 16ms/step - loss: 1.2518 - acc: 0.5548 - val_loss: 1.1999 - val_acc: 0.5757\n",
            "Epoch 17/150\n",
            "20000/20000 [==============================] - 322s 16ms/step - loss: 1.2283 - acc: 0.5631 - val_loss: 1.1808 - val_acc: 0.5842\n",
            "Epoch 18/150\n",
            "20000/20000 [==============================] - 323s 16ms/step - loss: 1.2145 - acc: 0.5646 - val_loss: 1.1790 - val_acc: 0.5862\n",
            "Epoch 19/150\n",
            "20000/20000 [==============================] - 324s 16ms/step - loss: 1.2027 - acc: 0.5699 - val_loss: 1.1554 - val_acc: 0.5906\n",
            "Epoch 20/150\n",
            "20000/20000 [==============================] - 326s 16ms/step - loss: 1.1882 - acc: 0.5786 - val_loss: 1.1377 - val_acc: 0.5983\n",
            "Epoch 21/150\n",
            "20000/20000 [==============================] - 320s 16ms/step - loss: 1.1747 - acc: 0.5803 - val_loss: 1.1463 - val_acc: 0.5930\n",
            "Epoch 22/150\n",
            "20000/20000 [==============================] - 320s 16ms/step - loss: 1.1519 - acc: 0.5876 - val_loss: 1.1287 - val_acc: 0.6053\n",
            "Epoch 23/150\n",
            "20000/20000 [==============================] - 326s 16ms/step - loss: 1.1480 - acc: 0.5925 - val_loss: 1.1210 - val_acc: 0.6039\n",
            "Epoch 24/150\n",
            "20000/20000 [==============================] - 323s 16ms/step - loss: 1.1378 - acc: 0.5917 - val_loss: 1.0945 - val_acc: 0.6132\n",
            "Epoch 25/150\n",
            "20000/20000 [==============================] - 320s 16ms/step - loss: 1.1138 - acc: 0.6027 - val_loss: 1.0881 - val_acc: 0.6179\n",
            "Epoch 26/150\n",
            "20000/20000 [==============================] - 329s 16ms/step - loss: 1.1068 - acc: 0.6078 - val_loss: 1.0693 - val_acc: 0.6264\n",
            "Epoch 27/150\n",
            "20000/20000 [==============================] - 326s 16ms/step - loss: 1.0964 - acc: 0.6140 - val_loss: 1.0651 - val_acc: 0.6250\n",
            "Epoch 28/150\n",
            "20000/20000 [==============================] - 326s 16ms/step - loss: 1.0851 - acc: 0.6173 - val_loss: 1.0487 - val_acc: 0.6345\n",
            "Epoch 29/150\n",
            "20000/20000 [==============================] - 324s 16ms/step - loss: 1.0712 - acc: 0.6206 - val_loss: 1.0617 - val_acc: 0.6290\n",
            "Epoch 30/150\n",
            "20000/20000 [==============================] - 329s 16ms/step - loss: 1.0599 - acc: 0.6280 - val_loss: 1.0380 - val_acc: 0.6340\n",
            "Epoch 31/150\n",
            "20000/20000 [==============================] - 324s 16ms/step - loss: 1.0462 - acc: 0.6297 - val_loss: 1.0281 - val_acc: 0.6405\n",
            "Epoch 32/150\n",
            "20000/20000 [==============================] - 327s 16ms/step - loss: 1.0347 - acc: 0.6320 - val_loss: 1.0207 - val_acc: 0.6459\n",
            "Epoch 33/150\n",
            "20000/20000 [==============================] - 321s 16ms/step - loss: 1.0214 - acc: 0.6390 - val_loss: 1.0081 - val_acc: 0.6458\n",
            "Epoch 34/150\n",
            "20000/20000 [==============================] - 323s 16ms/step - loss: 1.0129 - acc: 0.6401 - val_loss: 0.9990 - val_acc: 0.6510\n",
            "Epoch 35/150\n",
            "20000/20000 [==============================] - 321s 16ms/step - loss: 0.9954 - acc: 0.6491 - val_loss: 1.0039 - val_acc: 0.6485\n",
            "Epoch 36/150\n",
            "20000/20000 [==============================] - 318s 16ms/step - loss: 0.9897 - acc: 0.6476 - val_loss: 0.9845 - val_acc: 0.6540\n",
            "Epoch 37/150\n",
            "20000/20000 [==============================] - 320s 16ms/step - loss: 0.9789 - acc: 0.6515 - val_loss: 0.9740 - val_acc: 0.6593\n",
            "Epoch 38/150\n",
            "20000/20000 [==============================] - 319s 16ms/step - loss: 0.9702 - acc: 0.6553 - val_loss: 0.9636 - val_acc: 0.6609\n",
            "Epoch 39/150\n",
            "20000/20000 [==============================] - 319s 16ms/step - loss: 0.9582 - acc: 0.6598 - val_loss: 0.9709 - val_acc: 0.6640\n",
            "Epoch 40/150\n",
            "20000/20000 [==============================] - 316s 16ms/step - loss: 0.9488 - acc: 0.6681 - val_loss: 0.9591 - val_acc: 0.6629\n",
            "Epoch 41/150\n",
            "20000/20000 [==============================] - 319s 16ms/step - loss: 0.9453 - acc: 0.6672 - val_loss: 0.9538 - val_acc: 0.6652\n",
            "Epoch 42/150\n",
            "20000/20000 [==============================] - 324s 16ms/step - loss: 0.9240 - acc: 0.6718 - val_loss: 0.9411 - val_acc: 0.6684\n",
            "Epoch 43/150\n",
            "20000/20000 [==============================] - 322s 16ms/step - loss: 0.9144 - acc: 0.6764 - val_loss: 0.9368 - val_acc: 0.6715\n",
            "Epoch 44/150\n",
            "20000/20000 [==============================] - 325s 16ms/step - loss: 0.9103 - acc: 0.6800 - val_loss: 0.9347 - val_acc: 0.6734\n",
            "Epoch 45/150\n",
            "20000/20000 [==============================] - 322s 16ms/step - loss: 0.8999 - acc: 0.6815 - val_loss: 0.9212 - val_acc: 0.6776\n",
            "Epoch 46/150\n",
            "20000/20000 [==============================] - 325s 16ms/step - loss: 0.8935 - acc: 0.6842 - val_loss: 0.9183 - val_acc: 0.6761\n",
            "Epoch 47/150\n",
            "20000/20000 [==============================] - 326s 16ms/step - loss: 0.8798 - acc: 0.6891 - val_loss: 0.9088 - val_acc: 0.6810\n",
            "Epoch 48/150\n",
            "20000/20000 [==============================] - 327s 16ms/step - loss: 0.8710 - acc: 0.6913 - val_loss: 0.9103 - val_acc: 0.6831\n",
            "Epoch 49/150\n",
            "20000/20000 [==============================] - 329s 16ms/step - loss: 0.8763 - acc: 0.6907 - val_loss: 0.9019 - val_acc: 0.6840\n",
            "Epoch 50/150\n",
            "20000/20000 [==============================] - 324s 16ms/step - loss: 0.8550 - acc: 0.7001 - val_loss: 0.8927 - val_acc: 0.6883\n",
            "Epoch 51/150\n",
            "20000/20000 [==============================] - 327s 16ms/step - loss: 0.8529 - acc: 0.6973 - val_loss: 0.8969 - val_acc: 0.6846\n",
            "Epoch 52/150\n",
            "20000/20000 [==============================] - 325s 16ms/step - loss: 0.8423 - acc: 0.7010 - val_loss: 0.8880 - val_acc: 0.6906\n",
            "Epoch 53/150\n",
            "20000/20000 [==============================] - 325s 16ms/step - loss: 0.8314 - acc: 0.7077 - val_loss: 0.9067 - val_acc: 0.6814\n",
            "Epoch 54/150\n",
            "20000/20000 [==============================] - 324s 16ms/step - loss: 0.8235 - acc: 0.7085 - val_loss: 0.8750 - val_acc: 0.6929\n",
            "Epoch 55/150\n",
            "20000/20000 [==============================] - 326s 16ms/step - loss: 0.8144 - acc: 0.7126 - val_loss: 0.8832 - val_acc: 0.6914\n",
            "Epoch 56/150\n",
            "20000/20000 [==============================] - 331s 17ms/step - loss: 0.8042 - acc: 0.7142 - val_loss: 0.8837 - val_acc: 0.6917\n",
            "Epoch 57/150\n",
            "20000/20000 [==============================] - 327s 16ms/step - loss: 0.8042 - acc: 0.7168 - val_loss: 0.8772 - val_acc: 0.6880\n",
            "Epoch 58/150\n",
            "20000/20000 [==============================] - 328s 16ms/step - loss: 0.7993 - acc: 0.7221 - val_loss: 0.8620 - val_acc: 0.6987\n",
            "Epoch 59/150\n",
            "20000/20000 [==============================] - 329s 16ms/step - loss: 0.7816 - acc: 0.7253 - val_loss: 0.8687 - val_acc: 0.6946\n",
            "Epoch 60/150\n",
            "20000/20000 [==============================] - 329s 16ms/step - loss: 0.7780 - acc: 0.7288 - val_loss: 0.8641 - val_acc: 0.6953\n",
            "Epoch 61/150\n",
            "20000/20000 [==============================] - 328s 16ms/step - loss: 0.7738 - acc: 0.7234 - val_loss: 0.8760 - val_acc: 0.6915\n",
            "Epoch 62/150\n",
            "20000/20000 [==============================] - 329s 16ms/step - loss: 0.7634 - acc: 0.7318 - val_loss: 0.8510 - val_acc: 0.7005\n",
            "Epoch 63/150\n",
            "20000/20000 [==============================] - 329s 16ms/step - loss: 0.7577 - acc: 0.7306 - val_loss: 0.8523 - val_acc: 0.7029\n",
            "Epoch 64/150\n",
            "20000/20000 [==============================] - 324s 16ms/step - loss: 0.7446 - acc: 0.7380 - val_loss: 0.8380 - val_acc: 0.7093\n",
            "Epoch 65/150\n",
            "20000/20000 [==============================] - 329s 16ms/step - loss: 0.7412 - acc: 0.7358 - val_loss: 0.8413 - val_acc: 0.7067\n",
            "Epoch 66/150\n",
            "20000/20000 [==============================] - 327s 16ms/step - loss: 0.7294 - acc: 0.7434 - val_loss: 0.8342 - val_acc: 0.7082\n",
            "Epoch 67/150\n",
            "20000/20000 [==============================] - 328s 16ms/step - loss: 0.7249 - acc: 0.7471 - val_loss: 0.8419 - val_acc: 0.7009\n",
            "Epoch 68/150\n",
            "20000/20000 [==============================] - 327s 16ms/step - loss: 0.7160 - acc: 0.7482 - val_loss: 0.8327 - val_acc: 0.7080\n",
            "Epoch 69/150\n",
            "20000/20000 [==============================] - 328s 16ms/step - loss: 0.7136 - acc: 0.7486 - val_loss: 0.8286 - val_acc: 0.7100\n",
            "Epoch 70/150\n",
            "20000/20000 [==============================] - 334s 17ms/step - loss: 0.7020 - acc: 0.7530 - val_loss: 0.8355 - val_acc: 0.7112\n",
            "Epoch 71/150\n",
            "20000/20000 [==============================] - 327s 16ms/step - loss: 0.6899 - acc: 0.7612 - val_loss: 0.8305 - val_acc: 0.7103\n",
            "Epoch 72/150\n",
            "20000/20000 [==============================] - 332s 17ms/step - loss: 0.6982 - acc: 0.7552 - val_loss: 0.8278 - val_acc: 0.7141\n",
            "Epoch 73/150\n",
            "20000/20000 [==============================] - 328s 16ms/step - loss: 0.6842 - acc: 0.7590 - val_loss: 0.8206 - val_acc: 0.7150\n",
            "Epoch 74/150\n",
            "20000/20000 [==============================] - 330s 17ms/step - loss: 0.6772 - acc: 0.7615 - val_loss: 0.8244 - val_acc: 0.7108\n",
            "Epoch 75/150\n",
            "20000/20000 [==============================] - 332s 17ms/step - loss: 0.6686 - acc: 0.7670 - val_loss: 0.8248 - val_acc: 0.7145\n",
            "Epoch 76/150\n",
            "20000/20000 [==============================] - 329s 16ms/step - loss: 0.6699 - acc: 0.7646 - val_loss: 0.8246 - val_acc: 0.7112\n",
            "Epoch 77/150\n",
            "20000/20000 [==============================] - 332s 17ms/step - loss: 0.6603 - acc: 0.7643 - val_loss: 0.8175 - val_acc: 0.7175\n",
            "Epoch 78/150\n",
            "20000/20000 [==============================] - 329s 16ms/step - loss: 0.6568 - acc: 0.7672 - val_loss: 0.8164 - val_acc: 0.7137\n",
            "Epoch 79/150\n",
            "20000/20000 [==============================] - 332s 17ms/step - loss: 0.6435 - acc: 0.7744 - val_loss: 0.8199 - val_acc: 0.7143\n",
            "Epoch 80/150\n",
            "20000/20000 [==============================] - 329s 16ms/step - loss: 0.6451 - acc: 0.7722 - val_loss: 0.8117 - val_acc: 0.7150\n",
            "Epoch 81/150\n",
            "20000/20000 [==============================] - 331s 17ms/step - loss: 0.6344 - acc: 0.7776 - val_loss: 0.8068 - val_acc: 0.7197\n",
            "Epoch 82/150\n",
            "20000/20000 [==============================] - 334s 17ms/step - loss: 0.6312 - acc: 0.7765 - val_loss: 0.7996 - val_acc: 0.7221\n",
            "Epoch 83/150\n",
            "20000/20000 [==============================] - 330s 17ms/step - loss: 0.6201 - acc: 0.7812 - val_loss: 0.8030 - val_acc: 0.7213\n",
            "Epoch 84/150\n",
            "20000/20000 [==============================] - 333s 17ms/step - loss: 0.6161 - acc: 0.7806 - val_loss: 0.8048 - val_acc: 0.7185\n",
            "Epoch 85/150\n",
            "20000/20000 [==============================] - 329s 16ms/step - loss: 0.6151 - acc: 0.7802 - val_loss: 0.8039 - val_acc: 0.7204\n",
            "Epoch 86/150\n",
            "20000/20000 [==============================] - 331s 17ms/step - loss: 0.6085 - acc: 0.7869 - val_loss: 0.8047 - val_acc: 0.7224\n",
            "Epoch 87/150\n",
            "20000/20000 [==============================] - 331s 17ms/step - loss: 0.6094 - acc: 0.7862 - val_loss: 0.8072 - val_acc: 0.7226\n",
            "Epoch 88/150\n",
            "20000/20000 [==============================] - 340s 17ms/step - loss: 0.5900 - acc: 0.7910 - val_loss: 0.7999 - val_acc: 0.7201\n",
            "Epoch 89/150\n",
            "20000/20000 [==============================] - 333s 17ms/step - loss: 0.5897 - acc: 0.7909 - val_loss: 0.7991 - val_acc: 0.7207\n",
            "Epoch 90/150\n",
            "20000/20000 [==============================] - 332s 17ms/step - loss: 0.5807 - acc: 0.7918 - val_loss: 0.8020 - val_acc: 0.7218\n",
            "Epoch 91/150\n",
            "20000/20000 [==============================] - 332s 17ms/step - loss: 0.5749 - acc: 0.7957 - val_loss: 0.7971 - val_acc: 0.7243\n",
            "Epoch 92/150\n",
            "20000/20000 [==============================] - 331s 17ms/step - loss: 0.5647 - acc: 0.7992 - val_loss: 0.7998 - val_acc: 0.7254\n",
            "Epoch 93/150\n",
            "20000/20000 [==============================] - 338s 17ms/step - loss: 0.5622 - acc: 0.8014 - val_loss: 0.7960 - val_acc: 0.7255\n",
            "Epoch 94/150\n",
            "20000/20000 [==============================] - 323s 16ms/step - loss: 0.5605 - acc: 0.8004 - val_loss: 0.7934 - val_acc: 0.7270\n",
            "Epoch 95/150\n",
            "20000/20000 [==============================] - 166s 8ms/step - loss: 0.5592 - acc: 0.8043 - val_loss: 0.7993 - val_acc: 0.7276\n",
            "Epoch 96/150\n",
            "20000/20000 [==============================] - 167s 8ms/step - loss: 0.5555 - acc: 0.8055 - val_loss: 0.7931 - val_acc: 0.7248\n",
            "Epoch 97/150\n",
            "20000/20000 [==============================] - 167s 8ms/step - loss: 0.5478 - acc: 0.8068 - val_loss: 0.8041 - val_acc: 0.7253\n",
            "Epoch 98/150\n",
            "20000/20000 [==============================] - 166s 8ms/step - loss: 0.5452 - acc: 0.8080 - val_loss: 0.7968 - val_acc: 0.7230\n",
            "Epoch 99/150\n",
            "20000/20000 [==============================] - 166s 8ms/step - loss: 0.5396 - acc: 0.8098 - val_loss: 0.8016 - val_acc: 0.7248\n",
            "Epoch 100/150\n",
            "20000/20000 [==============================] - 167s 8ms/step - loss: 0.5326 - acc: 0.8144 - val_loss: 0.7990 - val_acc: 0.7257\n",
            "Epoch 101/150\n",
            "20000/20000 [==============================] - 167s 8ms/step - loss: 0.5243 - acc: 0.8143 - val_loss: 0.7992 - val_acc: 0.7239\n",
            "Epoch 102/150\n",
            "20000/20000 [==============================] - 167s 8ms/step - loss: 0.5233 - acc: 0.8132 - val_loss: 0.8007 - val_acc: 0.7258\n",
            "Epoch 103/150\n",
            "20000/20000 [==============================] - 167s 8ms/step - loss: 0.5136 - acc: 0.8193 - val_loss: 0.7916 - val_acc: 0.7290\n",
            "Epoch 104/150\n",
            "20000/20000 [==============================] - 167s 8ms/step - loss: 0.5150 - acc: 0.8193 - val_loss: 0.8005 - val_acc: 0.7262\n",
            "Epoch 105/150\n",
            "20000/20000 [==============================] - 167s 8ms/step - loss: 0.5040 - acc: 0.8216 - val_loss: 0.7973 - val_acc: 0.7272\n",
            "Epoch 106/150\n",
            "20000/20000 [==============================] - 167s 8ms/step - loss: 0.5010 - acc: 0.8232 - val_loss: 0.7965 - val_acc: 0.7262\n",
            "Epoch 107/150\n",
            "20000/20000 [==============================] - 167s 8ms/step - loss: 0.4962 - acc: 0.8196 - val_loss: 0.7932 - val_acc: 0.7297\n",
            "Epoch 108/150\n",
            "20000/20000 [==============================] - 167s 8ms/step - loss: 0.4948 - acc: 0.8247 - val_loss: 0.7982 - val_acc: 0.7262\n",
            "Epoch 109/150\n",
            "20000/20000 [==============================] - 167s 8ms/step - loss: 0.4869 - acc: 0.8275 - val_loss: 0.7956 - val_acc: 0.7279\n",
            "Epoch 110/150\n",
            "20000/20000 [==============================] - 166s 8ms/step - loss: 0.4811 - acc: 0.8271 - val_loss: 0.7972 - val_acc: 0.7270\n",
            "Epoch 111/150\n",
            "20000/20000 [==============================] - 166s 8ms/step - loss: 0.4750 - acc: 0.8318 - val_loss: 0.7985 - val_acc: 0.7250\n",
            "Epoch 112/150\n",
            "20000/20000 [==============================] - 166s 8ms/step - loss: 0.4743 - acc: 0.8291 - val_loss: 0.7976 - val_acc: 0.7300\n",
            "Epoch 113/150\n",
            "20000/20000 [==============================] - 166s 8ms/step - loss: 0.4654 - acc: 0.8339 - val_loss: 0.7963 - val_acc: 0.7308\n",
            "Epoch 114/150\n",
            "20000/20000 [==============================] - 167s 8ms/step - loss: 0.4667 - acc: 0.8332 - val_loss: 0.7964 - val_acc: 0.7315\n",
            "Epoch 115/150\n",
            "20000/20000 [==============================] - 167s 8ms/step - loss: 0.4596 - acc: 0.8351 - val_loss: 0.8000 - val_acc: 0.7316\n",
            "Epoch 116/150\n",
            "20000/20000 [==============================] - 166s 8ms/step - loss: 0.4574 - acc: 0.8359 - val_loss: 0.8060 - val_acc: 0.7303\n",
            "Epoch 117/150\n",
            "20000/20000 [==============================] - 167s 8ms/step - loss: 0.4552 - acc: 0.8369 - val_loss: 0.8029 - val_acc: 0.7289\n",
            "Epoch 118/150\n",
            "20000/20000 [==============================] - 166s 8ms/step - loss: 0.4472 - acc: 0.8404 - val_loss: 0.7929 - val_acc: 0.7315\n",
            "Epoch 119/150\n",
            "20000/20000 [==============================] - 167s 8ms/step - loss: 0.4396 - acc: 0.8424 - val_loss: 0.8054 - val_acc: 0.7317\n",
            "Epoch 120/150\n",
            "20000/20000 [==============================] - 167s 8ms/step - loss: 0.4467 - acc: 0.8439 - val_loss: 0.7990 - val_acc: 0.7315\n",
            "Epoch 121/150\n",
            "20000/20000 [==============================] - 166s 8ms/step - loss: 0.4321 - acc: 0.8457 - val_loss: 0.8043 - val_acc: 0.7293\n",
            "Epoch 122/150\n",
            "20000/20000 [==============================] - 167s 8ms/step - loss: 0.4314 - acc: 0.8462 - val_loss: 0.7983 - val_acc: 0.7332\n",
            "Epoch 123/150\n",
            "20000/20000 [==============================] - 166s 8ms/step - loss: 0.4292 - acc: 0.8482 - val_loss: 0.8037 - val_acc: 0.7320\n",
            "Epoch 124/150\n",
            "20000/20000 [==============================] - 165s 8ms/step - loss: 0.4221 - acc: 0.8477 - val_loss: 0.8054 - val_acc: 0.7307\n",
            "Epoch 125/150\n",
            "20000/20000 [==============================] - 165s 8ms/step - loss: 0.4188 - acc: 0.8518 - val_loss: 0.8014 - val_acc: 0.7293\n",
            "Epoch 126/150\n",
            "20000/20000 [==============================] - 171s 9ms/step - loss: 0.4237 - acc: 0.8480 - val_loss: 0.8034 - val_acc: 0.7337\n",
            "Epoch 127/150\n",
            "20000/20000 [==============================] - 167s 8ms/step - loss: 0.4107 - acc: 0.8546 - val_loss: 0.8076 - val_acc: 0.7344\n",
            "Epoch 128/150\n",
            "20000/20000 [==============================] - 168s 8ms/step - loss: 0.4047 - acc: 0.8557 - val_loss: 0.8136 - val_acc: 0.7318\n",
            "Epoch 129/150\n",
            "20000/20000 [==============================] - 168s 8ms/step - loss: 0.4120 - acc: 0.8552 - val_loss: 0.7993 - val_acc: 0.7347\n",
            "Epoch 130/150\n",
            "20000/20000 [==============================] - 169s 8ms/step - loss: 0.3987 - acc: 0.8588 - val_loss: 0.8050 - val_acc: 0.7344\n",
            "Epoch 131/150\n",
            "20000/20000 [==============================] - 169s 8ms/step - loss: 0.3972 - acc: 0.8551 - val_loss: 0.8065 - val_acc: 0.7321\n",
            "Epoch 132/150\n",
            "20000/20000 [==============================] - 168s 8ms/step - loss: 0.3967 - acc: 0.8583 - val_loss: 0.8092 - val_acc: 0.7312\n",
            "Epoch 133/150\n",
            "20000/20000 [==============================] - 169s 8ms/step - loss: 0.3899 - acc: 0.8618 - val_loss: 0.8220 - val_acc: 0.7335\n",
            "Epoch 134/150\n",
            "20000/20000 [==============================] - 168s 8ms/step - loss: 0.3970 - acc: 0.8598 - val_loss: 0.8066 - val_acc: 0.7357\n",
            "Epoch 135/150\n",
            "20000/20000 [==============================] - 169s 8ms/step - loss: 0.3806 - acc: 0.8662 - val_loss: 0.8188 - val_acc: 0.7308\n",
            "Epoch 136/150\n",
            "20000/20000 [==============================] - 168s 8ms/step - loss: 0.3837 - acc: 0.8646 - val_loss: 0.8143 - val_acc: 0.7333\n",
            "Epoch 137/150\n",
            "20000/20000 [==============================] - 168s 8ms/step - loss: 0.3807 - acc: 0.8640 - val_loss: 0.8092 - val_acc: 0.7346\n",
            "Epoch 138/150\n",
            "20000/20000 [==============================] - 168s 8ms/step - loss: 0.3722 - acc: 0.8696 - val_loss: 0.8241 - val_acc: 0.7305\n",
            "Epoch 139/150\n",
            "20000/20000 [==============================] - 168s 8ms/step - loss: 0.3708 - acc: 0.8659 - val_loss: 0.8107 - val_acc: 0.7371\n",
            "Epoch 140/150\n",
            "20000/20000 [==============================] - 167s 8ms/step - loss: 0.3646 - acc: 0.8699 - val_loss: 0.8128 - val_acc: 0.7359\n",
            "Epoch 141/150\n",
            "20000/20000 [==============================] - 168s 8ms/step - loss: 0.3639 - acc: 0.8713 - val_loss: 0.8270 - val_acc: 0.7337\n",
            "Epoch 142/150\n",
            "20000/20000 [==============================] - 193s 10ms/step - loss: 0.3697 - acc: 0.8679 - val_loss: 0.8114 - val_acc: 0.7373\n",
            "Epoch 143/150\n",
            "20000/20000 [==============================] - 344s 17ms/step - loss: 0.3627 - acc: 0.8696 - val_loss: 0.8129 - val_acc: 0.7348\n",
            "Epoch 144/150\n",
            "20000/20000 [==============================] - 343s 17ms/step - loss: 0.3573 - acc: 0.8696 - val_loss: 0.8244 - val_acc: 0.7350\n",
            "Epoch 145/150\n",
            "20000/20000 [==============================] - 343s 17ms/step - loss: 0.3542 - acc: 0.8742 - val_loss: 0.8097 - val_acc: 0.7345\n",
            "Epoch 146/150\n",
            "20000/20000 [==============================] - 343s 17ms/step - loss: 0.3520 - acc: 0.8754 - val_loss: 0.8321 - val_acc: 0.7318\n",
            "Epoch 147/150\n",
            "20000/20000 [==============================] - 343s 17ms/step - loss: 0.3459 - acc: 0.8751 - val_loss: 0.8321 - val_acc: 0.7360\n",
            "Epoch 148/150\n",
            "20000/20000 [==============================] - 344s 17ms/step - loss: 0.3392 - acc: 0.8796 - val_loss: 0.8386 - val_acc: 0.7312\n",
            "Epoch 149/150\n",
            "20000/20000 [==============================] - 342s 17ms/step - loss: 0.3412 - acc: 0.8778 - val_loss: 0.8212 - val_acc: 0.7371\n",
            "Epoch 150/150\n",
            "20000/20000 [==============================] - 343s 17ms/step - loss: 0.3381 - acc: 0.8792 - val_loss: 0.8354 - val_acc: 0.7379\n"
          ],
          "name": "stdout"
        }
      ]
    },
    {
      "cell_type": "code",
      "metadata": {
        "id": "APHoTXW0SLKf",
        "colab_type": "code",
        "outputId": "aef67fdc-3391-4196-9c67-965d6177f18e",
        "colab": {
          "base_uri": "https://localhost:8080/",
          "height": 572
        }
      },
      "source": [
        "# summarize history for accuracy\n",
        "plt.plot(train_model1.history['acc'])\n",
        "plt.plot(train_model1.history['val_acc'])\n",
        "plt.title('model accuracy')\n",
        "plt.ylabel('accuracy')\n",
        "plt.xlabel('epoch')\n",
        "plt.legend(['train', 'test'], loc='upper left')\n",
        "plt.show()\n",
        "# summarize history for loss\n",
        "plt.plot(train_model1.history['loss'])\n",
        "plt.plot(train_model1.history['val_loss'])\n",
        "plt.title('model loss')\n",
        "plt.ylabel('loss')\n",
        "plt.xlabel('epoch')\n",
        "plt.legend(['train', 'test'], loc='upper left')\n",
        "plt.show()"
      ],
      "execution_count": 0,
      "outputs": [
        {
          "output_type": "display_data",
          "data": {
            "image/png": "[encoded data removed]",
            "text/plain": [
              "<Figure size 432x288 with 1 Axes>"
            ]
          },
          "metadata": {
            "tags": []
          }
        },
        {
          "output_type": "display_data",
          "data": {
            "image/png": "[encoded data removed]",
            "text/plain": [
              "<Figure size 432x288 with 1 Axes>"
            ]
          },
          "metadata": {
            "tags": []
          }
        }
      ]
    },
    {
      "cell_type": "markdown",
      "metadata": {
        "id": "5lvgdi86DWjZ",
        "colab_type": "text"
      },
      "source": [
        "#### Model 2"
      ]
    },
    {
      "cell_type": "code",
      "metadata": {
        "id": "G7CzyVNzDXC8",
        "colab_type": "code",
        "colab": {}
      },
      "source": [
        "def model2(model,batch_size,epochs):\n",
        "    \n",
        "        model.add(Conv2D(128, (3, 3) ,padding='same',input_shape=x_train.shape[1:]))\n",
        "        model.add(Activation('relu'))\n",
        "        \n",
        "        model.add(MaxPooling2D(pool_size=(2, 2)))\n",
        "        model.add(Dropout(rate = 0.25))\n",
        "        \n",
        "        model.add(Conv2D(64, (3, 3)))\n",
        "        model.add(Activation('relu'))\n",
        "   \n",
        "        model.add(MaxPooling2D(pool_size=(2, 2)))\n",
        "        model.add(Dropout(rate = 0.25))\n",
        "\n",
        "        model.add(Conv2D(32, (3, 3), padding='same'))\n",
        "        model.add(Activation('relu'))\n",
        "        \n",
        "        model.add(MaxPooling2D(pool_size=(2, 2)))\n",
        "        model.add(Dropout(rate = 0.25))\n",
        "\n",
        "        model.add(Flatten())\n",
        "        model.add(Dense(1024))\n",
        "        model.add(Activation('relu'))\n",
        "        model.add(Dense(512))\n",
        "        model.add(Activation('relu'))\n",
        "        model.add(Dropout(rate = 0.5))\n",
        "        model.add(Dense(num_classes))\n",
        "        model.add(Activation('softmax'))\n",
        "        \n",
        "        opt = keras.optimizers.adam(lr=0.0001, decay=1e-6)\n",
        "            \n",
        "\n",
        "        # Let's train the model\n",
        "        model.compile(loss='categorical_crossentropy',\n",
        "              optimizer=opt,\n",
        "              metrics=['accuracy'])\n",
        "        \n",
        "        history = model.fit(x_train, y_train,\n",
        "              batch_size=batch_size,\n",
        "              epochs=epochs,\n",
        "              validation_data=(x_test, y_test),\n",
        "              shuffle=True)\n",
        "        return history"
      ],
      "execution_count": 0,
      "outputs": []
    },
    {
      "cell_type": "code",
      "metadata": {
        "id": "wT117QwVDqJX",
        "colab_type": "code",
        "outputId": "2c9cbfca-2320-4dc3-e371-62fc813a7e2e",
        "colab": {
          "base_uri": "https://localhost:8080/",
          "height": 1000
        }
      },
      "source": [
        "tmodel2 = Sequential()\n",
        "train_model2 = model2(tmodel2,128,50)"
      ],
      "execution_count": 0,
      "outputs": [
        {
          "output_type": "stream",
          "text": [
            "WARNING: Logging before flag parsing goes to stderr.\n",
            "W0703 05:23:21.543370 140713814325120 deprecation_wrapper.py:119] From /usr/local/lib/python3.6/dist-packages/keras/backend/tensorflow_backend.py:74: The name tf.get_default_graph is deprecated. Please use tf.compat.v1.get_default_graph instead.\n",
            "\n",
            "W0703 05:23:21.579010 140713814325120 deprecation_wrapper.py:119] From /usr/local/lib/python3.6/dist-packages/keras/backend/tensorflow_backend.py:517: The name tf.placeholder is deprecated. Please use tf.compat.v1.placeholder instead.\n",
            "\n",
            "W0703 05:23:21.586394 140713814325120 deprecation_wrapper.py:119] From /usr/local/lib/python3.6/dist-packages/keras/backend/tensorflow_backend.py:4138: The name tf.random_uniform is deprecated. Please use tf.random.uniform instead.\n",
            "\n",
            "W0703 05:23:21.631334 140713814325120 deprecation_wrapper.py:119] From /usr/local/lib/python3.6/dist-packages/keras/backend/tensorflow_backend.py:3976: The name tf.nn.max_pool is deprecated. Please use tf.nn.max_pool2d instead.\n",
            "\n",
            "W0703 05:23:21.634386 140713814325120 deprecation_wrapper.py:119] From /usr/local/lib/python3.6/dist-packages/keras/backend/tensorflow_backend.py:133: The name tf.placeholder_with_default is deprecated. Please use tf.compat.v1.placeholder_with_default instead.\n",
            "\n",
            "W0703 05:23:21.647776 140713814325120 deprecation.py:506] From /usr/local/lib/python3.6/dist-packages/keras/backend/tensorflow_backend.py:3445: calling dropout (from tensorflow.python.ops.nn_ops) with keep_prob is deprecated and will be removed in a future version.\n",
            "Instructions for updating:\n",
            "Please use `rate` instead of `keep_prob`. Rate should be set to `rate = 1 - keep_prob`.\n",
            "W0703 05:23:21.820454 140713814325120 deprecation_wrapper.py:119] From /usr/local/lib/python3.6/dist-packages/keras/optimizers.py:790: The name tf.train.Optimizer is deprecated. Please use tf.compat.v1.train.Optimizer instead.\n",
            "\n",
            "W0703 05:23:21.832034 140713814325120 deprecation_wrapper.py:119] From /usr/local/lib/python3.6/dist-packages/keras/backend/tensorflow_backend.py:3295: The name tf.log is deprecated. Please use tf.math.log instead.\n",
            "\n",
            "W0703 05:23:21.969214 140713814325120 deprecation.py:323] From /usr/local/lib/python3.6/dist-packages/tensorflow/python/ops/math_grad.py:1250: add_dispatch_support.<locals>.wrapper (from tensorflow.python.ops.array_ops) is deprecated and will be removed in a future version.\n",
            "Instructions for updating:\n",
            "Use tf.where in 2.0, which has the same broadcast rule as np.where\n"
          ],
          "name": "stderr"
        },
        {
          "output_type": "stream",
          "text": [
            "Train on 20000 samples, validate on 10000 samples\n",
            "Epoch 1/50\n",
            "20000/20000 [==============================] - 107s 5ms/step - loss: 2.2270 - acc: 0.1502 - val_loss: 2.0768 - val_acc: 0.2233\n",
            "Epoch 2/50\n",
            "20000/20000 [==============================] - 104s 5ms/step - loss: 1.9870 - acc: 0.2606 - val_loss: 1.8712 - val_acc: 0.3471\n",
            "Epoch 3/50\n",
            "20000/20000 [==============================] - 104s 5ms/step - loss: 1.8212 - acc: 0.3324 - val_loss: 1.7516 - val_acc: 0.3826\n",
            "Epoch 4/50\n",
            "20000/20000 [==============================] - 104s 5ms/step - loss: 1.7335 - acc: 0.3634 - val_loss: 1.6759 - val_acc: 0.4034\n",
            "Epoch 5/50\n",
            "20000/20000 [==============================] - 105s 5ms/step - loss: 1.6682 - acc: 0.3833 - val_loss: 1.6089 - val_acc: 0.4287\n",
            "Epoch 6/50\n",
            "20000/20000 [==============================] - 105s 5ms/step - loss: 1.6169 - acc: 0.4060 - val_loss: 1.5717 - val_acc: 0.4429\n",
            "Epoch 7/50\n",
            "20000/20000 [==============================] - 105s 5ms/step - loss: 1.5749 - acc: 0.4206 - val_loss: 1.5361 - val_acc: 0.4532\n",
            "Epoch 8/50\n",
            "20000/20000 [==============================] - 105s 5ms/step - loss: 1.5430 - acc: 0.4367 - val_loss: 1.5038 - val_acc: 0.4659\n",
            "Epoch 9/50\n",
            "20000/20000 [==============================] - 104s 5ms/step - loss: 1.5035 - acc: 0.4476 - val_loss: 1.4422 - val_acc: 0.4839\n",
            "Epoch 10/50\n",
            "20000/20000 [==============================] - 104s 5ms/step - loss: 1.4785 - acc: 0.4626 - val_loss: 1.4173 - val_acc: 0.4971\n",
            "Epoch 11/50\n",
            "20000/20000 [==============================] - 104s 5ms/step - loss: 1.4564 - acc: 0.4694 - val_loss: 1.3863 - val_acc: 0.5118\n",
            "Epoch 12/50\n",
            "20000/20000 [==============================] - 104s 5ms/step - loss: 1.4272 - acc: 0.4801 - val_loss: 1.3688 - val_acc: 0.5179\n",
            "Epoch 13/50\n",
            "20000/20000 [==============================] - 104s 5ms/step - loss: 1.4058 - acc: 0.4873 - val_loss: 1.3559 - val_acc: 0.5134\n",
            "Epoch 14/50\n",
            "20000/20000 [==============================] - 103s 5ms/step - loss: 1.3874 - acc: 0.4923 - val_loss: 1.3116 - val_acc: 0.5365\n",
            "Epoch 15/50\n",
            "20000/20000 [==============================] - 102s 5ms/step - loss: 1.3607 - acc: 0.5031 - val_loss: 1.2934 - val_acc: 0.5369\n",
            "Epoch 16/50\n",
            "20000/20000 [==============================] - 103s 5ms/step - loss: 1.3513 - acc: 0.5130 - val_loss: 1.2868 - val_acc: 0.5477\n",
            "Epoch 17/50\n",
            "20000/20000 [==============================] - 102s 5ms/step - loss: 1.3277 - acc: 0.5201 - val_loss: 1.2584 - val_acc: 0.5553\n",
            "Epoch 18/50\n",
            "20000/20000 [==============================] - 103s 5ms/step - loss: 1.3117 - acc: 0.5311 - val_loss: 1.2560 - val_acc: 0.5528\n",
            "Epoch 19/50\n",
            "20000/20000 [==============================] - 103s 5ms/step - loss: 1.2949 - acc: 0.5362 - val_loss: 1.2312 - val_acc: 0.5659\n",
            "Epoch 20/50\n",
            "20000/20000 [==============================] - 102s 5ms/step - loss: 1.2792 - acc: 0.5371 - val_loss: 1.2166 - val_acc: 0.5698\n",
            "Epoch 21/50\n",
            "20000/20000 [==============================] - 103s 5ms/step - loss: 1.2777 - acc: 0.5429 - val_loss: 1.2103 - val_acc: 0.5758\n",
            "Epoch 22/50\n",
            "20000/20000 [==============================] - 102s 5ms/step - loss: 1.2590 - acc: 0.5443 - val_loss: 1.2059 - val_acc: 0.5757\n",
            "Epoch 23/50\n",
            "20000/20000 [==============================] - 103s 5ms/step - loss: 1.2421 - acc: 0.5568 - val_loss: 1.1717 - val_acc: 0.5878\n",
            "Epoch 24/50\n",
            "20000/20000 [==============================] - 102s 5ms/step - loss: 1.2300 - acc: 0.5610 - val_loss: 1.1647 - val_acc: 0.5902\n",
            "Epoch 25/50\n",
            "20000/20000 [==============================] - 102s 5ms/step - loss: 1.2208 - acc: 0.5605 - val_loss: 1.1694 - val_acc: 0.5825\n",
            "Epoch 26/50\n",
            "20000/20000 [==============================] - 102s 5ms/step - loss: 1.2164 - acc: 0.5675 - val_loss: 1.1515 - val_acc: 0.5947\n",
            "Epoch 27/50\n",
            "20000/20000 [==============================] - 102s 5ms/step - loss: 1.1946 - acc: 0.5721 - val_loss: 1.1403 - val_acc: 0.5959\n",
            "Epoch 28/50\n",
            "20000/20000 [==============================] - 103s 5ms/step - loss: 1.1910 - acc: 0.5695 - val_loss: 1.1325 - val_acc: 0.6040\n",
            "Epoch 29/50\n",
            "20000/20000 [==============================] - 104s 5ms/step - loss: 1.1811 - acc: 0.5781 - val_loss: 1.1152 - val_acc: 0.6085\n",
            "Epoch 30/50\n",
            "20000/20000 [==============================] - 106s 5ms/step - loss: 1.1713 - acc: 0.5831 - val_loss: 1.1234 - val_acc: 0.6027\n",
            "Epoch 31/50\n",
            "20000/20000 [==============================] - 103s 5ms/step - loss: 1.1578 - acc: 0.5866 - val_loss: 1.1047 - val_acc: 0.6084\n",
            "Epoch 32/50\n",
            "20000/20000 [==============================] - 102s 5ms/step - loss: 1.1494 - acc: 0.5907 - val_loss: 1.0806 - val_acc: 0.6215\n",
            "Epoch 33/50\n",
            "20000/20000 [==============================] - 101s 5ms/step - loss: 1.1373 - acc: 0.5921 - val_loss: 1.0822 - val_acc: 0.6194\n",
            "Epoch 34/50\n",
            "20000/20000 [==============================] - 101s 5ms/step - loss: 1.1254 - acc: 0.5983 - val_loss: 1.0757 - val_acc: 0.6283\n",
            "Epoch 35/50\n",
            "20000/20000 [==============================] - 101s 5ms/step - loss: 1.1202 - acc: 0.5967 - val_loss: 1.0651 - val_acc: 0.6240\n",
            "Epoch 36/50\n",
            "20000/20000 [==============================] - 102s 5ms/step - loss: 1.1077 - acc: 0.6048 - val_loss: 1.0704 - val_acc: 0.6247\n",
            "Epoch 37/50\n",
            "20000/20000 [==============================] - 103s 5ms/step - loss: 1.1028 - acc: 0.6064 - val_loss: 1.0448 - val_acc: 0.6319\n",
            "Epoch 38/50\n",
            "20000/20000 [==============================] - 102s 5ms/step - loss: 1.0934 - acc: 0.6103 - val_loss: 1.0367 - val_acc: 0.6369\n",
            "Epoch 39/50\n",
            "20000/20000 [==============================] - 103s 5ms/step - loss: 1.0737 - acc: 0.6159 - val_loss: 1.0304 - val_acc: 0.6385\n",
            "Epoch 40/50\n",
            "20000/20000 [==============================] - 103s 5ms/step - loss: 1.0773 - acc: 0.6126 - val_loss: 1.0410 - val_acc: 0.6397\n",
            "Epoch 41/50\n",
            "20000/20000 [==============================] - 102s 5ms/step - loss: 1.0719 - acc: 0.6152 - val_loss: 1.0188 - val_acc: 0.6460\n",
            "Epoch 42/50\n",
            "20000/20000 [==============================] - 102s 5ms/step - loss: 1.0609 - acc: 0.6203 - val_loss: 1.0145 - val_acc: 0.6434\n",
            "Epoch 43/50\n",
            "20000/20000 [==============================] - 103s 5ms/step - loss: 1.0582 - acc: 0.6221 - val_loss: 1.0227 - val_acc: 0.6422\n",
            "Epoch 44/50\n",
            "20000/20000 [==============================] - 102s 5ms/step - loss: 1.0427 - acc: 0.6270 - val_loss: 1.0084 - val_acc: 0.6419\n",
            "Epoch 45/50\n",
            "20000/20000 [==============================] - 102s 5ms/step - loss: 1.0378 - acc: 0.6306 - val_loss: 0.9844 - val_acc: 0.6580\n",
            "Epoch 46/50\n",
            "20000/20000 [==============================] - 103s 5ms/step - loss: 1.0229 - acc: 0.6354 - val_loss: 0.9955 - val_acc: 0.6466\n",
            "Epoch 47/50\n",
            "20000/20000 [==============================] - 103s 5ms/step - loss: 1.0238 - acc: 0.6366 - val_loss: 0.9727 - val_acc: 0.6583\n",
            "Epoch 48/50\n",
            "20000/20000 [==============================] - 103s 5ms/step - loss: 1.0073 - acc: 0.6435 - val_loss: 0.9918 - val_acc: 0.6511\n",
            "Epoch 49/50\n",
            "20000/20000 [==============================] - 103s 5ms/step - loss: 1.0080 - acc: 0.6405 - val_loss: 0.9850 - val_acc: 0.6538\n",
            "Epoch 50/50\n",
            "20000/20000 [==============================] - 103s 5ms/step - loss: 0.9979 - acc: 0.6456 - val_loss: 0.9640 - val_acc: 0.6633\n"
          ],
          "name": "stdout"
        }
      ]
    },
    {
      "cell_type": "code",
      "metadata": {
        "id": "DaDnCmRhm0r0",
        "colab_type": "code",
        "outputId": "2ae8288c-97d3-4611-b6a3-f02ae67fa11b",
        "colab": {
          "base_uri": "https://localhost:8080/",
          "height": 572
        }
      },
      "source": [
        "# summarize history for accuracy\n",
        "plt.plot(train_model2.history['acc'])\n",
        "plt.plot(train_model2.history['val_acc'])\n",
        "plt.title('model accuracy')\n",
        "plt.ylabel('accuracy')\n",
        "plt.xlabel('epoch')\n",
        "plt.legend(['train', 'test'], loc='upper left')\n",
        "plt.show()\n",
        "# summarize history for loss\n",
        "plt.plot(train_model2.history['loss'])\n",
        "plt.plot(train_model2.history['val_loss'])\n",
        "plt.title('model loss')\n",
        "plt.ylabel('loss')\n",
        "plt.xlabel('epoch')\n",
        "plt.legend(['train', 'test'], loc='upper left')\n",
        "plt.show()"
      ],
      "execution_count": 0,
      "outputs": [
        {
          "output_type": "display_data",
          "data": {
            "image/png": "[encoded data removed]",
            "text/plain": [
              "<Figure size 432x288 with 1 Axes>"
            ]
          },
          "metadata": {
            "tags": []
          }
        },
        {
          "output_type": "display_data",
          "data": {
            "image/png": "[encoded data removed]",
            "text/plain": [
              "<Figure size 432x288 with 1 Axes>"
            ]
          },
          "metadata": {
            "tags": []
          }
        }
      ]
    },
    {
      "cell_type": "markdown",
      "metadata": {
        "id": "Mxp61BbdEGA7",
        "colab_type": "text"
      },
      "source": [
        "#### Model 3"
      ]
    },
    {
      "cell_type": "code",
      "metadata": {
        "id": "s_rkHcNhEFAW",
        "colab_type": "code",
        "colab": {}
      },
      "source": [
        "def model3(model,batch_size,epochs):\n",
        "    \n",
        "        model.add(Conv2D(256, (3, 3) ,padding='same',input_shape=x_train.shape[1:]))\n",
        "        model.add(Activation('relu'))\n",
        "        \n",
        "        model.add(MaxPooling2D(pool_size=(2, 2)))\n",
        "        model.add(Dropout(rate = 0.25))\n",
        "        \n",
        "        model.add(Conv2D(128, (3, 3)))\n",
        "        model.add(Activation('relu'))\n",
        "   \n",
        "        model.add(MaxPooling2D(pool_size=(2, 2)))\n",
        "        model.add(Dropout(rate = 0.25))\n",
        "\n",
        "        model.add(Conv2D(64, (3, 3), padding='same'))\n",
        "        model.add(Activation('relu'))\n",
        "        \n",
        "        model.add(MaxPooling2D(pool_size=(2, 2)))\n",
        "        model.add(Dropout(rate = 0.25))\n",
        "\n",
        "        model.add(Flatten())\n",
        "        model.add(Dense(1024))\n",
        "        model.add(Activation('relu'))\n",
        "        model.add(Dense(512))\n",
        "        model.add(Activation('relu'))\n",
        "        model.add(Dropout(rate = 0.5))\n",
        "        model.add(Dense(num_classes))\n",
        "        model.add(Activation('softmax'))\n",
        "        \n",
        "        opt = keras.optimizers.adam(lr=0.0001, decay=1e-6)\n",
        "            \n",
        "\n",
        "        # Let's train the model\n",
        "        model.compile(loss='categorical_crossentropy',\n",
        "              optimizer=opt,\n",
        "              metrics=['accuracy'])\n",
        "        \n",
        "        history = model.fit(x_train, y_train,\n",
        "              batch_size=batch_size,\n",
        "              epochs=epochs,\n",
        "              validation_data=(x_test, y_test),\n",
        "              shuffle=True)\n",
        "        return history"
      ],
      "execution_count": 0,
      "outputs": []
    },
    {
      "cell_type": "markdown",
      "metadata": {
        "id": "uuGAqB32EVCw",
        "colab_type": "text"
      },
      "source": [
        ""
      ]
    },
    {
      "cell_type": "code",
      "metadata": {
        "id": "SrT7wx1-ER0W",
        "colab_type": "code",
        "outputId": "31b9d9c4-81d0-441c-e5ef-122a111886c0",
        "colab": {
          "base_uri": "https://localhost:8080/",
          "height": 1000
        }
      },
      "source": [
        "tmodel3 = Sequential()\n",
        "train_model3 = model3(tmodel3,128,50)"
      ],
      "execution_count": 0,
      "outputs": [
        {
          "output_type": "stream",
          "text": [
            "Train on 20000 samples, validate on 10000 samples\n",
            "Epoch 1/50\n",
            "20000/20000 [==============================] - 274s 14ms/step - loss: 2.1614 - acc: 0.1794 - val_loss: 1.9338 - val_acc: 0.3123\n",
            "Epoch 2/50\n",
            "20000/20000 [==============================] - 275s 14ms/step - loss: 1.8376 - acc: 0.3256 - val_loss: 1.7129 - val_acc: 0.3894\n",
            "Epoch 3/50\n",
            "20000/20000 [==============================] - 275s 14ms/step - loss: 1.7040 - acc: 0.3714 - val_loss: 1.6188 - val_acc: 0.4202\n",
            "Epoch 4/50\n",
            "20000/20000 [==============================] - 275s 14ms/step - loss: 1.6071 - acc: 0.4084 - val_loss: 1.5028 - val_acc: 0.4600\n",
            "Epoch 5/50\n",
            "20000/20000 [==============================] - 274s 14ms/step - loss: 1.5228 - acc: 0.4384 - val_loss: 1.4404 - val_acc: 0.4840\n",
            "Epoch 6/50\n",
            "20000/20000 [==============================] - 274s 14ms/step - loss: 1.4742 - acc: 0.4591 - val_loss: 1.3931 - val_acc: 0.5033\n",
            "Epoch 7/50\n",
            "20000/20000 [==============================] - 275s 14ms/step - loss: 1.4262 - acc: 0.4833 - val_loss: 1.3970 - val_acc: 0.5031\n",
            "Epoch 8/50\n",
            "20000/20000 [==============================] - 276s 14ms/step - loss: 1.3842 - acc: 0.4970 - val_loss: 1.3105 - val_acc: 0.5384\n",
            "Epoch 9/50\n",
            "20000/20000 [==============================] - 276s 14ms/step - loss: 1.3536 - acc: 0.5134 - val_loss: 1.2845 - val_acc: 0.5499\n",
            "Epoch 10/50\n",
            "20000/20000 [==============================] - 277s 14ms/step - loss: 1.3170 - acc: 0.5238 - val_loss: 1.2536 - val_acc: 0.5565\n",
            "Epoch 11/50\n",
            "20000/20000 [==============================] - 276s 14ms/step - loss: 1.2929 - acc: 0.5314 - val_loss: 1.2176 - val_acc: 0.5681\n",
            "Epoch 12/50\n",
            "20000/20000 [==============================] - 277s 14ms/step - loss: 1.2575 - acc: 0.5504 - val_loss: 1.1816 - val_acc: 0.5842\n",
            "Epoch 13/50\n",
            "20000/20000 [==============================] - 279s 14ms/step - loss: 1.2363 - acc: 0.5578 - val_loss: 1.1643 - val_acc: 0.5929\n",
            "Epoch 14/50\n",
            "20000/20000 [==============================] - 279s 14ms/step - loss: 1.2146 - acc: 0.5630 - val_loss: 1.1516 - val_acc: 0.5961\n",
            "Epoch 15/50\n",
            "20000/20000 [==============================] - 278s 14ms/step - loss: 1.1915 - acc: 0.5787 - val_loss: 1.1342 - val_acc: 0.6047\n",
            "Epoch 16/50\n",
            "20000/20000 [==============================] - 277s 14ms/step - loss: 1.1704 - acc: 0.5841 - val_loss: 1.1469 - val_acc: 0.5995\n",
            "Epoch 17/50\n",
            "20000/20000 [==============================] - 278s 14ms/step - loss: 1.1509 - acc: 0.5924 - val_loss: 1.0828 - val_acc: 0.6177\n",
            "Epoch 18/50\n",
            "20000/20000 [==============================] - 278s 14ms/step - loss: 1.1249 - acc: 0.5998 - val_loss: 1.0801 - val_acc: 0.6223\n",
            "Epoch 19/50\n",
            "20000/20000 [==============================] - 278s 14ms/step - loss: 1.1044 - acc: 0.6062 - val_loss: 1.0579 - val_acc: 0.6313\n",
            "Epoch 20/50\n",
            "20000/20000 [==============================] - 275s 14ms/step - loss: 1.0835 - acc: 0.6152 - val_loss: 1.0381 - val_acc: 0.6387\n",
            "Epoch 21/50\n",
            "20000/20000 [==============================] - 273s 14ms/step - loss: 1.0691 - acc: 0.6209 - val_loss: 1.0441 - val_acc: 0.6394\n",
            "Epoch 22/50\n",
            "20000/20000 [==============================] - 274s 14ms/step - loss: 1.0506 - acc: 0.6303 - val_loss: 1.0077 - val_acc: 0.6460\n",
            "Epoch 23/50\n",
            "20000/20000 [==============================] - 273s 14ms/step - loss: 1.0311 - acc: 0.6359 - val_loss: 1.0023 - val_acc: 0.6504\n",
            "Epoch 24/50\n",
            "20000/20000 [==============================] - 271s 14ms/step - loss: 1.0196 - acc: 0.6411 - val_loss: 0.9769 - val_acc: 0.6616\n",
            "Epoch 25/50\n",
            "20000/20000 [==============================] - 272s 14ms/step - loss: 0.9916 - acc: 0.6522 - val_loss: 0.9881 - val_acc: 0.6526\n",
            "Epoch 26/50\n",
            "20000/20000 [==============================] - 275s 14ms/step - loss: 0.9841 - acc: 0.6522 - val_loss: 0.9619 - val_acc: 0.6638\n",
            "Epoch 27/50\n",
            "20000/20000 [==============================] - 275s 14ms/step - loss: 0.9720 - acc: 0.6547 - val_loss: 0.9484 - val_acc: 0.6702\n",
            "Epoch 28/50\n",
            "20000/20000 [==============================] - 275s 14ms/step - loss: 0.9553 - acc: 0.6613 - val_loss: 0.9472 - val_acc: 0.6690\n",
            "Epoch 29/50\n",
            "20000/20000 [==============================] - 275s 14ms/step - loss: 0.9386 - acc: 0.6660 - val_loss: 0.9421 - val_acc: 0.6689\n",
            "Epoch 30/50\n",
            "20000/20000 [==============================] - 275s 14ms/step - loss: 0.9209 - acc: 0.6753 - val_loss: 0.9295 - val_acc: 0.6746\n",
            "Epoch 31/50\n",
            "20000/20000 [==============================] - 275s 14ms/step - loss: 0.9254 - acc: 0.6738 - val_loss: 0.9098 - val_acc: 0.6822\n",
            "Epoch 32/50\n",
            "20000/20000 [==============================] - 277s 14ms/step - loss: 0.8978 - acc: 0.6841 - val_loss: 0.8946 - val_acc: 0.6827\n",
            "Epoch 33/50\n",
            "20000/20000 [==============================] - 275s 14ms/step - loss: 0.8940 - acc: 0.6876 - val_loss: 0.8856 - val_acc: 0.6857\n",
            "Epoch 34/50\n",
            "20000/20000 [==============================] - 276s 14ms/step - loss: 0.8673 - acc: 0.6905 - val_loss: 0.8845 - val_acc: 0.6901\n",
            "Epoch 35/50\n",
            "20000/20000 [==============================] - 276s 14ms/step - loss: 0.8566 - acc: 0.6972 - val_loss: 0.8781 - val_acc: 0.6895\n",
            "Epoch 36/50\n",
            "20000/20000 [==============================] - 276s 14ms/step - loss: 0.8528 - acc: 0.6993 - val_loss: 0.8734 - val_acc: 0.6953\n",
            "Epoch 37/50\n",
            "20000/20000 [==============================] - 273s 14ms/step - loss: 0.8326 - acc: 0.7078 - val_loss: 0.8513 - val_acc: 0.6986\n",
            "Epoch 38/50\n",
            "20000/20000 [==============================] - 272s 14ms/step - loss: 0.8312 - acc: 0.7069 - val_loss: 0.8607 - val_acc: 0.7013\n",
            "Epoch 39/50\n",
            "20000/20000 [==============================] - 273s 14ms/step - loss: 0.8233 - acc: 0.7107 - val_loss: 0.8744 - val_acc: 0.6947\n",
            "Epoch 40/50\n",
            "20000/20000 [==============================] - 271s 14ms/step - loss: 0.8081 - acc: 0.7174 - val_loss: 0.8543 - val_acc: 0.7030\n",
            "Epoch 41/50\n",
            "20000/20000 [==============================] - 274s 14ms/step - loss: 0.7907 - acc: 0.7221 - val_loss: 0.8343 - val_acc: 0.7095\n",
            "Epoch 42/50\n",
            "20000/20000 [==============================] - 272s 14ms/step - loss: 0.7930 - acc: 0.7212 - val_loss: 0.8234 - val_acc: 0.7128\n",
            "Epoch 43/50\n",
            "20000/20000 [==============================] - 277s 14ms/step - loss: 0.7725 - acc: 0.7298 - val_loss: 0.8148 - val_acc: 0.7140\n",
            "Epoch 44/50\n",
            "20000/20000 [==============================] - 277s 14ms/step - loss: 0.7602 - acc: 0.7332 - val_loss: 0.8215 - val_acc: 0.7152\n",
            "Epoch 45/50\n",
            "20000/20000 [==============================] - 276s 14ms/step - loss: 0.7476 - acc: 0.7407 - val_loss: 0.8160 - val_acc: 0.7111\n",
            "Epoch 46/50\n",
            "20000/20000 [==============================] - 273s 14ms/step - loss: 0.7456 - acc: 0.7369 - val_loss: 0.8384 - val_acc: 0.7122\n",
            "Epoch 47/50\n",
            "20000/20000 [==============================] - 270s 13ms/step - loss: 0.7331 - acc: 0.7407 - val_loss: 0.8033 - val_acc: 0.7187\n",
            "Epoch 48/50\n",
            "20000/20000 [==============================] - 270s 13ms/step - loss: 0.7206 - acc: 0.7442 - val_loss: 0.7924 - val_acc: 0.7240\n",
            "Epoch 49/50\n",
            "20000/20000 [==============================] - 268s 13ms/step - loss: 0.7091 - acc: 0.7499 - val_loss: 0.7979 - val_acc: 0.7211\n",
            "Epoch 50/50\n",
            "20000/20000 [==============================] - 265s 13ms/step - loss: 0.7012 - acc: 0.7550 - val_loss: 0.7837 - val_acc: 0.7260\n"
          ],
          "name": "stdout"
        }
      ]
    },
    {
      "cell_type": "code",
      "metadata": {
        "id": "962nUoaVngCo",
        "colab_type": "code",
        "outputId": "7b022c19-1e14-4e20-a5f1-a48031ce88ab",
        "colab": {
          "base_uri": "https://localhost:8080/",
          "height": 572
        }
      },
      "source": [
        "# summarize history for accuracy\n",
        "plt.plot(train_model3.history['acc'])\n",
        "plt.plot(train_model3.history['val_acc'])\n",
        "plt.title('model accuracy')\n",
        "plt.ylabel('accuracy')\n",
        "plt.xlabel('epoch')\n",
        "plt.legend(['train', 'test'], loc='upper left')\n",
        "plt.show()\n",
        "# summarize history for loss\n",
        "plt.plot(train_model3.history['loss'])\n",
        "plt.plot(train_model3.history['val_loss'])\n",
        "plt.title('model loss')\n",
        "plt.ylabel('loss')\n",
        "plt.xlabel('epoch')\n",
        "plt.legend(['train', 'test'], loc='upper left')\n",
        "plt.show()"
      ],
      "execution_count": 0,
      "outputs": [
        {
          "output_type": "display_data",
          "data": {
            "image/png": "[encoded data removed]",
            "text/plain": [
              "<Figure size 432x288 with 1 Axes>"
            ]
          },
          "metadata": {
            "tags": []
          }
        },
        {
          "output_type": "display_data",
          "data": {
            "image/png": "[encoded data removed]",
            "text/plain": [
              "<Figure size 432x288 with 1 Axes>"
            ]
          },
          "metadata": {
            "tags": []
          }
        }
      ]
    },
    {
      "cell_type": "markdown",
      "metadata": {
        "id": "FWSzSiZOEWMH",
        "colab_type": "text"
      },
      "source": [
        "#### Model 4"
      ]
    },
    {
      "cell_type": "code",
      "metadata": {
        "id": "c74v0iptEUys",
        "colab_type": "code",
        "colab": {}
      },
      "source": [
        "def model4(model,batch_size,epochs):\n",
        "    \n",
        "        model.add(Conv2D(64, (3, 3) ,padding='same',input_shape=x_train.shape[1:]))\n",
        "        model.add(Activation('relu'))\n",
        "        \n",
        "        model.add(MaxPooling2D(pool_size=(2, 2)))\n",
        "        model.add(Dropout(rate = 0.25))\n",
        "        \n",
        "        model.add(Conv2D(128, (3, 3)))\n",
        "        model.add(Activation('relu'))\n",
        "   \n",
        "        model.add(MaxPooling2D(pool_size=(2, 2)))\n",
        "        model.add(Dropout(rate = 0.25))\n",
        "\n",
        "        model.add(Conv2D(256, (3, 3), padding='same'))\n",
        "        model.add(Activation('relu'))\n",
        "        \n",
        "        model.add(MaxPooling2D(pool_size=(2, 2)))\n",
        "        model.add(Dropout(rate = 0.25))\n",
        "\n",
        "        model.add(Flatten())\n",
        "        model.add(Dense(1024))\n",
        "        model.add(Activation('relu'))\n",
        "        model.add(Dense(512))\n",
        "        model.add(Activation('relu'))\n",
        "        model.add(Dropout(rate = 0.5))\n",
        "        model.add(Dense(num_classes))\n",
        "        model.add(Activation('softmax'))\n",
        "        \n",
        "        opt = keras.optimizers.adam(lr=0.0001, decay=1e-6)\n",
        "            \n",
        "\n",
        "        # Let's train the model\n",
        "        model.compile(loss='categorical_crossentropy',\n",
        "              optimizer=opt,\n",
        "              metrics=['accuracy'])\n",
        "        \n",
        "        history = model.fit(x_train, y_train,\n",
        "              batch_size=batch_size,\n",
        "              epochs=epochs,\n",
        "              validation_data=(x_test, y_test),\n",
        "              shuffle=True)\n",
        "        return history"
      ],
      "execution_count": 0,
      "outputs": []
    },
    {
      "cell_type": "code",
      "metadata": {
        "id": "C759HgpjEbFj",
        "colab_type": "code",
        "outputId": "effe9696-9c02-4dda-a2b4-f169228be58f",
        "colab": {
          "base_uri": "https://localhost:8080/",
          "height": 1000
        }
      },
      "source": [
        "tmodel4 = Sequential()\n",
        "train_model4 = model4(tmodel4,128,50)"
      ],
      "execution_count": 0,
      "outputs": [
        {
          "output_type": "stream",
          "text": [
            "Train on 20000 samples, validate on 10000 samples\n",
            "Epoch 1/50\n",
            "20000/20000 [==============================] - 134s 7ms/step - loss: 2.1717 - acc: 0.1829 - val_loss: 1.9853 - val_acc: 0.2943\n",
            "Epoch 2/50\n",
            "20000/20000 [==============================] - 133s 7ms/step - loss: 1.8440 - acc: 0.3195 - val_loss: 1.7486 - val_acc: 0.3784\n",
            "Epoch 3/50\n",
            "20000/20000 [==============================] - 135s 7ms/step - loss: 1.6795 - acc: 0.3846 - val_loss: 1.6057 - val_acc: 0.4290\n",
            "Epoch 4/50\n",
            "20000/20000 [==============================] - 134s 7ms/step - loss: 1.5785 - acc: 0.4186 - val_loss: 1.5355 - val_acc: 0.4605\n",
            "Epoch 5/50\n",
            "20000/20000 [==============================] - 134s 7ms/step - loss: 1.5147 - acc: 0.4430 - val_loss: 1.4795 - val_acc: 0.4817\n",
            "Epoch 6/50\n",
            "20000/20000 [==============================] - 134s 7ms/step - loss: 1.4560 - acc: 0.4742 - val_loss: 1.4555 - val_acc: 0.4841\n",
            "Epoch 7/50\n",
            "20000/20000 [==============================] - 133s 7ms/step - loss: 1.4043 - acc: 0.4887 - val_loss: 1.3817 - val_acc: 0.5105\n",
            "Epoch 8/50\n",
            "20000/20000 [==============================] - 132s 7ms/step - loss: 1.3716 - acc: 0.5038 - val_loss: 1.3355 - val_acc: 0.5285\n",
            "Epoch 9/50\n",
            "20000/20000 [==============================] - 133s 7ms/step - loss: 1.3273 - acc: 0.5193 - val_loss: 1.3068 - val_acc: 0.5395\n",
            "Epoch 10/50\n",
            "20000/20000 [==============================] - 135s 7ms/step - loss: 1.2928 - acc: 0.5358 - val_loss: 1.2362 - val_acc: 0.5668\n",
            "Epoch 11/50\n",
            "20000/20000 [==============================] - 137s 7ms/step - loss: 1.2638 - acc: 0.5441 - val_loss: 1.2185 - val_acc: 0.5718\n",
            "Epoch 12/50\n",
            "20000/20000 [==============================] - 135s 7ms/step - loss: 1.2272 - acc: 0.5638 - val_loss: 1.1959 - val_acc: 0.5792\n",
            "Epoch 13/50\n",
            "20000/20000 [==============================] - 134s 7ms/step - loss: 1.2036 - acc: 0.5655 - val_loss: 1.1742 - val_acc: 0.5906\n",
            "Epoch 14/50\n",
            "20000/20000 [==============================] - 133s 7ms/step - loss: 1.1718 - acc: 0.5805 - val_loss: 1.1581 - val_acc: 0.5914\n",
            "Epoch 15/50\n",
            "20000/20000 [==============================] - 135s 7ms/step - loss: 1.1461 - acc: 0.5913 - val_loss: 1.1488 - val_acc: 0.5983\n",
            "Epoch 16/50\n",
            "20000/20000 [==============================] - 134s 7ms/step - loss: 1.1227 - acc: 0.6037 - val_loss: 1.0852 - val_acc: 0.6139\n",
            "Epoch 17/50\n",
            "20000/20000 [==============================] - 134s 7ms/step - loss: 1.0941 - acc: 0.6117 - val_loss: 1.0838 - val_acc: 0.6202\n",
            "Epoch 18/50\n",
            "20000/20000 [==============================] - 134s 7ms/step - loss: 1.0708 - acc: 0.6193 - val_loss: 1.0608 - val_acc: 0.6263\n",
            "Epoch 19/50\n",
            "20000/20000 [==============================] - 134s 7ms/step - loss: 1.0390 - acc: 0.6330 - val_loss: 1.0556 - val_acc: 0.6279\n",
            "Epoch 20/50\n",
            "20000/20000 [==============================] - 132s 7ms/step - loss: 1.0236 - acc: 0.6391 - val_loss: 1.0456 - val_acc: 0.6320\n",
            "Epoch 21/50\n",
            "20000/20000 [==============================] - 134s 7ms/step - loss: 0.9964 - acc: 0.6482 - val_loss: 1.0104 - val_acc: 0.6422\n",
            "Epoch 22/50\n",
            "20000/20000 [==============================] - 133s 7ms/step - loss: 0.9815 - acc: 0.6513 - val_loss: 1.0027 - val_acc: 0.6433\n",
            "Epoch 23/50\n",
            "20000/20000 [==============================] - 137s 7ms/step - loss: 0.9601 - acc: 0.6605 - val_loss: 0.9792 - val_acc: 0.6534\n",
            "Epoch 24/50\n",
            "20000/20000 [==============================] - 137s 7ms/step - loss: 0.9272 - acc: 0.6724 - val_loss: 0.9780 - val_acc: 0.6570\n",
            "Epoch 25/50\n",
            "20000/20000 [==============================] - 137s 7ms/step - loss: 0.9108 - acc: 0.6788 - val_loss: 0.9395 - val_acc: 0.6680\n",
            "Epoch 26/50\n",
            "20000/20000 [==============================] - 137s 7ms/step - loss: 0.8966 - acc: 0.6838 - val_loss: 0.9757 - val_acc: 0.6507\n",
            "Epoch 27/50\n",
            "20000/20000 [==============================] - 137s 7ms/step - loss: 0.8754 - acc: 0.6894 - val_loss: 0.9221 - val_acc: 0.6727\n",
            "Epoch 28/50\n",
            "20000/20000 [==============================] - 137s 7ms/step - loss: 0.8559 - acc: 0.7014 - val_loss: 0.9286 - val_acc: 0.6701\n",
            "Epoch 29/50\n",
            "20000/20000 [==============================] - 137s 7ms/step - loss: 0.8395 - acc: 0.7060 - val_loss: 0.9220 - val_acc: 0.6731\n",
            "Epoch 30/50\n",
            "20000/20000 [==============================] - 137s 7ms/step - loss: 0.8181 - acc: 0.7139 - val_loss: 0.8955 - val_acc: 0.6855\n",
            "Epoch 31/50\n",
            "20000/20000 [==============================] - 137s 7ms/step - loss: 0.8045 - acc: 0.7195 - val_loss: 0.9337 - val_acc: 0.6707\n",
            "Epoch 32/50\n",
            "20000/20000 [==============================] - 137s 7ms/step - loss: 0.7777 - acc: 0.7265 - val_loss: 0.8736 - val_acc: 0.6945\n",
            "Epoch 33/50\n",
            "20000/20000 [==============================] - 137s 7ms/step - loss: 0.7635 - acc: 0.7323 - val_loss: 0.9008 - val_acc: 0.6797\n",
            "Epoch 34/50\n",
            "20000/20000 [==============================] - 137s 7ms/step - loss: 0.7405 - acc: 0.7414 - val_loss: 0.8688 - val_acc: 0.6945\n",
            "Epoch 35/50\n",
            "20000/20000 [==============================] - 137s 7ms/step - loss: 0.7289 - acc: 0.7418 - val_loss: 0.8535 - val_acc: 0.7011\n",
            "Epoch 36/50\n",
            "20000/20000 [==============================] - 137s 7ms/step - loss: 0.7112 - acc: 0.7489 - val_loss: 0.8546 - val_acc: 0.7018\n",
            "Epoch 37/50\n",
            "20000/20000 [==============================] - 137s 7ms/step - loss: 0.6883 - acc: 0.7559 - val_loss: 0.8371 - val_acc: 0.7077\n",
            "Epoch 38/50\n",
            "20000/20000 [==============================] - 137s 7ms/step - loss: 0.6699 - acc: 0.7638 - val_loss: 0.8481 - val_acc: 0.7035\n",
            "Epoch 39/50\n",
            "20000/20000 [==============================] - 137s 7ms/step - loss: 0.6551 - acc: 0.7677 - val_loss: 0.8322 - val_acc: 0.7069\n",
            "Epoch 40/50\n",
            "20000/20000 [==============================] - 137s 7ms/step - loss: 0.6334 - acc: 0.7781 - val_loss: 0.8250 - val_acc: 0.7128\n",
            "Epoch 41/50\n",
            "20000/20000 [==============================] - 137s 7ms/step - loss: 0.6226 - acc: 0.7831 - val_loss: 0.8466 - val_acc: 0.7056\n",
            "Epoch 42/50\n",
            "20000/20000 [==============================] - 137s 7ms/step - loss: 0.6016 - acc: 0.7905 - val_loss: 0.8244 - val_acc: 0.7107\n",
            "Epoch 43/50\n",
            "20000/20000 [==============================] - 137s 7ms/step - loss: 0.5833 - acc: 0.7943 - val_loss: 0.8243 - val_acc: 0.7143\n",
            "Epoch 44/50\n",
            "20000/20000 [==============================] - 137s 7ms/step - loss: 0.5634 - acc: 0.8039 - val_loss: 0.8244 - val_acc: 0.7160\n",
            "Epoch 45/50\n",
            "20000/20000 [==============================] - 137s 7ms/step - loss: 0.5401 - acc: 0.8123 - val_loss: 0.8266 - val_acc: 0.7122\n",
            "Epoch 46/50\n",
            "20000/20000 [==============================] - 137s 7ms/step - loss: 0.5290 - acc: 0.8141 - val_loss: 0.8194 - val_acc: 0.7147\n",
            "Epoch 47/50\n",
            "20000/20000 [==============================] - 137s 7ms/step - loss: 0.5207 - acc: 0.8183 - val_loss: 0.8152 - val_acc: 0.7192\n",
            "Epoch 48/50\n",
            "20000/20000 [==============================] - 137s 7ms/step - loss: 0.4971 - acc: 0.8258 - val_loss: 0.8205 - val_acc: 0.7210\n",
            "Epoch 49/50\n",
            "20000/20000 [==============================] - 137s 7ms/step - loss: 0.4840 - acc: 0.8287 - val_loss: 0.8184 - val_acc: 0.7254\n",
            "Epoch 50/50\n",
            "20000/20000 [==============================] - 137s 7ms/step - loss: 0.4696 - acc: 0.8356 - val_loss: 0.8163 - val_acc: 0.7256\n"
          ],
          "name": "stdout"
        }
      ]
    },
    {
      "cell_type": "code",
      "metadata": {
        "id": "edEE_HbFwNmF",
        "colab_type": "code",
        "outputId": "fa330570-688b-4d77-afb8-49e9a369070a",
        "colab": {
          "base_uri": "https://localhost:8080/",
          "height": 572
        }
      },
      "source": [
        "# summarize history for accuracy\n",
        "plt.plot(train_model4.history['acc'])\n",
        "plt.plot(train_model4.history['val_acc'])\n",
        "plt.title('model accuracy')\n",
        "plt.ylabel('accuracy')\n",
        "plt.xlabel('epoch')\n",
        "plt.legend(['train', 'test'], loc='upper left')\n",
        "plt.show()\n",
        "# summarize history for loss\n",
        "plt.plot(train_model4.history['loss'])\n",
        "plt.plot(train_model4.history['val_loss'])\n",
        "plt.title('model loss')\n",
        "plt.ylabel('loss')\n",
        "plt.xlabel('epoch')\n",
        "plt.legend(['train', 'test'], loc='upper left')\n",
        "plt.show()"
      ],
      "execution_count": 0,
      "outputs": [
        {
          "output_type": "display_data",
          "data": {
            "image/png": "[encoded data removed]",
            "text/plain": [
              "<Figure size 432x288 with 1 Axes>"
            ]
          },
          "metadata": {
            "tags": []
          }
        },
        {
          "output_type": "display_data",
          "data": {
            "image/png": "[encoded data removed]",
            "text/plain": [
              "<Figure size 432x288 with 1 Axes>"
            ]
          },
          "metadata": {
            "tags": []
          }
        }
      ]
    },
    {
      "cell_type": "markdown",
      "metadata": {
        "id": "jpyq5-4kEgWF",
        "colab_type": "text"
      },
      "source": [
        "#### Model 5"
      ]
    },
    {
      "cell_type": "code",
      "metadata": {
        "id": "FrtM7C2kEil4",
        "colab_type": "code",
        "colab": {}
      },
      "source": [
        "def model5(model,batch_size,epochs):\n",
        "    \n",
        "        model.add(Conv2D(32, (3, 3) ,padding='same',input_shape=x_train.shape[1:]))\n",
        "        model.add(Activation('relu'))\n",
        "        \n",
        "        model.add(MaxPooling2D(pool_size=(2, 2)))\n",
        "        model.add(Dropout(rate = 0.25))\n",
        "        \n",
        "        model.add(Conv2D(32, (3, 3)))\n",
        "        model.add(Activation('relu'))\n",
        "   \n",
        "        model.add(MaxPooling2D(pool_size=(2, 2)))\n",
        "        model.add(Dropout(rate = 0.25))\n",
        "\n",
        "        model.add(Conv2D(64, (3, 3), padding='same'))\n",
        "        model.add(Activation('relu'))\n",
        "        \n",
        "        model.add(MaxPooling2D(pool_size=(2, 2)))\n",
        "        model.add(Dropout(rate = 0.25))\n",
        "        \n",
        "        model.add(Conv2D(64, (3, 3), padding='same'))\n",
        "        model.add(Activation('relu'))\n",
        "        \n",
        "        model.add(MaxPooling2D(pool_size=(2, 2)))\n",
        "        model.add(Dropout(rate = 0.25))\n",
        "        \n",
        "\n",
        "        model.add(Flatten())\n",
        "        model.add(Dense(1024))\n",
        "        model.add(Activation('relu'))\n",
        "        model.add(Dense(512))\n",
        "        model.add(Activation('relu'))\n",
        "        model.add(Dropout(rate = 0.5))\n",
        "        model.add(Dense(num_classes))\n",
        "        model.add(Activation('softmax'))\n",
        "        \n",
        "        opt = keras.optimizers.adam(lr=0.0001, decay=1e-6)\n",
        "            \n",
        "\n",
        "        # Let's train the model\n",
        "        model.compile(loss='categorical_crossentropy',\n",
        "              optimizer=opt,\n",
        "              metrics=['accuracy'])\n",
        "        \n",
        "        history = model.fit(x_train, y_train,\n",
        "              batch_size=batch_size,\n",
        "              epochs=epochs,\n",
        "              validation_data=(x_test, y_test),\n",
        "              shuffle=True)\n",
        "        return history"
      ],
      "execution_count": 0,
      "outputs": []
    },
    {
      "cell_type": "code",
      "metadata": {
        "id": "ATYx1sOVEn0D",
        "colab_type": "code",
        "outputId": "ce455fd3-1e16-42ca-9496-7902440bd2c4",
        "colab": {
          "base_uri": "https://localhost:8080/",
          "height": 1000
        }
      },
      "source": [
        "tmodel5 = Sequential()\n",
        "train_model5 = model5(tmodel5,128,50)"
      ],
      "execution_count": 8,
      "outputs": [
        {
          "output_type": "stream",
          "text": [
            "WARNING: Logging before flag parsing goes to stderr.\n",
            "W0720 09:58:51.770870 140087084058496 deprecation_wrapper.py:119] From /usr/local/lib/python3.6/dist-packages/keras/backend/tensorflow_backend.py:74: The name tf.get_default_graph is deprecated. Please use tf.compat.v1.get_default_graph instead.\n",
            "\n",
            "W0720 09:58:51.813593 140087084058496 deprecation_wrapper.py:119] From /usr/local/lib/python3.6/dist-packages/keras/backend/tensorflow_backend.py:517: The name tf.placeholder is deprecated. Please use tf.compat.v1.placeholder instead.\n",
            "\n",
            "W0720 09:58:51.821266 140087084058496 deprecation_wrapper.py:119] From /usr/local/lib/python3.6/dist-packages/keras/backend/tensorflow_backend.py:4138: The name tf.random_uniform is deprecated. Please use tf.random.uniform instead.\n",
            "\n",
            "W0720 09:58:51.866656 140087084058496 deprecation_wrapper.py:119] From /usr/local/lib/python3.6/dist-packages/keras/backend/tensorflow_backend.py:3976: The name tf.nn.max_pool is deprecated. Please use tf.nn.max_pool2d instead.\n",
            "\n",
            "W0720 09:58:51.872882 140087084058496 deprecation_wrapper.py:119] From /usr/local/lib/python3.6/dist-packages/keras/backend/tensorflow_backend.py:133: The name tf.placeholder_with_default is deprecated. Please use tf.compat.v1.placeholder_with_default instead.\n",
            "\n",
            "W0720 09:58:51.883004 140087084058496 deprecation.py:506] From /usr/local/lib/python3.6/dist-packages/keras/backend/tensorflow_backend.py:3445: calling dropout (from tensorflow.python.ops.nn_ops) with keep_prob is deprecated and will be removed in a future version.\n",
            "Instructions for updating:\n",
            "Please use `rate` instead of `keep_prob`. Rate should be set to `rate = 1 - keep_prob`.\n",
            "W0720 09:58:52.080539 140087084058496 deprecation_wrapper.py:119] From /usr/local/lib/python3.6/dist-packages/keras/optimizers.py:790: The name tf.train.Optimizer is deprecated. Please use tf.compat.v1.train.Optimizer instead.\n",
            "\n",
            "W0720 09:58:52.091558 140087084058496 deprecation_wrapper.py:119] From /usr/local/lib/python3.6/dist-packages/keras/backend/tensorflow_backend.py:3295: The name tf.log is deprecated. Please use tf.math.log instead.\n",
            "\n",
            "W0720 09:58:52.339313 140087084058496 deprecation.py:323] From /usr/local/lib/python3.6/dist-packages/tensorflow/python/ops/math_grad.py:1250: add_dispatch_support.<locals>.wrapper (from tensorflow.python.ops.array_ops) is deprecated and will be removed in a future version.\n",
            "Instructions for updating:\n",
            "Use tf.where in 2.0, which has the same broadcast rule as np.where\n"
          ],
          "name": "stderr"
        },
        {
          "output_type": "stream",
          "text": [
            "Train on 20000 samples, validate on 10000 samples\n",
            "Epoch 1/50\n",
            "20000/20000 [==============================] - 35s 2ms/step - loss: 2.2875 - acc: 0.1106 - val_loss: 2.2271 - val_acc: 0.1995\n",
            "Epoch 2/50\n",
            "20000/20000 [==============================] - 34s 2ms/step - loss: 2.1046 - acc: 0.2035 - val_loss: 2.0841 - val_acc: 0.2329\n",
            "Epoch 3/50\n",
            "20000/20000 [==============================] - 35s 2ms/step - loss: 2.0135 - acc: 0.2367 - val_loss: 2.0080 - val_acc: 0.2559\n",
            "Epoch 4/50\n",
            "20000/20000 [==============================] - 34s 2ms/step - loss: 1.9240 - acc: 0.2715 - val_loss: 1.9067 - val_acc: 0.2979\n",
            "Epoch 5/50\n",
            "20000/20000 [==============================] - 34s 2ms/step - loss: 1.8679 - acc: 0.2999 - val_loss: 1.8599 - val_acc: 0.3202\n",
            "Epoch 6/50\n",
            "20000/20000 [==============================] - 34s 2ms/step - loss: 1.8265 - acc: 0.3159 - val_loss: 1.8069 - val_acc: 0.3333\n",
            "Epoch 7/50\n",
            "20000/20000 [==============================] - 34s 2ms/step - loss: 1.7924 - acc: 0.3282 - val_loss: 1.7601 - val_acc: 0.3595\n",
            "Epoch 8/50\n",
            "20000/20000 [==============================] - 34s 2ms/step - loss: 1.7599 - acc: 0.3432 - val_loss: 1.7338 - val_acc: 0.3673\n",
            "Epoch 9/50\n",
            "20000/20000 [==============================] - 34s 2ms/step - loss: 1.7406 - acc: 0.3495 - val_loss: 1.7216 - val_acc: 0.3762\n",
            "Epoch 10/50\n",
            "20000/20000 [==============================] - 34s 2ms/step - loss: 1.7018 - acc: 0.3647 - val_loss: 1.6866 - val_acc: 0.3922\n",
            "Epoch 11/50\n",
            "20000/20000 [==============================] - 34s 2ms/step - loss: 1.6836 - acc: 0.3739 - val_loss: 1.6870 - val_acc: 0.3870\n",
            "Epoch 12/50\n",
            "20000/20000 [==============================] - 34s 2ms/step - loss: 1.6543 - acc: 0.3830 - val_loss: 1.6243 - val_acc: 0.4146\n",
            "Epoch 13/50\n",
            "20000/20000 [==============================] - 34s 2ms/step - loss: 1.6305 - acc: 0.3930 - val_loss: 1.6113 - val_acc: 0.4131\n",
            "Epoch 14/50\n",
            "20000/20000 [==============================] - 34s 2ms/step - loss: 1.6167 - acc: 0.3982 - val_loss: 1.5923 - val_acc: 0.4273\n",
            "Epoch 15/50\n",
            "20000/20000 [==============================] - 34s 2ms/step - loss: 1.5899 - acc: 0.4093 - val_loss: 1.5391 - val_acc: 0.4427\n",
            "Epoch 16/50\n",
            "20000/20000 [==============================] - 34s 2ms/step - loss: 1.5781 - acc: 0.4123 - val_loss: 1.5328 - val_acc: 0.4430\n",
            "Epoch 17/50\n",
            "20000/20000 [==============================] - 34s 2ms/step - loss: 1.5612 - acc: 0.4192 - val_loss: 1.5209 - val_acc: 0.4494\n",
            "Epoch 18/50\n",
            "20000/20000 [==============================] - 34s 2ms/step - loss: 1.5474 - acc: 0.4264 - val_loss: 1.5341 - val_acc: 0.4380\n",
            "Epoch 19/50\n",
            "20000/20000 [==============================] - 34s 2ms/step - loss: 1.5283 - acc: 0.4363 - val_loss: 1.4991 - val_acc: 0.4622\n",
            "Epoch 20/50\n",
            "20000/20000 [==============================] - 34s 2ms/step - loss: 1.5158 - acc: 0.4369 - val_loss: 1.4535 - val_acc: 0.4758\n",
            "Epoch 21/50\n",
            "20000/20000 [==============================] - 34s 2ms/step - loss: 1.5144 - acc: 0.4395 - val_loss: 1.4824 - val_acc: 0.4647\n",
            "Epoch 22/50\n",
            "20000/20000 [==============================] - 34s 2ms/step - loss: 1.4978 - acc: 0.4556 - val_loss: 1.4333 - val_acc: 0.4841\n",
            "Epoch 23/50\n",
            "20000/20000 [==============================] - 34s 2ms/step - loss: 1.4900 - acc: 0.4525 - val_loss: 1.4301 - val_acc: 0.4892\n",
            "Epoch 24/50\n",
            "20000/20000 [==============================] - 34s 2ms/step - loss: 1.4717 - acc: 0.4608 - val_loss: 1.4397 - val_acc: 0.4759\n",
            "Epoch 25/50\n",
            "20000/20000 [==============================] - 34s 2ms/step - loss: 1.4589 - acc: 0.4627 - val_loss: 1.3864 - val_acc: 0.5008\n",
            "Epoch 26/50\n",
            "20000/20000 [==============================] - 34s 2ms/step - loss: 1.4530 - acc: 0.4672 - val_loss: 1.4424 - val_acc: 0.4713\n",
            "Epoch 27/50\n",
            "20000/20000 [==============================] - 34s 2ms/step - loss: 1.4459 - acc: 0.4677 - val_loss: 1.3849 - val_acc: 0.5044\n",
            "Epoch 28/50\n",
            "20000/20000 [==============================] - 34s 2ms/step - loss: 1.4276 - acc: 0.4799 - val_loss: 1.3798 - val_acc: 0.4980\n",
            "Epoch 29/50\n",
            "20000/20000 [==============================] - 34s 2ms/step - loss: 1.4232 - acc: 0.4783 - val_loss: 1.3410 - val_acc: 0.5161\n",
            "Epoch 30/50\n",
            "20000/20000 [==============================] - 34s 2ms/step - loss: 1.4031 - acc: 0.4889 - val_loss: 1.3771 - val_acc: 0.4942\n",
            "Epoch 31/50\n",
            "20000/20000 [==============================] - 34s 2ms/step - loss: 1.4008 - acc: 0.4854 - val_loss: 1.3449 - val_acc: 0.5124\n",
            "Epoch 32/50\n",
            "20000/20000 [==============================] - 34s 2ms/step - loss: 1.3957 - acc: 0.4869 - val_loss: 1.3503 - val_acc: 0.5122\n",
            "Epoch 33/50\n",
            "20000/20000 [==============================] - 34s 2ms/step - loss: 1.3878 - acc: 0.4922 - val_loss: 1.3306 - val_acc: 0.5209\n",
            "Epoch 34/50\n",
            "20000/20000 [==============================] - 34s 2ms/step - loss: 1.3782 - acc: 0.4967 - val_loss: 1.3082 - val_acc: 0.5294\n",
            "Epoch 35/50\n",
            "20000/20000 [==============================] - 34s 2ms/step - loss: 1.3715 - acc: 0.5030 - val_loss: 1.3011 - val_acc: 0.5332\n",
            "Epoch 36/50\n",
            "20000/20000 [==============================] - 34s 2ms/step - loss: 1.3616 - acc: 0.5058 - val_loss: 1.3214 - val_acc: 0.5210\n",
            "Epoch 37/50\n",
            "20000/20000 [==============================] - 34s 2ms/step - loss: 1.3608 - acc: 0.5053 - val_loss: 1.2773 - val_acc: 0.5419\n",
            "Epoch 38/50\n",
            "20000/20000 [==============================] - 34s 2ms/step - loss: 1.3480 - acc: 0.5083 - val_loss: 1.2756 - val_acc: 0.5419\n",
            "Epoch 39/50\n",
            "20000/20000 [==============================] - 34s 2ms/step - loss: 1.3366 - acc: 0.5152 - val_loss: 1.2733 - val_acc: 0.5417\n",
            "Epoch 40/50\n",
            "20000/20000 [==============================] - 34s 2ms/step - loss: 1.3317 - acc: 0.5195 - val_loss: 1.2798 - val_acc: 0.5374\n",
            "Epoch 41/50\n",
            "20000/20000 [==============================] - 34s 2ms/step - loss: 1.3303 - acc: 0.5156 - val_loss: 1.2706 - val_acc: 0.5382\n",
            "Epoch 42/50\n",
            "20000/20000 [==============================] - 34s 2ms/step - loss: 1.3256 - acc: 0.5183 - val_loss: 1.2527 - val_acc: 0.5468\n",
            "Epoch 43/50\n",
            "20000/20000 [==============================] - 34s 2ms/step - loss: 1.3252 - acc: 0.5215 - val_loss: 1.2645 - val_acc: 0.5472\n",
            "Epoch 44/50\n",
            "20000/20000 [==============================] - 34s 2ms/step - loss: 1.3094 - acc: 0.5210 - val_loss: 1.2429 - val_acc: 0.5506\n",
            "Epoch 45/50\n",
            "20000/20000 [==============================] - 34s 2ms/step - loss: 1.3006 - acc: 0.5294 - val_loss: 1.2320 - val_acc: 0.5580\n",
            "Epoch 46/50\n",
            "20000/20000 [==============================] - 34s 2ms/step - loss: 1.2967 - acc: 0.5287 - val_loss: 1.2365 - val_acc: 0.5532\n",
            "Epoch 47/50\n",
            "20000/20000 [==============================] - 34s 2ms/step - loss: 1.2894 - acc: 0.5305 - val_loss: 1.2055 - val_acc: 0.5677\n",
            "Epoch 48/50\n",
            "20000/20000 [==============================] - 34s 2ms/step - loss: 1.2756 - acc: 0.5381 - val_loss: 1.1991 - val_acc: 0.5669\n",
            "Epoch 49/50\n",
            "20000/20000 [==============================] - 34s 2ms/step - loss: 1.2740 - acc: 0.5392 - val_loss: 1.2060 - val_acc: 0.5705\n",
            "Epoch 50/50\n",
            "20000/20000 [==============================] - 34s 2ms/step - loss: 1.2686 - acc: 0.5432 - val_loss: 1.2233 - val_acc: 0.5604\n"
          ],
          "name": "stdout"
        }
      ]
    },
    {
      "cell_type": "code",
      "metadata": {
        "id": "9rb3EOEyBY-c",
        "colab_type": "code",
        "colab": {
          "base_uri": "https://localhost:8080/",
          "height": 572
        },
        "outputId": "b9156b6b-9c5f-4f69-c592-549f65b221cc"
      },
      "source": [
        "# summarize history for accuracy\n",
        "plt.plot(train_model5.history['acc'])\n",
        "plt.plot(train_model5.history['val_acc'])\n",
        "plt.title('model accuracy')\n",
        "plt.ylabel('accuracy')\n",
        "plt.xlabel('epoch')\n",
        "plt.legend(['train', 'test'], loc='upper left')\n",
        "plt.show()\n",
        "# summarize history for loss\n",
        "plt.plot(train_model5.history['loss'])\n",
        "plt.plot(train_model5.history['val_loss'])\n",
        "plt.title('model loss')\n",
        "plt.ylabel('loss')\n",
        "plt.xlabel('epoch')\n",
        "plt.legend(['train', 'test'], loc='upper left')\n",
        "plt.show()"
      ],
      "execution_count": 9,
      "outputs": [
        {
          "output_type": "display_data",
          "data": {
            "image/png": "[encoded data removed]",
            "text/plain": [
              "<Figure size 432x288 with 1 Axes>"
            ]
          },
          "metadata": {
            "tags": []
          }
        },
        {
          "output_type": "display_data",
          "data": {
            "image/png": "[encoded data removed]",
            "text/plain": [
              "<Figure size 432x288 with 1 Axes>"
            ]
          },
          "metadata": {
            "tags": []
          }
        }
      ]
    },
    {
      "cell_type": "markdown",
      "metadata": {
        "id": "lwX4qlGIBYvE",
        "colab_type": "text"
      },
      "source": [
        ""
      ]
    }
  ]
}