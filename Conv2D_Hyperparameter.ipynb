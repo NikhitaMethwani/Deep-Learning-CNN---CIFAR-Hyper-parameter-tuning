{
  "nbformat": 4,
  "nbformat_minor": 0,
  "metadata": {
    "colab": {
      "name": "Conv2D- Hyperparameter",
      "version": "0.3.2",
      "provenance": [],
      "collapsed_sections": []
    },
    "kernelspec": {
      "name": "python3",
      "display_name": "Python 3"
    },
    "accelerator": "TPU"
  },
  "cells": [
    {
      "cell_type": "markdown",
      "metadata": {
        "id": "9M83y7If-SdZ",
        "colab_type": "text"
      },
      "source": [
        "# conv2D layer tuning on CIFAR-10 Dataset"
      ]
    },
    {
      "cell_type": "code",
      "metadata": {
        "id": "JhEkr-lhKcTp",
        "colab_type": "code",
        "outputId": "df4115d6-37e4-409f-c009-99bfdaeb46ac",
        "colab": {
          "base_uri": "https://localhost:8080/",
          "height": 35
        }
      },
      "source": [
        "from __future__ import print_function\n",
        "import keras\n",
        "from keras.datasets import cifar10\n",
        "from keras.preprocessing.image import ImageDataGenerator\n",
        "from keras.models import Sequential\n",
        "from keras.layers import Dense, Dropout, Activation, Flatten\n",
        "from keras.layers import Conv2D, MaxPooling2D\n",
        "import os\n",
        "from matplotlib import pyplot as plt\n",
        "from keras import regularizers\n",
        "from keras.constraints import max_norm"
      ],
      "execution_count": 1,
      "outputs": [
        {
          "output_type": "stream",
          "text": [
            "Using TensorFlow backend.\n"
          ],
          "name": "stderr"
        }
      ]
    },
    {
      "cell_type": "code",
      "metadata": {
        "id": "41u3L9GeKk5Y",
        "colab_type": "code",
        "colab": {}
      },
      "source": [
        "num_classes = 10\n",
        "data_augmentation = True\n",
        "num_predictions = 20"
      ],
      "execution_count": 0,
      "outputs": []
    },
    {
      "cell_type": "code",
      "metadata": {
        "id": "it2IBbqQKpQU",
        "colab_type": "code",
        "outputId": "29076f23-7efb-4fba-c863-223cafe14703",
        "colab": {
          "base_uri": "https://localhost:8080/",
          "height": 70
        }
      },
      "source": [
        "# The data, split between train and test sets:\n",
        "(x_train, y_train), (x_test, y_test) = cifar10.load_data()\n",
        "print('x_train shape:', x_train.shape)\n",
        "print(x_train.shape[0], 'train samples')\n",
        "print(x_test.shape[0], 'test samples')"
      ],
      "execution_count": 3,
      "outputs": [
        {
          "output_type": "stream",
          "text": [
            "x_train shape: (50000, 32, 32, 3)\n",
            "50000 train samples\n",
            "10000 test samples\n"
          ],
          "name": "stdout"
        }
      ]
    },
    {
      "cell_type": "code",
      "metadata": {
        "id": "XLZVMtUTKrQ4",
        "colab_type": "code",
        "colab": {}
      },
      "source": [
        "x_train = x_train.astype('float32')\n",
        "x_test = x_test.astype('float32')\n",
        "x_train /= 255\n",
        "x_test /= 255"
      ],
      "execution_count": 0,
      "outputs": []
    },
    {
      "cell_type": "code",
      "metadata": {
        "id": "AGBgM7jHQjGk",
        "colab_type": "code",
        "colab": {}
      },
      "source": [
        "x_train = x_train[0:20000]\n",
        "y_train = y_train[0:20000]"
      ],
      "execution_count": 0,
      "outputs": []
    },
    {
      "cell_type": "code",
      "metadata": {
        "id": "YY5--Q4VQtrA",
        "colab_type": "code",
        "outputId": "1420a5b5-ef59-4c66-a7cb-4e438adf6642",
        "colab": {
          "base_uri": "https://localhost:8080/",
          "height": 35
        }
      },
      "source": [
        "print(x_train.shape[0], 'train samples')"
      ],
      "execution_count": 0,
      "outputs": [
        {
          "output_type": "stream",
          "text": [
            "20000 train samples\n"
          ],
          "name": "stdout"
        }
      ]
    },
    {
      "cell_type": "code",
      "metadata": {
        "id": "C7TnymNXKtUO",
        "colab_type": "code",
        "colab": {}
      },
      "source": [
        "# Convert class vectors to binary class matrices.\n",
        "y_train = keras.utils.to_categorical(y_train, num_classes)\n",
        "y_test = keras.utils.to_categorical(y_test, num_classes)"
      ],
      "execution_count": 0,
      "outputs": []
    },
    {
      "cell_type": "markdown",
      "metadata": {
        "id": "OxEkHOv1-a85",
        "colab_type": "text"
      },
      "source": [
        "### Model 1 with strides 2,2 and padding = same with Batch = 128 , epochs = 100"
      ]
    },
    {
      "cell_type": "code",
      "metadata": {
        "id": "Lvz7OHXnKvsA",
        "colab_type": "code",
        "colab": {}
      },
      "source": [
        "def model1(model,batch_size,epochs):\n",
        "    \n",
        "        model.add(Conv2D(32, (3, 3), strides=(2, 2) ,padding='same',input_shape=x_train.shape[1:]))\n",
        "        model.add(Activation('relu'))\n",
        "        \n",
        "        model.add(Conv2D(32, (3, 3)))\n",
        "        model.add(Activation('relu'))\n",
        "        \n",
        "        model.add(MaxPooling2D(pool_size=(2, 2)))\n",
        "        model.add(Dropout(rate = 0.25))\n",
        "\n",
        "        model.add(Conv2D(64, (3, 3),strides=(2, 2), padding='same'))\n",
        "        model.add(Activation('relu'))\n",
        "        \n",
        "        model.add(Conv2D(64, (3, 3)))\n",
        "        model.add(Activation('relu'))\n",
        "        \n",
        "        model.add(MaxPooling2D(pool_size=(2, 2)))\n",
        "        model.add(Dropout(rate = 0.25))\n",
        "\n",
        "        model.add(Flatten())\n",
        "        model.add(Dense(512))\n",
        "        model.add(Activation('relu'))\n",
        "        model.add(Dropout(rate = 0.5))\n",
        "        model.add(Dense(num_classes))\n",
        "        model.add(Activation('softmax'))\n",
        "        \n",
        "        opt = keras.optimizers.adam(lr=0.0001, decay=1e-6)\n",
        "            \n",
        "\n",
        "        # Let's train the model\n",
        "        model.compile(loss='categorical_crossentropy',\n",
        "              optimizer=opt,\n",
        "              metrics=['accuracy'])\n",
        "        \n",
        "        history = model.fit(x_train, y_train,\n",
        "              batch_size=batch_size,\n",
        "              epochs=epochs,\n",
        "              validation_data=(x_test, y_test),\n",
        "              shuffle=True)\n",
        "        return history"
      ],
      "execution_count": 0,
      "outputs": []
    },
    {
      "cell_type": "code",
      "metadata": {
        "id": "4S5b4fLmOljR",
        "colab_type": "code",
        "outputId": "ab8c3ad0-8afb-48b6-b8b4-50c195b15c73",
        "colab": {
          "base_uri": "https://localhost:8080/",
          "height": 1000
        }
      },
      "source": [
        "tmodel1 = Sequential()\n",
        "train_model1 = model1(tmodel1,128,100)"
      ],
      "execution_count": 0,
      "outputs": [
        {
          "output_type": "stream",
          "text": [
            "Train on 20000 samples, validate on 10000 samples\n",
            "Epoch 1/100\n",
            "20000/20000 [==============================] - 65s 3ms/step - loss: 2.2716 - acc: 0.1256 - val_loss: 2.1330 - val_acc: 0.1918\n",
            "Epoch 2/100\n",
            "20000/20000 [==============================] - 54s 3ms/step - loss: 2.0902 - acc: 0.1981 - val_loss: 1.9928 - val_acc: 0.2499\n",
            "Epoch 3/100\n",
            "20000/20000 [==============================] - 56s 3ms/step - loss: 1.9917 - acc: 0.2358 - val_loss: 1.8898 - val_acc: 0.3106\n",
            "Epoch 4/100\n",
            "20000/20000 [==============================] - 56s 3ms/step - loss: 1.9103 - acc: 0.2725 - val_loss: 1.8061 - val_acc: 0.3469\n",
            "Epoch 5/100\n",
            "20000/20000 [==============================] - 56s 3ms/step - loss: 1.8542 - acc: 0.2946 - val_loss: 1.7482 - val_acc: 0.3632\n",
            "Epoch 6/100\n",
            "20000/20000 [==============================] - 55s 3ms/step - loss: 1.8037 - acc: 0.3168 - val_loss: 1.7191 - val_acc: 0.3632\n",
            "Epoch 7/100\n",
            "20000/20000 [==============================] - 56s 3ms/step - loss: 1.7758 - acc: 0.3263 - val_loss: 1.6831 - val_acc: 0.3755\n",
            "Epoch 8/100\n",
            "20000/20000 [==============================] - 57s 3ms/step - loss: 1.7449 - acc: 0.3409 - val_loss: 1.6483 - val_acc: 0.3921\n",
            "Epoch 9/100\n",
            "20000/20000 [==============================] - 56s 3ms/step - loss: 1.7198 - acc: 0.3514 - val_loss: 1.6218 - val_acc: 0.4034\n",
            "Epoch 10/100\n",
            "20000/20000 [==============================] - 56s 3ms/step - loss: 1.6834 - acc: 0.3652 - val_loss: 1.6154 - val_acc: 0.4132\n",
            "Epoch 11/100\n",
            "20000/20000 [==============================] - 56s 3ms/step - loss: 1.6592 - acc: 0.3854 - val_loss: 1.5634 - val_acc: 0.4314\n",
            "Epoch 12/100\n",
            "20000/20000 [==============================] - 56s 3ms/step - loss: 1.6334 - acc: 0.3891 - val_loss: 1.5338 - val_acc: 0.4383\n",
            "Epoch 13/100\n",
            "20000/20000 [==============================] - 56s 3ms/step - loss: 1.6138 - acc: 0.3968 - val_loss: 1.5227 - val_acc: 0.4402\n",
            "Epoch 14/100\n",
            "20000/20000 [==============================] - 55s 3ms/step - loss: 1.5899 - acc: 0.4116 - val_loss: 1.5034 - val_acc: 0.4549\n",
            "Epoch 15/100\n",
            "20000/20000 [==============================] - 55s 3ms/step - loss: 1.5698 - acc: 0.4214 - val_loss: 1.4801 - val_acc: 0.4595\n",
            "Epoch 16/100\n",
            "20000/20000 [==============================] - 55s 3ms/step - loss: 1.5484 - acc: 0.4291 - val_loss: 1.4713 - val_acc: 0.4660\n",
            "Epoch 17/100\n",
            "20000/20000 [==============================] - 54s 3ms/step - loss: 1.5419 - acc: 0.4268 - val_loss: 1.4437 - val_acc: 0.4762\n",
            "Epoch 18/100\n",
            "20000/20000 [==============================] - 55s 3ms/step - loss: 1.5181 - acc: 0.4390 - val_loss: 1.4253 - val_acc: 0.4803\n",
            "Epoch 19/100\n",
            "20000/20000 [==============================] - 56s 3ms/step - loss: 1.5112 - acc: 0.4395 - val_loss: 1.4339 - val_acc: 0.4813\n",
            "Epoch 20/100\n",
            "20000/20000 [==============================] - 60s 3ms/step - loss: 1.4978 - acc: 0.4482 - val_loss: 1.4226 - val_acc: 0.4877\n",
            "Epoch 21/100\n",
            "20000/20000 [==============================] - 56s 3ms/step - loss: 1.4832 - acc: 0.4546 - val_loss: 1.3958 - val_acc: 0.4949\n",
            "Epoch 22/100\n",
            "20000/20000 [==============================] - 55s 3ms/step - loss: 1.4686 - acc: 0.4593 - val_loss: 1.4149 - val_acc: 0.4850\n",
            "Epoch 23/100\n",
            "20000/20000 [==============================] - 55s 3ms/step - loss: 1.4673 - acc: 0.4604 - val_loss: 1.3801 - val_acc: 0.4991\n",
            "Epoch 24/100\n",
            "20000/20000 [==============================] - 57s 3ms/step - loss: 1.4534 - acc: 0.4653 - val_loss: 1.3700 - val_acc: 0.5037\n",
            "Epoch 25/100\n",
            "20000/20000 [==============================] - 56s 3ms/step - loss: 1.4463 - acc: 0.4693 - val_loss: 1.3758 - val_acc: 0.4984\n",
            "Epoch 26/100\n",
            "20000/20000 [==============================] - 56s 3ms/step - loss: 1.4355 - acc: 0.4731 - val_loss: 1.3508 - val_acc: 0.5098\n",
            "Epoch 27/100\n",
            "20000/20000 [==============================] - 57s 3ms/step - loss: 1.4293 - acc: 0.4724 - val_loss: 1.3477 - val_acc: 0.5118\n",
            "Epoch 28/100\n",
            "20000/20000 [==============================] - 56s 3ms/step - loss: 1.4195 - acc: 0.4783 - val_loss: 1.3366 - val_acc: 0.5135\n",
            "Epoch 29/100\n",
            "20000/20000 [==============================] - 56s 3ms/step - loss: 1.4106 - acc: 0.4830 - val_loss: 1.3362 - val_acc: 0.5150\n",
            "Epoch 30/100\n",
            "20000/20000 [==============================] - 56s 3ms/step - loss: 1.4046 - acc: 0.4859 - val_loss: 1.3266 - val_acc: 0.5206\n",
            "Epoch 31/100\n",
            "20000/20000 [==============================] - 55s 3ms/step - loss: 1.3978 - acc: 0.4875 - val_loss: 1.3194 - val_acc: 0.5217\n",
            "Epoch 32/100\n",
            "20000/20000 [==============================] - 56s 3ms/step - loss: 1.3861 - acc: 0.4934 - val_loss: 1.3054 - val_acc: 0.5247\n",
            "Epoch 33/100\n",
            "20000/20000 [==============================] - 56s 3ms/step - loss: 1.3858 - acc: 0.4924 - val_loss: 1.3096 - val_acc: 0.5235\n",
            "Epoch 34/100\n",
            "20000/20000 [==============================] - 56s 3ms/step - loss: 1.3755 - acc: 0.4980 - val_loss: 1.3007 - val_acc: 0.5272\n",
            "Epoch 35/100\n",
            "20000/20000 [==============================] - 56s 3ms/step - loss: 1.3563 - acc: 0.5078 - val_loss: 1.2894 - val_acc: 0.5324\n",
            "Epoch 36/100\n",
            "20000/20000 [==============================] - 55s 3ms/step - loss: 1.3503 - acc: 0.5091 - val_loss: 1.2851 - val_acc: 0.5332\n",
            "Epoch 37/100\n",
            "20000/20000 [==============================] - 55s 3ms/step - loss: 1.3510 - acc: 0.5046 - val_loss: 1.2880 - val_acc: 0.5324\n",
            "Epoch 38/100\n",
            "20000/20000 [==============================] - 56s 3ms/step - loss: 1.3470 - acc: 0.5118 - val_loss: 1.2742 - val_acc: 0.5379\n",
            "Epoch 39/100\n",
            "20000/20000 [==============================] - 56s 3ms/step - loss: 1.3383 - acc: 0.5107 - val_loss: 1.2782 - val_acc: 0.5376\n",
            "Epoch 40/100\n",
            "20000/20000 [==============================] - 56s 3ms/step - loss: 1.3353 - acc: 0.5144 - val_loss: 1.2677 - val_acc: 0.5432\n",
            "Epoch 41/100\n",
            "20000/20000 [==============================] - 57s 3ms/step - loss: 1.3262 - acc: 0.5197 - val_loss: 1.2632 - val_acc: 0.5453\n",
            "Epoch 42/100\n",
            "20000/20000 [==============================] - 56s 3ms/step - loss: 1.3221 - acc: 0.5171 - val_loss: 1.2643 - val_acc: 0.5409\n",
            "Epoch 43/100\n",
            "20000/20000 [==============================] - 56s 3ms/step - loss: 1.3128 - acc: 0.5208 - val_loss: 1.2627 - val_acc: 0.5427\n",
            "Epoch 44/100\n",
            "20000/20000 [==============================] - 56s 3ms/step - loss: 1.3075 - acc: 0.5312 - val_loss: 1.2487 - val_acc: 0.5474\n",
            "Epoch 45/100\n",
            "20000/20000 [==============================] - 55s 3ms/step - loss: 1.3071 - acc: 0.5255 - val_loss: 1.2410 - val_acc: 0.5477\n",
            "Epoch 46/100\n",
            "20000/20000 [==============================] - 51s 3ms/step - loss: 1.2961 - acc: 0.5300 - val_loss: 1.2415 - val_acc: 0.5493\n",
            "Epoch 47/100\n",
            "20000/20000 [==============================] - 55s 3ms/step - loss: 1.2933 - acc: 0.5311 - val_loss: 1.2426 - val_acc: 0.5485\n",
            "Epoch 48/100\n",
            "20000/20000 [==============================] - 56s 3ms/step - loss: 1.2890 - acc: 0.5313 - val_loss: 1.2338 - val_acc: 0.5537\n",
            "Epoch 49/100\n",
            "20000/20000 [==============================] - 56s 3ms/step - loss: 1.2818 - acc: 0.5332 - val_loss: 1.2255 - val_acc: 0.5571\n",
            "Epoch 50/100\n",
            "20000/20000 [==============================] - 56s 3ms/step - loss: 1.2792 - acc: 0.5337 - val_loss: 1.2304 - val_acc: 0.5561\n",
            "Epoch 51/100\n",
            "20000/20000 [==============================] - 55s 3ms/step - loss: 1.2733 - acc: 0.5377 - val_loss: 1.2353 - val_acc: 0.5572\n",
            "Epoch 52/100\n",
            "20000/20000 [==============================] - 56s 3ms/step - loss: 1.2578 - acc: 0.5419 - val_loss: 1.2126 - val_acc: 0.5625\n",
            "Epoch 53/100\n",
            "20000/20000 [==============================] - 56s 3ms/step - loss: 1.2592 - acc: 0.5417 - val_loss: 1.2055 - val_acc: 0.5667\n",
            "Epoch 54/100\n",
            "20000/20000 [==============================] - 56s 3ms/step - loss: 1.2534 - acc: 0.5482 - val_loss: 1.2026 - val_acc: 0.5663\n",
            "Epoch 55/100\n",
            "20000/20000 [==============================] - 56s 3ms/step - loss: 1.2512 - acc: 0.5494 - val_loss: 1.2076 - val_acc: 0.5668\n",
            "Epoch 56/100\n",
            "20000/20000 [==============================] - 55s 3ms/step - loss: 1.2456 - acc: 0.5466 - val_loss: 1.1987 - val_acc: 0.5687\n",
            "Epoch 57/100\n",
            "20000/20000 [==============================] - 56s 3ms/step - loss: 1.2434 - acc: 0.5530 - val_loss: 1.1893 - val_acc: 0.5718\n",
            "Epoch 58/100\n",
            "20000/20000 [==============================] - 55s 3ms/step - loss: 1.2331 - acc: 0.5541 - val_loss: 1.1842 - val_acc: 0.5765\n",
            "Epoch 59/100\n",
            "20000/20000 [==============================] - 55s 3ms/step - loss: 1.2307 - acc: 0.5539 - val_loss: 1.1856 - val_acc: 0.5739\n",
            "Epoch 60/100\n",
            "20000/20000 [==============================] - 55s 3ms/step - loss: 1.2224 - acc: 0.5557 - val_loss: 1.1936 - val_acc: 0.5686\n",
            "Epoch 61/100\n",
            "20000/20000 [==============================] - 55s 3ms/step - loss: 1.2157 - acc: 0.5607 - val_loss: 1.1922 - val_acc: 0.5736\n",
            "Epoch 62/100\n",
            "20000/20000 [==============================] - 55s 3ms/step - loss: 1.2194 - acc: 0.5601 - val_loss: 1.1781 - val_acc: 0.5802\n",
            "Epoch 63/100\n",
            "20000/20000 [==============================] - 52s 3ms/step - loss: 1.2066 - acc: 0.5691 - val_loss: 1.1711 - val_acc: 0.5820\n",
            "Epoch 64/100\n",
            "20000/20000 [==============================] - 42s 2ms/step - loss: 1.2026 - acc: 0.5646 - val_loss: 1.1684 - val_acc: 0.5808\n",
            "Epoch 65/100\n",
            "20000/20000 [==============================] - 42s 2ms/step - loss: 1.2023 - acc: 0.5657 - val_loss: 1.1616 - val_acc: 0.5849\n",
            "Epoch 66/100\n",
            "20000/20000 [==============================] - 48s 2ms/step - loss: 1.1948 - acc: 0.5718 - val_loss: 1.1609 - val_acc: 0.5830\n",
            "Epoch 67/100\n",
            "20000/20000 [==============================] - 57s 3ms/step - loss: 1.1901 - acc: 0.5711 - val_loss: 1.1544 - val_acc: 0.5878\n",
            "Epoch 68/100\n",
            "20000/20000 [==============================] - 56s 3ms/step - loss: 1.1824 - acc: 0.5706 - val_loss: 1.1568 - val_acc: 0.5882\n",
            "Epoch 69/100\n",
            "20000/20000 [==============================] - 56s 3ms/step - loss: 1.1779 - acc: 0.5713 - val_loss: 1.1473 - val_acc: 0.5908\n",
            "Epoch 70/100\n",
            "20000/20000 [==============================] - 56s 3ms/step - loss: 1.1776 - acc: 0.5710 - val_loss: 1.1482 - val_acc: 0.5907\n",
            "Epoch 71/100\n",
            "20000/20000 [==============================] - 55s 3ms/step - loss: 1.1705 - acc: 0.5776 - val_loss: 1.1491 - val_acc: 0.5895\n",
            "Epoch 72/100\n",
            "20000/20000 [==============================] - 56s 3ms/step - loss: 1.1765 - acc: 0.5751 - val_loss: 1.1678 - val_acc: 0.5824\n",
            "Epoch 73/100\n",
            "20000/20000 [==============================] - 55s 3ms/step - loss: 1.1604 - acc: 0.5842 - val_loss: 1.1463 - val_acc: 0.5904\n",
            "Epoch 74/100\n",
            "20000/20000 [==============================] - 55s 3ms/step - loss: 1.1536 - acc: 0.5851 - val_loss: 1.1422 - val_acc: 0.5941\n",
            "Epoch 75/100\n",
            "20000/20000 [==============================] - 44s 2ms/step - loss: 1.1533 - acc: 0.5837 - val_loss: 1.1315 - val_acc: 0.5956\n",
            "Epoch 76/100\n",
            "20000/20000 [==============================] - 56s 3ms/step - loss: 1.1512 - acc: 0.5846 - val_loss: 1.1457 - val_acc: 0.5903\n",
            "Epoch 77/100\n",
            "20000/20000 [==============================] - 56s 3ms/step - loss: 1.1497 - acc: 0.5845 - val_loss: 1.1253 - val_acc: 0.5995\n",
            "Epoch 78/100\n",
            "20000/20000 [==============================] - 56s 3ms/step - loss: 1.1434 - acc: 0.5854 - val_loss: 1.1240 - val_acc: 0.5985\n",
            "Epoch 79/100\n",
            "20000/20000 [==============================] - 56s 3ms/step - loss: 1.1358 - acc: 0.5880 - val_loss: 1.1191 - val_acc: 0.5995\n",
            "Epoch 80/100\n",
            "20000/20000 [==============================] - 56s 3ms/step - loss: 1.1346 - acc: 0.5895 - val_loss: 1.1170 - val_acc: 0.5986\n",
            "Epoch 81/100\n",
            "20000/20000 [==============================] - 56s 3ms/step - loss: 1.1344 - acc: 0.5912 - val_loss: 1.1153 - val_acc: 0.6002\n",
            "Epoch 82/100\n",
            "20000/20000 [==============================] - 56s 3ms/step - loss: 1.1253 - acc: 0.5917 - val_loss: 1.1082 - val_acc: 0.6050\n",
            "Epoch 83/100\n",
            "20000/20000 [==============================] - 55s 3ms/step - loss: 1.1253 - acc: 0.5961 - val_loss: 1.1089 - val_acc: 0.6007\n",
            "Epoch 84/100\n",
            "20000/20000 [==============================] - 56s 3ms/step - loss: 1.1222 - acc: 0.5948 - val_loss: 1.1072 - val_acc: 0.6039\n",
            "Epoch 85/100\n",
            "20000/20000 [==============================] - 56s 3ms/step - loss: 1.1161 - acc: 0.5960 - val_loss: 1.1108 - val_acc: 0.6057\n",
            "Epoch 86/100\n",
            "20000/20000 [==============================] - 56s 3ms/step - loss: 1.1197 - acc: 0.5943 - val_loss: 1.1042 - val_acc: 0.6053\n",
            "Epoch 87/100\n",
            "20000/20000 [==============================] - 58s 3ms/step - loss: 1.1093 - acc: 0.5991 - val_loss: 1.0992 - val_acc: 0.6064\n",
            "Epoch 88/100\n",
            "20000/20000 [==============================] - 57s 3ms/step - loss: 1.1046 - acc: 0.6003 - val_loss: 1.0969 - val_acc: 0.6093\n",
            "Epoch 89/100\n",
            "20000/20000 [==============================] - 55s 3ms/step - loss: 1.0997 - acc: 0.6051 - val_loss: 1.0912 - val_acc: 0.6112\n",
            "Epoch 90/100\n",
            "20000/20000 [==============================] - 55s 3ms/step - loss: 1.0937 - acc: 0.6030 - val_loss: 1.0961 - val_acc: 0.6085\n",
            "Epoch 91/100\n",
            "20000/20000 [==============================] - 56s 3ms/step - loss: 1.0852 - acc: 0.6087 - val_loss: 1.0860 - val_acc: 0.6157\n",
            "Epoch 92/100\n",
            "20000/20000 [==============================] - 56s 3ms/step - loss: 1.0817 - acc: 0.6105 - val_loss: 1.1010 - val_acc: 0.6073\n",
            "Epoch 93/100\n",
            "20000/20000 [==============================] - 56s 3ms/step - loss: 1.0808 - acc: 0.6117 - val_loss: 1.0868 - val_acc: 0.6138\n",
            "Epoch 94/100\n",
            "20000/20000 [==============================] - 56s 3ms/step - loss: 1.0830 - acc: 0.6079 - val_loss: 1.0920 - val_acc: 0.6126\n",
            "Epoch 95/100\n",
            "20000/20000 [==============================] - 56s 3ms/step - loss: 1.0740 - acc: 0.6135 - val_loss: 1.0809 - val_acc: 0.6152\n",
            "Epoch 96/100\n",
            "20000/20000 [==============================] - 57s 3ms/step - loss: 1.0754 - acc: 0.6114 - val_loss: 1.0894 - val_acc: 0.6136\n",
            "Epoch 97/100\n",
            "20000/20000 [==============================] - 56s 3ms/step - loss: 1.0705 - acc: 0.6141 - val_loss: 1.0694 - val_acc: 0.6184\n",
            "Epoch 98/100\n",
            "20000/20000 [==============================] - 56s 3ms/step - loss: 1.0639 - acc: 0.6121 - val_loss: 1.0696 - val_acc: 0.6185\n",
            "Epoch 99/100\n",
            "20000/20000 [==============================] - 56s 3ms/step - loss: 1.0582 - acc: 0.6181 - val_loss: 1.0705 - val_acc: 0.6199\n",
            "Epoch 100/100\n",
            "20000/20000 [==============================] - 56s 3ms/step - loss: 1.0641 - acc: 0.6183 - val_loss: 1.0720 - val_acc: 0.6192\n"
          ],
          "name": "stdout"
        }
      ]
    },
    {
      "cell_type": "code",
      "metadata": {
        "id": "3Tb7a6nu-iy-",
        "colab_type": "code",
        "colab": {}
      },
      "source": [
        ""
      ],
      "execution_count": 0,
      "outputs": []
    },
    {
      "cell_type": "markdown",
      "metadata": {
        "id": "GhuIyjyZ-jLm",
        "colab_type": "text"
      },
      "source": [
        "### Model 3 with strides 2,2 and padding = same with Batch = 64 , epochs = 30"
      ]
    },
    {
      "cell_type": "code",
      "metadata": {
        "id": "NejqBWizR474",
        "colab_type": "code",
        "colab": {}
      },
      "source": [
        "def model3(model,batch_size,epochs):\n",
        "    \n",
        "        model.add(Conv2D(32, (3, 3), padding='same',\n",
        "                         input_shape=x_train.shape[1:],activation='relu'))\n",
        "\n",
        "        model.add(Conv2D(32, (3,3), strides=(2, 2), padding='same'))\n",
        "        model.add(Activation('relu'))\n",
        "        \n",
        "        model.add(MaxPooling2D(pool_size=(2, 2)))\n",
        "        model.add(Dropout(rate = 0.25))\n",
        "\n",
        "        model.add(Conv2D(64, (3,3), strides=(2, 2), padding='same'))\n",
        "        model.add(Activation('relu'))\n",
        "\n",
        "\n",
        "        model.add(Conv2D(64, (3,3), strides=(2, 2), padding='same'))\n",
        "        model.add(Activation('relu'))\n",
        "        \n",
        "        model.add(MaxPooling2D(pool_size=(2, 2)))\n",
        "        model.add(Dropout(rate = 0.25))\n",
        "        \n",
        "        model.add(Flatten())\n",
        "        model.add(Dense(512))\n",
        "        model.add(Activation('relu'))\n",
        "        model.add(Dropout(rate = 0.5))\n",
        "        model.add(Dense(num_classes))\n",
        "        model.add(Activation('softmax'))\n",
        "        \n",
        "        opt = keras.optimizers.adam(lr=0.0001, decay=1e-6)\n",
        "            \n",
        "\n",
        "        # Let's train the model\n",
        "        model.compile(loss='categorical_crossentropy',\n",
        "              optimizer=opt,\n",
        "              metrics=['accuracy'])\n",
        "        \n",
        "        history = model.fit(x_train, y_train,\n",
        "              batch_size=batch_size,\n",
        "              epochs=epochs,\n",
        "              validation_data=(x_test, y_test),\n",
        "              shuffle=True)\n",
        "        return history"
      ],
      "execution_count": 0,
      "outputs": []
    },
    {
      "cell_type": "code",
      "metadata": {
        "id": "jzffG_kWWmI6",
        "colab_type": "code",
        "outputId": "c971120f-ba3a-47d3-f72e-c719dabb5bcb",
        "colab": {
          "base_uri": "https://localhost:8080/",
          "height": 1000
        }
      },
      "source": [
        "tmodel3 = Sequential()\n",
        "train_model3 = model3(tmodel3,64,30)"
      ],
      "execution_count": 0,
      "outputs": [
        {
          "output_type": "stream",
          "text": [
            "Train on 20000 samples, validate on 10000 samples\n",
            "Epoch 1/30\n",
            "20000/20000 [==============================] - 59s 3ms/step - loss: 2.2354 - acc: 0.1449 - val_loss: 2.0523 - val_acc: 0.2435\n",
            "Epoch 2/30\n",
            "20000/20000 [==============================] - 58s 3ms/step - loss: 2.0391 - acc: 0.2269 - val_loss: 1.9203 - val_acc: 0.2983\n",
            "Epoch 3/30\n",
            "20000/20000 [==============================] - 57s 3ms/step - loss: 1.9021 - acc: 0.2857 - val_loss: 1.7566 - val_acc: 0.3586\n",
            "Epoch 4/30\n",
            "20000/20000 [==============================] - 58s 3ms/step - loss: 1.7995 - acc: 0.3215 - val_loss: 1.6783 - val_acc: 0.3842\n",
            "Epoch 5/30\n",
            "20000/20000 [==============================] - 58s 3ms/step - loss: 1.7453 - acc: 0.3404 - val_loss: 1.6412 - val_acc: 0.3984\n",
            "Epoch 6/30\n",
            "20000/20000 [==============================] - 57s 3ms/step - loss: 1.7039 - acc: 0.3643 - val_loss: 1.5919 - val_acc: 0.4144\n",
            "Epoch 7/30\n",
            "20000/20000 [==============================] - 56s 3ms/step - loss: 1.6671 - acc: 0.3752 - val_loss: 1.5708 - val_acc: 0.4234\n",
            "Epoch 8/30\n",
            "20000/20000 [==============================] - 57s 3ms/step - loss: 1.6323 - acc: 0.3926 - val_loss: 1.5228 - val_acc: 0.4345\n",
            "Epoch 9/30\n",
            "20000/20000 [==============================] - 57s 3ms/step - loss: 1.6056 - acc: 0.4022 - val_loss: 1.4988 - val_acc: 0.4439\n",
            "Epoch 10/30\n",
            "20000/20000 [==============================] - 57s 3ms/step - loss: 1.5750 - acc: 0.4172 - val_loss: 1.4724 - val_acc: 0.4554\n",
            "Epoch 11/30\n",
            "20000/20000 [==============================] - 57s 3ms/step - loss: 1.5502 - acc: 0.4246 - val_loss: 1.4637 - val_acc: 0.4616\n",
            "Epoch 12/30\n",
            "20000/20000 [==============================] - 57s 3ms/step - loss: 1.5311 - acc: 0.4334 - val_loss: 1.4365 - val_acc: 0.4726\n",
            "Epoch 13/30\n",
            "20000/20000 [==============================] - 58s 3ms/step - loss: 1.5108 - acc: 0.4434 - val_loss: 1.4217 - val_acc: 0.4737\n",
            "Epoch 14/30\n",
            "20000/20000 [==============================] - 56s 3ms/step - loss: 1.4914 - acc: 0.4493 - val_loss: 1.4151 - val_acc: 0.4794\n",
            "Epoch 15/30\n",
            "20000/20000 [==============================] - 58s 3ms/step - loss: 1.4735 - acc: 0.4559 - val_loss: 1.3766 - val_acc: 0.4945\n",
            "Epoch 16/30\n",
            "20000/20000 [==============================] - 57s 3ms/step - loss: 1.4596 - acc: 0.4636 - val_loss: 1.4034 - val_acc: 0.4912\n",
            "Epoch 17/30\n",
            "20000/20000 [==============================] - 57s 3ms/step - loss: 1.4509 - acc: 0.4715 - val_loss: 1.3497 - val_acc: 0.5063\n",
            "Epoch 18/30\n",
            "20000/20000 [==============================] - 57s 3ms/step - loss: 1.4373 - acc: 0.4747 - val_loss: 1.3434 - val_acc: 0.5099\n",
            "Epoch 19/30\n",
            "20000/20000 [==============================] - 57s 3ms/step - loss: 1.4243 - acc: 0.4763 - val_loss: 1.3274 - val_acc: 0.5142\n",
            "Epoch 20/30\n",
            "20000/20000 [==============================] - 57s 3ms/step - loss: 1.4122 - acc: 0.4799 - val_loss: 1.3298 - val_acc: 0.5155\n",
            "Epoch 21/30\n",
            "20000/20000 [==============================] - 56s 3ms/step - loss: 1.3975 - acc: 0.4912 - val_loss: 1.3075 - val_acc: 0.5246\n",
            "Epoch 22/30\n",
            "20000/20000 [==============================] - 56s 3ms/step - loss: 1.3884 - acc: 0.4920 - val_loss: 1.3061 - val_acc: 0.5269\n",
            "Epoch 23/30\n",
            "20000/20000 [==============================] - 57s 3ms/step - loss: 1.3757 - acc: 0.5001 - val_loss: 1.3010 - val_acc: 0.5268\n",
            "Epoch 24/30\n",
            "20000/20000 [==============================] - 56s 3ms/step - loss: 1.3654 - acc: 0.5030 - val_loss: 1.2856 - val_acc: 0.5319\n",
            "Epoch 25/30\n",
            "20000/20000 [==============================] - 58s 3ms/step - loss: 1.3556 - acc: 0.5070 - val_loss: 1.2650 - val_acc: 0.5413\n",
            "Epoch 26/30\n",
            "20000/20000 [==============================] - 57s 3ms/step - loss: 1.3438 - acc: 0.5113 - val_loss: 1.2615 - val_acc: 0.5450\n",
            "Epoch 27/30\n",
            "20000/20000 [==============================] - 57s 3ms/step - loss: 1.3398 - acc: 0.5152 - val_loss: 1.2767 - val_acc: 0.5367\n",
            "Epoch 28/30\n",
            "20000/20000 [==============================] - 57s 3ms/step - loss: 1.3199 - acc: 0.5213 - val_loss: 1.2388 - val_acc: 0.5517\n",
            "Epoch 29/30\n",
            "20000/20000 [==============================] - 57s 3ms/step - loss: 1.3140 - acc: 0.5240 - val_loss: 1.2366 - val_acc: 0.5473\n",
            "Epoch 30/30\n",
            "20000/20000 [==============================] - 57s 3ms/step - loss: 1.2996 - acc: 0.5276 - val_loss: 1.2240 - val_acc: 0.5560\n"
          ],
          "name": "stdout"
        }
      ]
    },
    {
      "cell_type": "markdown",
      "metadata": {
        "id": "YbrqJrT5Wt-t",
        "colab_type": "text"
      },
      "source": [
        "### Model 2 with strides 2,2 and padding = same with Batch = 32 , epochs = 50"
      ]
    },
    {
      "cell_type": "code",
      "metadata": {
        "id": "w6uc3yfZWq9i",
        "colab_type": "code",
        "colab": {}
      },
      "source": [
        "def model3(model,batch_size,epochs):\n",
        "    \n",
        "        model.add(Conv2D(32, (3, 3), padding='same',\n",
        "                         input_shape=x_train.shape[1:],activation='relu'))\n",
        "\n",
        "        model.add(Conv2D(32, (3,3), strides=(2, 2), padding='same'))\n",
        "        model.add(Activation('relu'))\n",
        "        \n",
        "        model.add(MaxPooling2D(pool_size=(2, 2)))\n",
        "        model.add(Dropout(rate = 0.25))\n",
        "\n",
        "        model.add(Conv2D(64, (3,3), strides=(2, 2), padding='same'))\n",
        "        model.add(Activation('relu'))\n",
        "\n",
        "\n",
        "        model.add(Conv2D(64, (3,3), strides=(2, 2), padding='same'))\n",
        "        model.add(Activation('relu'))\n",
        "        \n",
        "        model.add(MaxPooling2D(pool_size=(2, 2)))\n",
        "        model.add(Dropout(rate = 0.25))\n",
        "        \n",
        "        model.add(Flatten())\n",
        "        model.add(Dense(512))\n",
        "        model.add(Activation('relu'))\n",
        "        model.add(Dropout(rate = 0.5))\n",
        "        model.add(Dense(num_classes))\n",
        "        model.add(Activation('softmax'))\n",
        "        \n",
        "        opt = keras.optimizers.adam(lr=0.0001, decay=1e-6)\n",
        "            \n",
        "\n",
        "        # Let's train the model\n",
        "        model.compile(loss='categorical_crossentropy',\n",
        "              optimizer=opt,\n",
        "              metrics=['accuracy'])\n",
        "        \n",
        "        history = model.fit(x_train, y_train,\n",
        "              batch_size=batch_size,\n",
        "              epochs=epochs,\n",
        "              validation_data=(x_test, y_test),\n",
        "              shuffle=True)\n",
        "        return history"
      ],
      "execution_count": 0,
      "outputs": []
    },
    {
      "cell_type": "code",
      "metadata": {
        "id": "XVZ3-PObWzWP",
        "colab_type": "code",
        "outputId": "4690f0c9-72cc-4540-c0cb-8045fea574c1",
        "colab": {
          "base_uri": "https://localhost:8080/",
          "height": 1000
        }
      },
      "source": [
        "tmodel3 = Sequential()\n",
        "train_model3 = model3(tmodel3,32,50)"
      ],
      "execution_count": 9,
      "outputs": [
        {
          "output_type": "stream",
          "text": [
            "Train on 20000 samples, validate on 10000 samples\n",
            "Epoch 1/50\n",
            "20000/20000 [==============================] - 66s 3ms/step - loss: 2.1860 - acc: 0.1668 - val_loss: 2.0135 - val_acc: 0.2469\n",
            "Epoch 2/50\n",
            "20000/20000 [==============================] - 65s 3ms/step - loss: 1.9549 - acc: 0.2655 - val_loss: 1.7745 - val_acc: 0.3367\n",
            "Epoch 3/50\n",
            "20000/20000 [==============================] - 64s 3ms/step - loss: 1.7946 - acc: 0.3212 - val_loss: 1.6898 - val_acc: 0.3794\n",
            "Epoch 4/50\n",
            "20000/20000 [==============================] - 65s 3ms/step - loss: 1.7184 - acc: 0.3495 - val_loss: 1.6018 - val_acc: 0.4119\n",
            "Epoch 5/50\n",
            "20000/20000 [==============================] - 65s 3ms/step - loss: 1.6537 - acc: 0.3771 - val_loss: 1.5255 - val_acc: 0.4362\n",
            "Epoch 6/50\n",
            "20000/20000 [==============================] - 65s 3ms/step - loss: 1.5988 - acc: 0.4073 - val_loss: 1.4756 - val_acc: 0.4630\n",
            "Epoch 7/50\n",
            "20000/20000 [==============================] - 66s 3ms/step - loss: 1.5570 - acc: 0.4227 - val_loss: 1.4574 - val_acc: 0.4674\n",
            "Epoch 8/50\n",
            "20000/20000 [==============================] - 65s 3ms/step - loss: 1.5262 - acc: 0.4364 - val_loss: 1.4110 - val_acc: 0.4897\n",
            "Epoch 9/50\n",
            "20000/20000 [==============================] - 64s 3ms/step - loss: 1.5005 - acc: 0.4468 - val_loss: 1.3921 - val_acc: 0.4994\n",
            "Epoch 10/50\n",
            "20000/20000 [==============================] - 65s 3ms/step - loss: 1.4766 - acc: 0.4574 - val_loss: 1.3747 - val_acc: 0.5038\n",
            "Epoch 11/50\n",
            "20000/20000 [==============================] - 64s 3ms/step - loss: 1.4552 - acc: 0.4683 - val_loss: 1.3685 - val_acc: 0.5042\n",
            "Epoch 12/50\n",
            "20000/20000 [==============================] - 65s 3ms/step - loss: 1.4355 - acc: 0.4753 - val_loss: 1.3387 - val_acc: 0.5216\n",
            "Epoch 13/50\n",
            "20000/20000 [==============================] - 65s 3ms/step - loss: 1.4199 - acc: 0.4824 - val_loss: 1.3221 - val_acc: 0.5218\n",
            "Epoch 14/50\n",
            "20000/20000 [==============================] - 65s 3ms/step - loss: 1.3990 - acc: 0.4923 - val_loss: 1.3038 - val_acc: 0.5286\n",
            "Epoch 15/50\n",
            "20000/20000 [==============================] - 65s 3ms/step - loss: 1.3795 - acc: 0.4971 - val_loss: 1.2968 - val_acc: 0.5395\n",
            "Epoch 16/50\n",
            "20000/20000 [==============================] - 65s 3ms/step - loss: 1.3623 - acc: 0.5069 - val_loss: 1.3037 - val_acc: 0.5294\n",
            "Epoch 17/50\n",
            "20000/20000 [==============================] - 64s 3ms/step - loss: 1.3506 - acc: 0.5112 - val_loss: 1.2649 - val_acc: 0.5452\n",
            "Epoch 18/50\n",
            "20000/20000 [==============================] - 63s 3ms/step - loss: 1.3399 - acc: 0.5147 - val_loss: 1.2613 - val_acc: 0.5524\n",
            "Epoch 19/50\n",
            "20000/20000 [==============================] - 64s 3ms/step - loss: 1.3228 - acc: 0.5192 - val_loss: 1.2611 - val_acc: 0.5446\n",
            "Epoch 20/50\n",
            "20000/20000 [==============================] - 64s 3ms/step - loss: 1.3037 - acc: 0.5292 - val_loss: 1.2486 - val_acc: 0.5537\n",
            "Epoch 21/50\n",
            "20000/20000 [==============================] - 64s 3ms/step - loss: 1.2933 - acc: 0.5340 - val_loss: 1.2220 - val_acc: 0.5664\n",
            "Epoch 22/50\n",
            "20000/20000 [==============================] - 64s 3ms/step - loss: 1.2728 - acc: 0.5390 - val_loss: 1.1996 - val_acc: 0.5732\n",
            "Epoch 23/50\n",
            "20000/20000 [==============================] - 66s 3ms/step - loss: 1.2655 - acc: 0.5423 - val_loss: 1.2114 - val_acc: 0.5724\n",
            "Epoch 24/50\n",
            "20000/20000 [==============================] - 65s 3ms/step - loss: 1.2492 - acc: 0.5507 - val_loss: 1.2037 - val_acc: 0.5674\n",
            "Epoch 25/50\n",
            "20000/20000 [==============================] - 65s 3ms/step - loss: 1.2406 - acc: 0.5555 - val_loss: 1.1796 - val_acc: 0.5780\n",
            "Epoch 26/50\n",
            "20000/20000 [==============================] - 63s 3ms/step - loss: 1.2288 - acc: 0.5587 - val_loss: 1.1667 - val_acc: 0.5832\n",
            "Epoch 27/50\n",
            "20000/20000 [==============================] - 65s 3ms/step - loss: 1.2063 - acc: 0.5680 - val_loss: 1.1511 - val_acc: 0.5923\n",
            "Epoch 28/50\n",
            "20000/20000 [==============================] - 64s 3ms/step - loss: 1.2066 - acc: 0.5706 - val_loss: 1.1465 - val_acc: 0.5908\n",
            "Epoch 29/50\n",
            "20000/20000 [==============================] - 65s 3ms/step - loss: 1.1963 - acc: 0.5681 - val_loss: 1.1421 - val_acc: 0.5952\n",
            "Epoch 30/50\n",
            "20000/20000 [==============================] - 65s 3ms/step - loss: 1.1822 - acc: 0.5761 - val_loss: 1.1377 - val_acc: 0.5972\n",
            "Epoch 31/50\n",
            "20000/20000 [==============================] - 64s 3ms/step - loss: 1.1647 - acc: 0.5842 - val_loss: 1.1242 - val_acc: 0.6018\n",
            "Epoch 32/50\n",
            "20000/20000 [==============================] - 64s 3ms/step - loss: 1.1647 - acc: 0.5843 - val_loss: 1.1042 - val_acc: 0.6076\n",
            "Epoch 33/50\n",
            "20000/20000 [==============================] - 65s 3ms/step - loss: 1.1490 - acc: 0.5866 - val_loss: 1.0952 - val_acc: 0.6148\n",
            "Epoch 34/50\n",
            "20000/20000 [==============================] - 63s 3ms/step - loss: 1.1440 - acc: 0.5898 - val_loss: 1.1034 - val_acc: 0.6119\n",
            "Epoch 35/50\n",
            "20000/20000 [==============================] - 66s 3ms/step - loss: 1.1290 - acc: 0.5947 - val_loss: 1.0869 - val_acc: 0.6168\n",
            "Epoch 36/50\n",
            "20000/20000 [==============================] - 66s 3ms/step - loss: 1.1194 - acc: 0.6016 - val_loss: 1.0796 - val_acc: 0.6185\n",
            "Epoch 37/50\n",
            "20000/20000 [==============================] - 65s 3ms/step - loss: 1.1097 - acc: 0.6021 - val_loss: 1.0844 - val_acc: 0.6142\n",
            "Epoch 38/50\n",
            "20000/20000 [==============================] - 65s 3ms/step - loss: 1.0976 - acc: 0.6060 - val_loss: 1.0685 - val_acc: 0.6235\n",
            "Epoch 39/50\n",
            "20000/20000 [==============================] - 65s 3ms/step - loss: 1.0853 - acc: 0.6121 - val_loss: 1.0552 - val_acc: 0.6276\n",
            "Epoch 40/50\n",
            "20000/20000 [==============================] - 66s 3ms/step - loss: 1.0703 - acc: 0.6172 - val_loss: 1.0575 - val_acc: 0.6244\n",
            "Epoch 41/50\n",
            "20000/20000 [==============================] - 65s 3ms/step - loss: 1.0782 - acc: 0.6152 - val_loss: 1.0403 - val_acc: 0.6336\n",
            "Epoch 42/50\n",
            "20000/20000 [==============================] - 64s 3ms/step - loss: 1.0626 - acc: 0.6200 - val_loss: 1.0344 - val_acc: 0.6358\n",
            "Epoch 43/50\n",
            "20000/20000 [==============================] - 65s 3ms/step - loss: 1.0535 - acc: 0.6237 - val_loss: 1.0255 - val_acc: 0.6388\n",
            "Epoch 44/50\n",
            "20000/20000 [==============================] - 66s 3ms/step - loss: 1.0456 - acc: 0.6235 - val_loss: 1.0202 - val_acc: 0.6369\n",
            "Epoch 45/50\n",
            "20000/20000 [==============================] - 66s 3ms/step - loss: 1.0408 - acc: 0.6309 - val_loss: 1.0247 - val_acc: 0.6361\n",
            "Epoch 46/50\n",
            "20000/20000 [==============================] - 65s 3ms/step - loss: 1.0230 - acc: 0.6341 - val_loss: 1.0089 - val_acc: 0.6433\n",
            "Epoch 47/50\n",
            "20000/20000 [==============================] - 65s 3ms/step - loss: 1.0150 - acc: 0.6372 - val_loss: 1.0203 - val_acc: 0.6407\n",
            "Epoch 48/50\n",
            "20000/20000 [==============================] - 64s 3ms/step - loss: 1.0096 - acc: 0.6393 - val_loss: 1.0118 - val_acc: 0.6425\n",
            "Epoch 49/50\n",
            "20000/20000 [==============================] - 64s 3ms/step - loss: 1.0046 - acc: 0.6404 - val_loss: 0.9971 - val_acc: 0.6474\n",
            "Epoch 50/50\n",
            "20000/20000 [==============================] - 65s 3ms/step - loss: 1.0008 - acc: 0.6415 - val_loss: 0.9910 - val_acc: 0.6519\n"
          ],
          "name": "stdout"
        }
      ]
    },
    {
      "cell_type": "code",
      "metadata": {
        "id": "9ORPWgniub_u",
        "colab_type": "code",
        "outputId": "259eb2b5-36e9-4552-932b-c9af6e6e9ad2",
        "colab": {
          "base_uri": "https://localhost:8080/",
          "height": 572
        }
      },
      "source": [
        "# summarize history for accuracy\n",
        "plt.plot(train_model3.history['acc'])\n",
        "plt.plot(train_model3.history['val_acc'])\n",
        "plt.title('model accuracy')\n",
        "plt.ylabel('accuracy')\n",
        "plt.xlabel('epoch')\n",
        "plt.legend(['train', 'test'], loc='upper left')\n",
        "plt.show()\n",
        "# summarize history for loss\n",
        "plt.plot(train_model3.history['loss'])\n",
        "plt.plot(train_model3.history['val_loss'])\n",
        "plt.title('model loss')\n",
        "plt.ylabel('loss')\n",
        "plt.xlabel('epoch')\n",
        "plt.legend(['train', 'test'], loc='upper left')\n",
        "plt.show()"
      ],
      "execution_count": 10,
      "outputs": [
        {
          "output_type": "display_data",
          "data": {
            "image/png": "[encoded data removed]",
            "text/plain": [
              "<Figure size 432x288 with 1 Axes>"
            ]
          },
          "metadata": {
            "tags": []
          }
        },
        {
          "output_type": "display_data",
          "data": {
            "image/png": "[encoded data removed]",
            "text/plain": [
              "<Figure size 432x288 with 1 Axes>"
            ]
          },
          "metadata": {
            "tags": []
          }
        }
      ]
    },
    {
      "cell_type": "markdown",
      "metadata": {
        "id": "NwtDFZBZD3vc",
        "colab_type": "text"
      },
      "source": [
        "### Model 4 with strides 1,1 and padding = valid with Batch = 64 , epochs = 60"
      ]
    },
    {
      "cell_type": "markdown",
      "metadata": {
        "id": "CLOxRPiEQXlH",
        "colab_type": "text"
      },
      "source": [
        ""
      ]
    },
    {
      "cell_type": "code",
      "metadata": {
        "id": "tPhD2437D2h4",
        "colab_type": "code",
        "colab": {}
      },
      "source": [
        "def model4(model,batch_size,epochs):\n",
        "    \n",
        "        model.add(Conv2D(32, (3, 3), padding='valid',\n",
        "                         input_shape=x_train.shape[1:],activation='relu'))\n",
        "\n",
        "        model.add(Conv2D(32, (3,3), strides=(1, 1), padding='valid'))\n",
        "        model.add(Activation('relu'))\n",
        "        \n",
        "        model.add(MaxPooling2D(pool_size=(2, 2)))\n",
        "        model.add(Dropout(rate = 0.25))\n",
        "\n",
        "        model.add(Conv2D(64, (3,3), strides=(1, 1), padding='valid'))\n",
        "        model.add(Activation('relu'))\n",
        "\n",
        "\n",
        "        model.add(Conv2D(64, (3,3), strides=(1, 1), padding='valid'))\n",
        "        model.add(Activation('relu'))\n",
        "        \n",
        "        model.add(MaxPooling2D(pool_size=(2, 2)))\n",
        "        model.add(Dropout(rate = 0.25))\n",
        "        \n",
        "        model.add(Flatten())\n",
        "        model.add(Dense(512))\n",
        "        model.add(Activation('relu'))\n",
        "        model.add(Dropout(rate = 0.5))\n",
        "        model.add(Dense(num_classes))\n",
        "        model.add(Activation('softmax'))\n",
        "        \n",
        "        opt = keras.optimizers.adam(lr=0.0001, decay=1e-6)\n",
        "            \n",
        "\n",
        "        # Let's train the model\n",
        "        model.compile(loss='categorical_crossentropy',\n",
        "              optimizer=opt,\n",
        "              metrics=['accuracy'])\n",
        "        \n",
        "        history = model.fit(x_train, y_train,\n",
        "              batch_size=batch_size,\n",
        "              epochs=epochs,\n",
        "              validation_data=(x_test, y_test),\n",
        "              shuffle=True)\n",
        "        return history"
      ],
      "execution_count": 0,
      "outputs": []
    },
    {
      "cell_type": "code",
      "metadata": {
        "id": "uezJG_qjvGEI",
        "colab_type": "code",
        "colab": {}
      },
      "source": [
        ""
      ],
      "execution_count": 0,
      "outputs": []
    },
    {
      "cell_type": "code",
      "metadata": {
        "id": "2iN-K5b7EOku",
        "colab_type": "code",
        "outputId": "de23fe97-33eb-4461-9e72-d0fd9556d549",
        "colab": {
          "base_uri": "https://localhost:8080/",
          "height": 1000
        }
      },
      "source": [
        "tmodel4 = Sequential()\n",
        "train_model4 = model4(tmodel4,64,60)"
      ],
      "execution_count": 0,
      "outputs": [
        {
          "output_type": "stream",
          "text": [
            "WARNING: Logging before flag parsing goes to stderr.\n",
            "W0628 07:58:53.159946 140643670370176 deprecation_wrapper.py:119] From /usr/local/lib/python3.6/dist-packages/keras/backend/tensorflow_backend.py:74: The name tf.get_default_graph is deprecated. Please use tf.compat.v1.get_default_graph instead.\n",
            "\n",
            "W0628 07:58:53.212022 140643670370176 deprecation_wrapper.py:119] From /usr/local/lib/python3.6/dist-packages/keras/backend/tensorflow_backend.py:517: The name tf.placeholder is deprecated. Please use tf.compat.v1.placeholder instead.\n",
            "\n",
            "W0628 07:58:53.217673 140643670370176 deprecation_wrapper.py:119] From /usr/local/lib/python3.6/dist-packages/keras/backend/tensorflow_backend.py:4138: The name tf.random_uniform is deprecated. Please use tf.random.uniform instead.\n",
            "\n",
            "W0628 07:58:53.287513 140643670370176 deprecation_wrapper.py:119] From /usr/local/lib/python3.6/dist-packages/keras/backend/tensorflow_backend.py:3976: The name tf.nn.max_pool is deprecated. Please use tf.nn.max_pool2d instead.\n",
            "\n",
            "W0628 07:58:53.290984 140643670370176 deprecation_wrapper.py:119] From /usr/local/lib/python3.6/dist-packages/keras/backend/tensorflow_backend.py:133: The name tf.placeholder_with_default is deprecated. Please use tf.compat.v1.placeholder_with_default instead.\n",
            "\n",
            "W0628 07:58:53.326615 140643670370176 deprecation.py:506] From /usr/local/lib/python3.6/dist-packages/keras/backend/tensorflow_backend.py:3445: calling dropout (from tensorflow.python.ops.nn_ops) with keep_prob is deprecated and will be removed in a future version.\n",
            "Instructions for updating:\n",
            "Please use `rate` instead of `keep_prob`. Rate should be set to `rate = 1 - keep_prob`.\n",
            "W0628 07:58:53.617461 140643670370176 deprecation_wrapper.py:119] From /usr/local/lib/python3.6/dist-packages/keras/optimizers.py:790: The name tf.train.Optimizer is deprecated. Please use tf.compat.v1.train.Optimizer instead.\n",
            "\n",
            "W0628 07:58:53.630333 140643670370176 deprecation_wrapper.py:119] From /usr/local/lib/python3.6/dist-packages/keras/backend/tensorflow_backend.py:3295: The name tf.log is deprecated. Please use tf.math.log instead.\n",
            "\n",
            "W0628 07:58:53.947606 140643670370176 deprecation.py:323] From /usr/local/lib/python3.6/dist-packages/tensorflow/python/ops/math_grad.py:1250: add_dispatch_support.<locals>.wrapper (from tensorflow.python.ops.array_ops) is deprecated and will be removed in a future version.\n",
            "Instructions for updating:\n",
            "Use tf.where in 2.0, which has the same broadcast rule as np.where\n"
          ],
          "name": "stderr"
        },
        {
          "output_type": "stream",
          "text": [
            "Train on 20000 samples, validate on 10000 samples\n",
            "Epoch 1/60\n",
            "20000/20000 [==============================] - 163s 8ms/step - loss: 2.1031 - acc: 0.2064 - val_loss: 1.8190 - val_acc: 0.3531\n",
            "Epoch 2/60\n",
            "20000/20000 [==============================] - 162s 8ms/step - loss: 1.7766 - acc: 0.3428 - val_loss: 1.6300 - val_acc: 0.4069\n",
            "Epoch 3/60\n",
            "20000/20000 [==============================] - 161s 8ms/step - loss: 1.6492 - acc: 0.3926 - val_loss: 1.5270 - val_acc: 0.4423\n",
            "Epoch 4/60\n",
            "20000/20000 [==============================] - 162s 8ms/step - loss: 1.5629 - acc: 0.4262 - val_loss: 1.4586 - val_acc: 0.4671\n",
            "Epoch 5/60\n",
            "20000/20000 [==============================] - 163s 8ms/step - loss: 1.4986 - acc: 0.4529 - val_loss: 1.4280 - val_acc: 0.4888\n",
            "Epoch 6/60\n",
            "20000/20000 [==============================] - 160s 8ms/step - loss: 1.4523 - acc: 0.4692 - val_loss: 1.3685 - val_acc: 0.5083\n",
            "Epoch 7/60\n",
            "20000/20000 [==============================] - 162s 8ms/step - loss: 1.4060 - acc: 0.4903 - val_loss: 1.3681 - val_acc: 0.5125\n",
            "Epoch 8/60\n",
            "20000/20000 [==============================] - 162s 8ms/step - loss: 1.3712 - acc: 0.5048 - val_loss: 1.2996 - val_acc: 0.5353\n",
            "Epoch 9/60\n",
            "20000/20000 [==============================] - 161s 8ms/step - loss: 1.3409 - acc: 0.5209 - val_loss: 1.2884 - val_acc: 0.5380\n",
            "Epoch 10/60\n",
            "20000/20000 [==============================] - 162s 8ms/step - loss: 1.3053 - acc: 0.5328 - val_loss: 1.2408 - val_acc: 0.5608\n",
            "Epoch 11/60\n",
            "20000/20000 [==============================] - 162s 8ms/step - loss: 1.2814 - acc: 0.5434 - val_loss: 1.2270 - val_acc: 0.5669\n",
            "Epoch 12/60\n",
            "20000/20000 [==============================] - 160s 8ms/step - loss: 1.2529 - acc: 0.5554 - val_loss: 1.2008 - val_acc: 0.5733\n",
            "Epoch 13/60\n",
            "20000/20000 [==============================] - 162s 8ms/step - loss: 1.2243 - acc: 0.5638 - val_loss: 1.1745 - val_acc: 0.5892\n",
            "Epoch 14/60\n",
            "20000/20000 [==============================] - 162s 8ms/step - loss: 1.2002 - acc: 0.5763 - val_loss: 1.1590 - val_acc: 0.5917\n",
            "Epoch 15/60\n",
            "20000/20000 [==============================] - 160s 8ms/step - loss: 1.1730 - acc: 0.5883 - val_loss: 1.1899 - val_acc: 0.5848\n",
            "Epoch 16/60\n",
            "20000/20000 [==============================] - 162s 8ms/step - loss: 1.1549 - acc: 0.5957 - val_loss: 1.1562 - val_acc: 0.5948\n",
            "Epoch 17/60\n",
            "20000/20000 [==============================] - 161s 8ms/step - loss: 1.1335 - acc: 0.5985 - val_loss: 1.0952 - val_acc: 0.6204\n",
            "Epoch 18/60\n",
            "20000/20000 [==============================] - 162s 8ms/step - loss: 1.1090 - acc: 0.6093 - val_loss: 1.0751 - val_acc: 0.6211\n",
            "Epoch 19/60\n",
            "20000/20000 [==============================] - 164s 8ms/step - loss: 1.0899 - acc: 0.6139 - val_loss: 1.0555 - val_acc: 0.6309\n",
            "Epoch 20/60\n",
            "20000/20000 [==============================] - 162s 8ms/step - loss: 1.0694 - acc: 0.6241 - val_loss: 1.0522 - val_acc: 0.6261\n",
            "Epoch 21/60\n",
            "20000/20000 [==============================] - 163s 8ms/step - loss: 1.0558 - acc: 0.6292 - val_loss: 1.0571 - val_acc: 0.6262\n",
            "Epoch 22/60\n",
            "20000/20000 [==============================] - 164s 8ms/step - loss: 1.0254 - acc: 0.6379 - val_loss: 1.0278 - val_acc: 0.6397\n",
            "Epoch 23/60\n",
            "20000/20000 [==============================] - 162s 8ms/step - loss: 1.0194 - acc: 0.6409 - val_loss: 1.0123 - val_acc: 0.6438\n",
            "Epoch 24/60\n",
            "20000/20000 [==============================] - 163s 8ms/step - loss: 1.0064 - acc: 0.6494 - val_loss: 1.0176 - val_acc: 0.6459\n",
            "Epoch 25/60\n",
            "20000/20000 [==============================] - 165s 8ms/step - loss: 0.9931 - acc: 0.6535 - val_loss: 0.9865 - val_acc: 0.6575\n",
            "Epoch 26/60\n",
            "20000/20000 [==============================] - 163s 8ms/step - loss: 0.9735 - acc: 0.6556 - val_loss: 0.9922 - val_acc: 0.6538\n",
            "Epoch 27/60\n",
            "20000/20000 [==============================] - 164s 8ms/step - loss: 0.9626 - acc: 0.6633 - val_loss: 0.9711 - val_acc: 0.6549\n",
            "Epoch 28/60\n",
            "20000/20000 [==============================] - 161s 8ms/step - loss: 0.9526 - acc: 0.6666 - val_loss: 0.9658 - val_acc: 0.6631\n",
            "Epoch 29/60\n",
            "20000/20000 [==============================] - 163s 8ms/step - loss: 0.9375 - acc: 0.6705 - val_loss: 0.9678 - val_acc: 0.6647\n",
            "Epoch 30/60\n",
            "20000/20000 [==============================] - 163s 8ms/step - loss: 0.9164 - acc: 0.6764 - val_loss: 0.9446 - val_acc: 0.6701\n",
            "Epoch 31/60\n",
            "20000/20000 [==============================] - 164s 8ms/step - loss: 0.9009 - acc: 0.6824 - val_loss: 0.9397 - val_acc: 0.6677\n",
            "Epoch 32/60\n",
            "20000/20000 [==============================] - 163s 8ms/step - loss: 0.8922 - acc: 0.6874 - val_loss: 0.9284 - val_acc: 0.6801\n",
            "Epoch 33/60\n",
            "20000/20000 [==============================] - 163s 8ms/step - loss: 0.8783 - acc: 0.6938 - val_loss: 0.9278 - val_acc: 0.6808\n",
            "Epoch 34/60\n",
            "20000/20000 [==============================] - 163s 8ms/step - loss: 0.8667 - acc: 0.6953 - val_loss: 0.9199 - val_acc: 0.6773\n",
            "Epoch 35/60\n",
            "20000/20000 [==============================] - 163s 8ms/step - loss: 0.8563 - acc: 0.7027 - val_loss: 0.9095 - val_acc: 0.6837\n",
            "Epoch 36/60\n",
            "20000/20000 [==============================] - 164s 8ms/step - loss: 0.8469 - acc: 0.7045 - val_loss: 0.9052 - val_acc: 0.6896\n",
            "Epoch 37/60\n",
            "20000/20000 [==============================] - 164s 8ms/step - loss: 0.8368 - acc: 0.7056 - val_loss: 0.9007 - val_acc: 0.6856\n",
            "Epoch 38/60\n",
            "20000/20000 [==============================] - 162s 8ms/step - loss: 0.8144 - acc: 0.7138 - val_loss: 0.8953 - val_acc: 0.6905\n",
            "Epoch 39/60\n",
            "20000/20000 [==============================] - 164s 8ms/step - loss: 0.8072 - acc: 0.7168 - val_loss: 0.8923 - val_acc: 0.6922\n",
            "Epoch 40/60\n",
            "20000/20000 [==============================] - 163s 8ms/step - loss: 0.8030 - acc: 0.7143 - val_loss: 0.8809 - val_acc: 0.6982\n",
            "Epoch 41/60\n",
            "20000/20000 [==============================] - 162s 8ms/step - loss: 0.7887 - acc: 0.7224 - val_loss: 0.8779 - val_acc: 0.6963\n",
            "Epoch 42/60\n",
            "20000/20000 [==============================] - 164s 8ms/step - loss: 0.7758 - acc: 0.7263 - val_loss: 0.8756 - val_acc: 0.6924\n",
            "Epoch 43/60\n",
            "20000/20000 [==============================] - 164s 8ms/step - loss: 0.7601 - acc: 0.7339 - val_loss: 0.8643 - val_acc: 0.7007\n",
            "Epoch 44/60\n",
            "20000/20000 [==============================] - 161s 8ms/step - loss: 0.7507 - acc: 0.7384 - val_loss: 0.8746 - val_acc: 0.6985\n",
            "Epoch 45/60\n",
            "20000/20000 [==============================] - 163s 8ms/step - loss: 0.7473 - acc: 0.7351 - val_loss: 0.8584 - val_acc: 0.7045\n",
            "Epoch 46/60\n",
            "20000/20000 [==============================] - 163s 8ms/step - loss: 0.7300 - acc: 0.7446 - val_loss: 0.8598 - val_acc: 0.7024\n",
            "Epoch 47/60\n",
            "20000/20000 [==============================] - 163s 8ms/step - loss: 0.7255 - acc: 0.7430 - val_loss: 0.8541 - val_acc: 0.7043\n",
            "Epoch 48/60\n",
            "20000/20000 [==============================] - 164s 8ms/step - loss: 0.7168 - acc: 0.7470 - val_loss: 0.8570 - val_acc: 0.7041\n",
            "Epoch 49/60\n",
            "20000/20000 [==============================] - 162s 8ms/step - loss: 0.7103 - acc: 0.7523 - val_loss: 0.8467 - val_acc: 0.7042\n",
            "Epoch 50/60\n",
            "20000/20000 [==============================] - 164s 8ms/step - loss: 0.6850 - acc: 0.7595 - val_loss: 0.8432 - val_acc: 0.7095\n",
            "Epoch 51/60\n",
            "20000/20000 [==============================] - 163s 8ms/step - loss: 0.6849 - acc: 0.7613 - val_loss: 0.8491 - val_acc: 0.7066\n",
            "Epoch 52/60\n",
            "20000/20000 [==============================] - 162s 8ms/step - loss: 0.6732 - acc: 0.7641 - val_loss: 0.8514 - val_acc: 0.7064\n",
            "Epoch 53/60\n",
            "20000/20000 [==============================] - 163s 8ms/step - loss: 0.6623 - acc: 0.7667 - val_loss: 0.8402 - val_acc: 0.7093\n",
            "Epoch 54/60\n",
            "20000/20000 [==============================] - 163s 8ms/step - loss: 0.6460 - acc: 0.7713 - val_loss: 0.8284 - val_acc: 0.7153\n",
            "Epoch 55/60\n",
            "20000/20000 [==============================] - 162s 8ms/step - loss: 0.6366 - acc: 0.7771 - val_loss: 0.8317 - val_acc: 0.7130\n",
            "Epoch 56/60\n",
            "20000/20000 [==============================] - 163s 8ms/step - loss: 0.6417 - acc: 0.7736 - val_loss: 0.8341 - val_acc: 0.7116\n",
            "Epoch 57/60\n",
            "20000/20000 [==============================] - 163s 8ms/step - loss: 0.6334 - acc: 0.7768 - val_loss: 0.8423 - val_acc: 0.7123\n",
            "Epoch 58/60\n",
            "20000/20000 [==============================] - 162s 8ms/step - loss: 0.6185 - acc: 0.7863 - val_loss: 0.8263 - val_acc: 0.7169\n",
            "Epoch 59/60\n",
            "20000/20000 [==============================] - 163s 8ms/step - loss: 0.6111 - acc: 0.7824 - val_loss: 0.8244 - val_acc: 0.7146\n",
            "Epoch 60/60\n",
            "20000/20000 [==============================] - 164s 8ms/step - loss: 0.6024 - acc: 0.7875 - val_loss: 0.8255 - val_acc: 0.7195\n"
          ],
          "name": "stdout"
        }
      ]
    },
    {
      "cell_type": "code",
      "metadata": {
        "id": "wGXOl5_vuTHR",
        "colab_type": "code",
        "outputId": "8ad8a0b4-01f8-426c-c88f-85c230b17678",
        "colab": {
          "base_uri": "https://localhost:8080/",
          "height": 572
        }
      },
      "source": [
        "# summarize history for accuracy\n",
        "plt.plot(train_model4.history['acc'])\n",
        "plt.plot(train_model4.history['val_acc'])\n",
        "plt.title('model accuracy')\n",
        "plt.ylabel('accuracy')\n",
        "plt.xlabel('epoch')\n",
        "plt.legend(['train', 'test'], loc='upper left')\n",
        "plt.show()\n",
        "# summarize history for loss\n",
        "plt.plot(train_model4.history['loss'])\n",
        "plt.plot(train_model4.history['val_loss'])\n",
        "plt.title('model loss')\n",
        "plt.ylabel('loss')\n",
        "plt.xlabel('epoch')\n",
        "plt.legend(['train', 'test'], loc='upper left')\n",
        "plt.show()"
      ],
      "execution_count": 0,
      "outputs": [
        {
          "output_type": "display_data",
          "data": {
            "image/png": "[encoded data removed]",
            "text/plain": [
              "<Figure size 432x288 with 1 Axes>"
            ]
          },
          "metadata": {
            "tags": []
          }
        },
        {
          "output_type": "display_data",
          "data": {
            "image/png": "[encoded data removed]",
            "text/plain": [
              "<Figure size 432x288 with 1 Axes>"
            ]
          },
          "metadata": {
            "tags": []
          }
        }
      ]
    },
    {
      "cell_type": "markdown",
      "metadata": {
        "id": "b8LSzOIbBAWE",
        "colab_type": "text"
      },
      "source": [
        "### Model with strides 1,1 and padding = same with Batch = 64 , epochs = 60"
      ]
    },
    {
      "cell_type": "code",
      "metadata": {
        "id": "frH9xgrXvHfZ",
        "colab_type": "code",
        "colab": {}
      },
      "source": [
        "def model5(model,batch_size,epochs):\n",
        "    \n",
        "        model.add(Conv2D(32, (3, 3), padding='same',\n",
        "                         input_shape=x_train.shape[1:],activation='relu'))\n",
        "\n",
        "        model.add(Conv2D(32, (3,3), strides=(1, 1), padding='same'))\n",
        "        model.add(Activation('relu'))\n",
        "        \n",
        "        model.add(MaxPooling2D(pool_size=(2, 2)))\n",
        "        model.add(Dropout(rate = 0.25))\n",
        "\n",
        "        model.add(Conv2D(64, (3,3), strides=(1, 1), padding='same'))\n",
        "        model.add(Activation('relu'))\n",
        "\n",
        "\n",
        "        model.add(Conv2D(64, (3,3), strides=(1, 1), padding='same'))\n",
        "        model.add(Activation('relu'))\n",
        "        \n",
        "        model.add(MaxPooling2D(pool_size=(2, 2)))\n",
        "        model.add(Dropout(rate = 0.25))\n",
        "        \n",
        "        model.add(Flatten())\n",
        "        model.add(Dense(512))\n",
        "        model.add(Activation('relu'))\n",
        "        model.add(Dropout(rate = 0.5))\n",
        "        model.add(Dense(num_classes))\n",
        "        model.add(Activation('softmax'))\n",
        "        \n",
        "        opt = keras.optimizers.adam(lr=0.0001, decay=1e-6)\n",
        "            \n",
        "\n",
        "        # Let's train the model\n",
        "        model.compile(loss='categorical_crossentropy',\n",
        "              optimizer=opt,\n",
        "              metrics=['accuracy'])\n",
        "        \n",
        "        history = model.fit(x_train, y_train,\n",
        "              batch_size=batch_size,\n",
        "              epochs=epochs,\n",
        "              validation_data=(x_test, y_test),\n",
        "              shuffle=True)\n",
        "        return history"
      ],
      "execution_count": 0,
      "outputs": []
    },
    {
      "cell_type": "code",
      "metadata": {
        "id": "Z9BUcSRxvWya",
        "colab_type": "code",
        "outputId": "7d1687a7-8885-4c7a-a41d-366827e94a76",
        "colab": {
          "base_uri": "https://localhost:8080/",
          "height": 1000
        }
      },
      "source": [
        "tmodel5 = Sequential()\n",
        "train_model5 = model5(tmodel5,64,60)"
      ],
      "execution_count": 0,
      "outputs": [
        {
          "output_type": "stream",
          "text": [
            "Train on 20000 samples, validate on 10000 samples\n",
            "Epoch 1/60\n",
            "20000/20000 [==============================] - 263s 13ms/step - loss: 2.0378 - acc: 0.2460 - val_loss: 1.7486 - val_acc: 0.3907\n",
            "Epoch 2/60\n",
            "20000/20000 [==============================] - 261s 13ms/step - loss: 1.7019 - acc: 0.3861 - val_loss: 1.5717 - val_acc: 0.4389\n",
            "Epoch 3/60\n",
            "20000/20000 [==============================] - 261s 13ms/step - loss: 1.5802 - acc: 0.4282 - val_loss: 1.4755 - val_acc: 0.4605\n",
            "Epoch 4/60\n",
            "20000/20000 [==============================] - 262s 13ms/step - loss: 1.5066 - acc: 0.4526 - val_loss: 1.4090 - val_acc: 0.4917\n",
            "Epoch 5/60\n",
            "20000/20000 [==============================] - 262s 13ms/step - loss: 1.4386 - acc: 0.4798 - val_loss: 1.3665 - val_acc: 0.5080\n",
            "Epoch 6/60\n",
            "20000/20000 [==============================] - 262s 13ms/step - loss: 1.3742 - acc: 0.5056 - val_loss: 1.2981 - val_acc: 0.5332\n",
            "Epoch 7/60\n",
            "20000/20000 [==============================] - 262s 13ms/step - loss: 1.3294 - acc: 0.5212 - val_loss: 1.2499 - val_acc: 0.5536\n",
            "Epoch 8/60\n",
            "20000/20000 [==============================] - 261s 13ms/step - loss: 1.2748 - acc: 0.5423 - val_loss: 1.2016 - val_acc: 0.5725\n",
            "Epoch 9/60\n",
            "20000/20000 [==============================] - 261s 13ms/step - loss: 1.2316 - acc: 0.5600 - val_loss: 1.1887 - val_acc: 0.5776\n",
            "Epoch 10/60\n",
            "20000/20000 [==============================] - 259s 13ms/step - loss: 1.1870 - acc: 0.5740 - val_loss: 1.1404 - val_acc: 0.5982\n",
            "Epoch 11/60\n",
            "20000/20000 [==============================] - 261s 13ms/step - loss: 1.1530 - acc: 0.5889 - val_loss: 1.1194 - val_acc: 0.6029\n",
            "Epoch 12/60\n",
            "20000/20000 [==============================] - 261s 13ms/step - loss: 1.1238 - acc: 0.6007 - val_loss: 1.1024 - val_acc: 0.6099\n",
            "Epoch 13/60\n",
            "20000/20000 [==============================] - 262s 13ms/step - loss: 1.0917 - acc: 0.6140 - val_loss: 1.0845 - val_acc: 0.6160\n",
            "Epoch 14/60\n",
            "20000/20000 [==============================] - 260s 13ms/step - loss: 1.0645 - acc: 0.6247 - val_loss: 1.0514 - val_acc: 0.6297\n",
            "Epoch 15/60\n",
            "20000/20000 [==============================] - 261s 13ms/step - loss: 1.0332 - acc: 0.6355 - val_loss: 1.0267 - val_acc: 0.6436\n",
            "Epoch 16/60\n",
            "20000/20000 [==============================] - 260s 13ms/step - loss: 1.0015 - acc: 0.6482 - val_loss: 1.0068 - val_acc: 0.6408\n",
            "Epoch 17/60\n",
            "20000/20000 [==============================] - 260s 13ms/step - loss: 0.9792 - acc: 0.6562 - val_loss: 0.9872 - val_acc: 0.6520\n",
            "Epoch 18/60\n",
            "20000/20000 [==============================] - 261s 13ms/step - loss: 0.9518 - acc: 0.6643 - val_loss: 0.9741 - val_acc: 0.6551\n",
            "Epoch 19/60\n",
            "20000/20000 [==============================] - 259s 13ms/step - loss: 0.9277 - acc: 0.6741 - val_loss: 0.9795 - val_acc: 0.6502\n",
            "Epoch 20/60\n",
            "20000/20000 [==============================] - 261s 13ms/step - loss: 0.9042 - acc: 0.6833 - val_loss: 0.9533 - val_acc: 0.6629\n",
            "Epoch 21/60\n",
            "20000/20000 [==============================] - 260s 13ms/step - loss: 0.8845 - acc: 0.6895 - val_loss: 0.9368 - val_acc: 0.6686\n",
            "Epoch 22/60\n",
            "20000/20000 [==============================] - 261s 13ms/step - loss: 0.8667 - acc: 0.6934 - val_loss: 0.9383 - val_acc: 0.6692\n",
            "Epoch 23/60\n",
            "20000/20000 [==============================] - 186s 9ms/step - loss: 0.8440 - acc: 0.7033 - val_loss: 0.9177 - val_acc: 0.6740\n",
            "Epoch 24/60\n",
            "20000/20000 [==============================] - 128s 6ms/step - loss: 0.8157 - acc: 0.7144 - val_loss: 0.9040 - val_acc: 0.6798\n",
            "Epoch 25/60\n",
            "20000/20000 [==============================] - 129s 6ms/step - loss: 0.7959 - acc: 0.7227 - val_loss: 0.9132 - val_acc: 0.6812\n",
            "Epoch 26/60\n",
            "20000/20000 [==============================] - 129s 6ms/step - loss: 0.7811 - acc: 0.7279 - val_loss: 0.9122 - val_acc: 0.6800\n",
            "Epoch 27/60\n",
            "20000/20000 [==============================] - 224s 11ms/step - loss: 0.7612 - acc: 0.7323 - val_loss: 0.9094 - val_acc: 0.6846\n",
            "Epoch 28/60\n",
            "20000/20000 [==============================] - 257s 13ms/step - loss: 0.7418 - acc: 0.7431 - val_loss: 0.9074 - val_acc: 0.6848\n",
            "Epoch 29/60\n",
            "20000/20000 [==============================] - 261s 13ms/step - loss: 0.7273 - acc: 0.7452 - val_loss: 0.9100 - val_acc: 0.6781\n",
            "Epoch 30/60\n",
            "20000/20000 [==============================] - 261s 13ms/step - loss: 0.7077 - acc: 0.7507 - val_loss: 0.9059 - val_acc: 0.6818\n",
            "Epoch 31/60\n",
            "20000/20000 [==============================] - 260s 13ms/step - loss: 0.6930 - acc: 0.7554 - val_loss: 0.9040 - val_acc: 0.6891\n",
            "Epoch 32/60\n",
            "20000/20000 [==============================] - 262s 13ms/step - loss: 0.6686 - acc: 0.7681 - val_loss: 0.8745 - val_acc: 0.6937\n",
            "Epoch 33/60\n",
            "20000/20000 [==============================] - 259s 13ms/step - loss: 0.6495 - acc: 0.7729 - val_loss: 0.8769 - val_acc: 0.6965\n",
            "Epoch 34/60\n",
            "20000/20000 [==============================] - 255s 13ms/step - loss: 0.6343 - acc: 0.7794 - val_loss: 0.8686 - val_acc: 0.6957\n",
            "Epoch 35/60\n",
            "20000/20000 [==============================] - 261s 13ms/step - loss: 0.6131 - acc: 0.7855 - val_loss: 0.8668 - val_acc: 0.7000\n",
            "Epoch 36/60\n",
            "20000/20000 [==============================] - 262s 13ms/step - loss: 0.5993 - acc: 0.7906 - val_loss: 0.8682 - val_acc: 0.6996\n",
            "Epoch 37/60\n",
            "20000/20000 [==============================] - 260s 13ms/step - loss: 0.5875 - acc: 0.7920 - val_loss: 0.8672 - val_acc: 0.7010\n",
            "Epoch 38/60\n",
            "20000/20000 [==============================] - 262s 13ms/step - loss: 0.5639 - acc: 0.7999 - val_loss: 0.8727 - val_acc: 0.7012\n",
            "Epoch 39/60\n",
            "20000/20000 [==============================] - 261s 13ms/step - loss: 0.5498 - acc: 0.8059 - val_loss: 0.9182 - val_acc: 0.6940\n",
            "Epoch 40/60\n",
            "20000/20000 [==============================] - 267s 13ms/step - loss: 0.5408 - acc: 0.8107 - val_loss: 0.8793 - val_acc: 0.6997\n",
            "Epoch 41/60\n",
            "20000/20000 [==============================] - 260s 13ms/step - loss: 0.5236 - acc: 0.8162 - val_loss: 0.8632 - val_acc: 0.7041\n",
            "Epoch 42/60\n",
            "20000/20000 [==============================] - 262s 13ms/step - loss: 0.5013 - acc: 0.8210 - val_loss: 0.8811 - val_acc: 0.7044\n",
            "Epoch 43/60\n",
            "20000/20000 [==============================] - 260s 13ms/step - loss: 0.4934 - acc: 0.8274 - val_loss: 0.8839 - val_acc: 0.7057\n",
            "Epoch 44/60\n",
            "20000/20000 [==============================] - 261s 13ms/step - loss: 0.4763 - acc: 0.8324 - val_loss: 0.8782 - val_acc: 0.7038\n",
            "Epoch 45/60\n",
            "20000/20000 [==============================] - 260s 13ms/step - loss: 0.4596 - acc: 0.8406 - val_loss: 0.8872 - val_acc: 0.7069\n",
            "Epoch 46/60\n",
            "20000/20000 [==============================] - 262s 13ms/step - loss: 0.4442 - acc: 0.8421 - val_loss: 0.8951 - val_acc: 0.7027\n",
            "Epoch 47/60\n",
            "20000/20000 [==============================] - 260s 13ms/step - loss: 0.4346 - acc: 0.8465 - val_loss: 0.8794 - val_acc: 0.7073\n",
            "Epoch 48/60\n",
            "20000/20000 [==============================] - 261s 13ms/step - loss: 0.4240 - acc: 0.8493 - val_loss: 0.8907 - val_acc: 0.7069\n",
            "Epoch 49/60\n",
            "20000/20000 [==============================] - 261s 13ms/step - loss: 0.4156 - acc: 0.8515 - val_loss: 0.9147 - val_acc: 0.7060\n",
            "Epoch 50/60\n",
            "20000/20000 [==============================] - 261s 13ms/step - loss: 0.4044 - acc: 0.8595 - val_loss: 0.9005 - val_acc: 0.7127\n",
            "Epoch 51/60\n",
            "20000/20000 [==============================] - 259s 13ms/step - loss: 0.3879 - acc: 0.8601 - val_loss: 0.9075 - val_acc: 0.7104\n",
            "Epoch 52/60\n",
            "20000/20000 [==============================] - 261s 13ms/step - loss: 0.3765 - acc: 0.8683 - val_loss: 0.9077 - val_acc: 0.7129\n",
            "Epoch 53/60\n",
            "20000/20000 [==============================] - 259s 13ms/step - loss: 0.3662 - acc: 0.8710 - val_loss: 0.9331 - val_acc: 0.7083\n",
            "Epoch 54/60\n",
            "20000/20000 [==============================] - 261s 13ms/step - loss: 0.3531 - acc: 0.8767 - val_loss: 0.9293 - val_acc: 0.7092\n",
            "Epoch 55/60\n",
            "20000/20000 [==============================] - 259s 13ms/step - loss: 0.3478 - acc: 0.8760 - val_loss: 0.9204 - val_acc: 0.7112\n",
            "Epoch 56/60\n",
            "20000/20000 [==============================] - 261s 13ms/step - loss: 0.3320 - acc: 0.8836 - val_loss: 0.9259 - val_acc: 0.7093\n",
            "Epoch 57/60\n",
            "20000/20000 [==============================] - 260s 13ms/step - loss: 0.3278 - acc: 0.8848 - val_loss: 0.9215 - val_acc: 0.7063\n",
            "Epoch 58/60\n",
            "20000/20000 [==============================] - 262s 13ms/step - loss: 0.3068 - acc: 0.8912 - val_loss: 0.9470 - val_acc: 0.7131\n",
            "Epoch 59/60\n",
            "20000/20000 [==============================] - 259s 13ms/step - loss: 0.3095 - acc: 0.8895 - val_loss: 0.9647 - val_acc: 0.7087\n",
            "Epoch 60/60\n",
            "20000/20000 [==============================] - 259s 13ms/step - loss: 0.2949 - acc: 0.8967 - val_loss: 0.9497 - val_acc: 0.7130\n"
          ],
          "name": "stdout"
        }
      ]
    },
    {
      "cell_type": "code",
      "metadata": {
        "id": "yqC4OgJkuLeR",
        "colab_type": "code",
        "outputId": "fb9b8e76-729d-4fc3-a6a6-5287e4853f53",
        "colab": {
          "base_uri": "https://localhost:8080/",
          "height": 572
        }
      },
      "source": [
        "# summarize history for accuracy\n",
        "plt.plot(train_model5.history['acc'])\n",
        "plt.plot(train_model5.history['val_acc'])\n",
        "plt.title('model accuracy')\n",
        "plt.ylabel('accuracy')\n",
        "plt.xlabel('epoch')\n",
        "plt.legend(['train', 'test'], loc='upper left')\n",
        "plt.show()\n",
        "# summarize history for loss\n",
        "plt.plot(train_model5.history['loss'])\n",
        "plt.plot(train_model5.history['val_loss'])\n",
        "plt.title('model loss')\n",
        "plt.ylabel('loss')\n",
        "plt.xlabel('epoch')\n",
        "plt.legend(['train', 'test'], loc='upper left')\n",
        "plt.show()"
      ],
      "execution_count": 0,
      "outputs": [
        {
          "output_type": "display_data",
          "data": {
            "image/png": "[encoded data removed]",
            "text/plain": [
              "<Figure size 432x288 with 1 Axes>"
            ]
          },
          "metadata": {
            "tags": []
          }
        },
        {
          "output_type": "display_data",
          "data": {
            "image/png": "[encoded data removed]",
            "text/plain": [
              "<Figure size 432x288 with 1 Axes>"
            ]
          },
          "metadata": {
            "tags": []
          }
        }
      ]
    }
  ]
}