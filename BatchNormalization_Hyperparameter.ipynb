{
  "nbformat": 4,
  "nbformat_minor": 0,
  "metadata": {
    "colab": {
      "name": "BatchNormalization-Hyperparameter.ipynb",
      "version": "0.3.2",
      "provenance": [],
      "collapsed_sections": []
    },
    "kernelspec": {
      "name": "python3",
      "display_name": "Python 3"
    },
    "accelerator": "TPU"
  },
  "cells": [
    {
      "cell_type": "markdown",
      "metadata": {
        "id": "a-D9QYDi94PM",
        "colab_type": "text"
      },
      "source": [
        "## Batch Normaliation on CIFAR-10 "
      ]
    },
    {
      "cell_type": "code",
      "metadata": {
        "id": "ow_vXlnJVYrF",
        "colab_type": "code",
        "outputId": "d878a82a-3a52-4eb3-ae8c-4d3c37537a64",
        "colab": {
          "base_uri": "https://localhost:8080/",
          "height": 35
        }
      },
      "source": [
        "from __future__ import print_function\n",
        "import keras\n",
        "from keras.datasets import cifar10\n",
        "from keras.preprocessing.image import ImageDataGenerator\n",
        "from keras.models import Sequential\n",
        "from keras.layers import Dense, Dropout, Activation, Flatten\n",
        "from keras.layers import Conv2D, MaxPooling2D\n",
        "import os\n",
        "from matplotlib import pyplot as plt\n",
        "from keras.layers import BatchNormalization"
      ],
      "execution_count": 0,
      "outputs": [
        {
          "output_type": "stream",
          "text": [
            "Using TensorFlow backend.\n"
          ],
          "name": "stderr"
        }
      ]
    },
    {
      "cell_type": "code",
      "metadata": {
        "id": "slIHcc7Zmz26",
        "colab_type": "code",
        "colab": {}
      },
      "source": [
        "num_classes = 10\n",
        "data_augmentation = True\n",
        "num_predictions = 20\n",
        "# batch_size = 128\n",
        "# epochs = 30"
      ],
      "execution_count": 0,
      "outputs": []
    },
    {
      "cell_type": "code",
      "metadata": {
        "id": "IAED2Cn1m2nE",
        "colab_type": "code",
        "outputId": "14d51d44-6c81-47e6-9673-cb6370f17b1c",
        "colab": {
          "base_uri": "https://localhost:8080/",
          "height": 70
        }
      },
      "source": [
        "# The data, split between train and test sets:\n",
        "(x_train, y_train), (x_test, y_test) = cifar10.load_data()\n",
        "print('x_train shape:', x_train.shape)\n",
        "print(x_train.shape[0], 'train samples')\n",
        "print(x_test.shape[0], 'test samples')"
      ],
      "execution_count": 0,
      "outputs": [
        {
          "output_type": "stream",
          "text": [
            "x_train shape: (50000, 32, 32, 3)\n",
            "50000 train samples\n",
            "10000 test samples\n"
          ],
          "name": "stdout"
        }
      ]
    },
    {
      "cell_type": "code",
      "metadata": {
        "id": "bZxbBNrTm4_0",
        "colab_type": "code",
        "colab": {}
      },
      "source": [
        "x_train = x_train.astype('float32')\n",
        "x_test = x_test.astype('float32')\n",
        "x_train /= 255\n",
        "x_test /= 255"
      ],
      "execution_count": 0,
      "outputs": []
    },
    {
      "cell_type": "code",
      "metadata": {
        "id": "DB3MMNajm5v5",
        "colab_type": "code",
        "colab": {}
      },
      "source": [
        "# Convert class vectors to binary class matrices.\n",
        "y_train = keras.utils.to_categorical(y_train, num_classes)\n",
        "y_test = keras.utils.to_categorical(y_test, num_classes)"
      ],
      "execution_count": 0,
      "outputs": []
    },
    {
      "cell_type": "markdown",
      "metadata": {
        "id": "Q-L8Cpk_9_l9",
        "colab_type": "text"
      },
      "source": [
        "### Model having Batch Normalization Layer"
      ]
    },
    {
      "cell_type": "code",
      "metadata": {
        "id": "_olN3Xrbm9NX",
        "colab_type": "code",
        "colab": {}
      },
      "source": [
        "def model1(model,batch_size,epochs):\n",
        "    \n",
        "        model.add(Conv2D(32, (3, 3), padding='same',\n",
        "                         input_shape=x_train.shape[1:]))\n",
        "        model.add(BatchNormalization())\n",
        "        model.add(Activation('relu'))\n",
        "        \n",
        "        model.add(Conv2D(32, (3, 3)))\n",
        "        model.add(BatchNormalization())\n",
        "        model.add(Activation('relu'))\n",
        "        \n",
        "        model.add(MaxPooling2D(pool_size=(2, 2)))\n",
        "        model.add(BatchNormalization())\n",
        "        model.add(Dropout(rate = 0.25))\n",
        "\n",
        "        model.add(Conv2D(64, (3, 3), padding='same'))\n",
        "        model.add(BatchNormalization())\n",
        "        model.add(Activation('relu'))\n",
        "        \n",
        "        model.add(Conv2D(64, (3, 3)))\n",
        "        model.add(BatchNormalization())\n",
        "        model.add(Activation('relu'))\n",
        "        \n",
        "        model.add(MaxPooling2D(pool_size=(2, 2)))\n",
        "        model.add(BatchNormalization())\n",
        "        model.add(Dropout(rate = 0.25))\n",
        "\n",
        "        model.add(Flatten())\n",
        "        model.add(Dense(512))\n",
        "        model.add(Activation('relu'))\n",
        "        model.add(Dropout(rate = 0.5))\n",
        "        model.add(Dense(num_classes))\n",
        "        model.add(Activation('softmax'))\n",
        "        \n",
        "        \n",
        "        opt = keras.optimizers.adam(lr=0.0001, decay=1e-6)\n",
        "       \n",
        "\n",
        "        # Let's train the model\n",
        "        model.compile(loss='categorical_crossentropy',\n",
        "              optimizer=opt,\n",
        "              metrics=['accuracy'])\n",
        "        \n",
        "        history = model.fit(x_train, y_train,\n",
        "              batch_size=batch_size,\n",
        "              epochs=epochs,\n",
        "              validation_data=(x_test, y_test),\n",
        "              shuffle=True)\n",
        "        return history"
      ],
      "execution_count": 0,
      "outputs": []
    },
    {
      "cell_type": "code",
      "metadata": {
        "id": "a2jTXeilnE0L",
        "colab_type": "code",
        "outputId": "ec1c318d-b6df-40c8-c22e-c91619975732",
        "colab": {
          "base_uri": "https://localhost:8080/",
          "height": 1000
        }
      },
      "source": [
        "tmodel1 = Sequential()\n",
        "train_model1 = model1(tmodel1,128,40)"
      ],
      "execution_count": 0,
      "outputs": [
        {
          "output_type": "stream",
          "text": [
            "WARNING: Logging before flag parsing goes to stderr.\n",
            "W0702 08:29:21.832289 139702379644800 deprecation_wrapper.py:119] From /usr/local/lib/python3.6/dist-packages/keras/backend/tensorflow_backend.py:74: The name tf.get_default_graph is deprecated. Please use tf.compat.v1.get_default_graph instead.\n",
            "\n",
            "W0702 08:29:21.870557 139702379644800 deprecation_wrapper.py:119] From /usr/local/lib/python3.6/dist-packages/keras/backend/tensorflow_backend.py:517: The name tf.placeholder is deprecated. Please use tf.compat.v1.placeholder instead.\n",
            "\n",
            "W0702 08:29:21.877010 139702379644800 deprecation_wrapper.py:119] From /usr/local/lib/python3.6/dist-packages/keras/backend/tensorflow_backend.py:4138: The name tf.random_uniform is deprecated. Please use tf.random.uniform instead.\n",
            "\n",
            "W0702 08:29:21.927551 139702379644800 deprecation_wrapper.py:119] From /usr/local/lib/python3.6/dist-packages/keras/backend/tensorflow_backend.py:174: The name tf.get_default_session is deprecated. Please use tf.compat.v1.get_default_session instead.\n",
            "\n",
            "W0702 08:29:21.928689 139702379644800 deprecation_wrapper.py:119] From /usr/local/lib/python3.6/dist-packages/keras/backend/tensorflow_backend.py:181: The name tf.ConfigProto is deprecated. Please use tf.compat.v1.ConfigProto instead.\n",
            "\n",
            "W0702 08:29:22.250387 139702379644800 deprecation_wrapper.py:119] From /usr/local/lib/python3.6/dist-packages/keras/backend/tensorflow_backend.py:1834: The name tf.nn.fused_batch_norm is deprecated. Please use tf.compat.v1.nn.fused_batch_norm instead.\n",
            "\n",
            "W0702 08:29:22.422095 139702379644800 deprecation_wrapper.py:119] From /usr/local/lib/python3.6/dist-packages/keras/backend/tensorflow_backend.py:3976: The name tf.nn.max_pool is deprecated. Please use tf.nn.max_pool2d instead.\n",
            "\n",
            "W0702 08:29:22.513181 139702379644800 deprecation.py:506] From /usr/local/lib/python3.6/dist-packages/keras/backend/tensorflow_backend.py:3445: calling dropout (from tensorflow.python.ops.nn_ops) with keep_prob is deprecated and will be removed in a future version.\n",
            "Instructions for updating:\n",
            "Please use `rate` instead of `keep_prob`. Rate should be set to `rate = 1 - keep_prob`.\n",
            "W0702 08:29:22.995768 139702379644800 deprecation_wrapper.py:119] From /usr/local/lib/python3.6/dist-packages/keras/optimizers.py:790: The name tf.train.Optimizer is deprecated. Please use tf.compat.v1.train.Optimizer instead.\n",
            "\n",
            "W0702 08:29:23.115506 139702379644800 deprecation.py:323] From /usr/local/lib/python3.6/dist-packages/tensorflow/python/ops/math_grad.py:1250: add_dispatch_support.<locals>.wrapper (from tensorflow.python.ops.array_ops) is deprecated and will be removed in a future version.\n",
            "Instructions for updating:\n",
            "Use tf.where in 2.0, which has the same broadcast rule as np.where\n"
          ],
          "name": "stderr"
        },
        {
          "output_type": "stream",
          "text": [
            "Train on 50000 samples, validate on 10000 samples\n",
            "Epoch 1/40\n",
            "50000/50000 [==============================] - 771s 15ms/step - loss: 2.1962 - acc: 0.3327 - val_loss: 1.3828 - val_acc: 0.5123\n",
            "Epoch 2/40\n",
            "50000/50000 [==============================] - 780s 16ms/step - loss: 1.6013 - acc: 0.4549 - val_loss: 1.3162 - val_acc: 0.5311\n",
            "Epoch 3/40\n",
            "50000/50000 [==============================] - 785s 16ms/step - loss: 1.4117 - acc: 0.5008 - val_loss: 1.2178 - val_acc: 0.5646\n",
            "Epoch 4/40\n",
            "50000/50000 [==============================] - 775s 16ms/step - loss: 1.3000 - acc: 0.5381 - val_loss: 1.1849 - val_acc: 0.5804\n",
            "Epoch 5/40\n",
            "50000/50000 [==============================] - 762s 15ms/step - loss: 1.2138 - acc: 0.5698 - val_loss: 1.1341 - val_acc: 0.5968\n",
            "Epoch 6/40\n",
            "50000/50000 [==============================] - 757s 15ms/step - loss: 1.1406 - acc: 0.5957 - val_loss: 1.1320 - val_acc: 0.6082\n",
            "Epoch 7/40\n",
            "50000/50000 [==============================] - 743s 15ms/step - loss: 1.0706 - acc: 0.6195 - val_loss: 0.9931 - val_acc: 0.6430\n",
            "Epoch 8/40\n",
            "50000/50000 [==============================] - 763s 15ms/step - loss: 1.0168 - acc: 0.6389 - val_loss: 0.9945 - val_acc: 0.6472\n",
            "Epoch 9/40\n",
            "50000/50000 [==============================] - 759s 15ms/step - loss: 0.9664 - acc: 0.6607 - val_loss: 0.9362 - val_acc: 0.6681\n",
            "Epoch 10/40\n",
            "50000/50000 [==============================] - 759s 15ms/step - loss: 0.9186 - acc: 0.6742 - val_loss: 0.9118 - val_acc: 0.6796\n",
            "Epoch 11/40\n",
            "50000/50000 [==============================] - 763s 15ms/step - loss: 0.8860 - acc: 0.6878 - val_loss: 0.8827 - val_acc: 0.6923\n",
            "Epoch 12/40\n",
            "50000/50000 [==============================] - 765s 15ms/step - loss: 0.8460 - acc: 0.7015 - val_loss: 0.8427 - val_acc: 0.7041\n",
            "Epoch 13/40\n",
            "50000/50000 [==============================] - 766s 15ms/step - loss: 0.8155 - acc: 0.7127 - val_loss: 0.7963 - val_acc: 0.7149\n",
            "Epoch 14/40\n",
            "50000/50000 [==============================] - 761s 15ms/step - loss: 0.7886 - acc: 0.7219 - val_loss: 0.8053 - val_acc: 0.7193\n",
            "Epoch 15/40\n",
            "50000/50000 [==============================] - 753s 15ms/step - loss: 0.7602 - acc: 0.7330 - val_loss: 0.7963 - val_acc: 0.7181\n",
            "Epoch 16/40\n",
            "50000/50000 [==============================] - 747s 15ms/step - loss: 0.7316 - acc: 0.7427 - val_loss: 0.7310 - val_acc: 0.7442\n",
            "Epoch 17/40\n",
            "50000/50000 [==============================] - 748s 15ms/step - loss: 0.7161 - acc: 0.7485 - val_loss: 0.7716 - val_acc: 0.7283\n",
            "Epoch 18/40\n",
            "50000/50000 [==============================] - 751s 15ms/step - loss: 0.6914 - acc: 0.7562 - val_loss: 0.7460 - val_acc: 0.7401\n",
            "Epoch 19/40\n",
            "50000/50000 [==============================] - 761s 15ms/step - loss: 0.6643 - acc: 0.7635 - val_loss: 0.7246 - val_acc: 0.7477\n",
            "Epoch 20/40\n",
            "50000/50000 [==============================] - 765s 15ms/step - loss: 0.6511 - acc: 0.7686 - val_loss: 0.7117 - val_acc: 0.7490\n",
            "Epoch 21/40\n",
            "50000/50000 [==============================] - 768s 15ms/step - loss: 0.6265 - acc: 0.7792 - val_loss: 0.7331 - val_acc: 0.7448\n",
            "Epoch 22/40\n",
            "50000/50000 [==============================] - 763s 15ms/step - loss: 0.6150 - acc: 0.7825 - val_loss: 0.6805 - val_acc: 0.7623\n",
            "Epoch 23/40\n",
            "50000/50000 [==============================] - 763s 15ms/step - loss: 0.5992 - acc: 0.7890 - val_loss: 0.6983 - val_acc: 0.7581\n",
            "Epoch 24/40\n",
            "50000/50000 [==============================] - 770s 15ms/step - loss: 0.5822 - acc: 0.7963 - val_loss: 0.7047 - val_acc: 0.7597\n",
            "Epoch 25/40\n",
            "50000/50000 [==============================] - 771s 15ms/step - loss: 0.5673 - acc: 0.8004 - val_loss: 0.6657 - val_acc: 0.7716\n",
            "Epoch 26/40\n",
            "50000/50000 [==============================] - 772s 15ms/step - loss: 0.5529 - acc: 0.8028 - val_loss: 0.6909 - val_acc: 0.7610\n",
            "Epoch 27/40\n",
            "50000/50000 [==============================] - 772s 15ms/step - loss: 0.5378 - acc: 0.8119 - val_loss: 0.6395 - val_acc: 0.7765\n",
            "Epoch 28/40\n",
            "50000/50000 [==============================] - 770s 15ms/step - loss: 0.5255 - acc: 0.8136 - val_loss: 0.6854 - val_acc: 0.7664\n",
            "Epoch 29/40\n",
            "50000/50000 [==============================] - 771s 15ms/step - loss: 0.5172 - acc: 0.8189 - val_loss: 0.6710 - val_acc: 0.7682\n",
            "Epoch 30/40\n",
            "50000/50000 [==============================] - 781s 16ms/step - loss: 0.5008 - acc: 0.8241 - val_loss: 0.6629 - val_acc: 0.7745\n",
            "Epoch 31/40\n",
            "50000/50000 [==============================] - 779s 16ms/step - loss: 0.4881 - acc: 0.8273 - val_loss: 0.6496 - val_acc: 0.7781\n",
            "Epoch 32/40\n",
            "50000/50000 [==============================] - 778s 16ms/step - loss: 0.4755 - acc: 0.8317 - val_loss: 0.6357 - val_acc: 0.7787\n",
            "Epoch 33/40\n",
            "50000/50000 [==============================] - 782s 16ms/step - loss: 0.4703 - acc: 0.8334 - val_loss: 0.6332 - val_acc: 0.7810\n",
            "Epoch 34/40\n",
            "50000/50000 [==============================] - 782s 16ms/step - loss: 0.4537 - acc: 0.8397 - val_loss: 0.6561 - val_acc: 0.7787\n",
            "Epoch 35/40\n",
            "50000/50000 [==============================] - 777s 16ms/step - loss: 0.4485 - acc: 0.8416 - val_loss: 0.6442 - val_acc: 0.7771\n",
            "Epoch 36/40\n",
            "50000/50000 [==============================] - 779s 16ms/step - loss: 0.4360 - acc: 0.8457 - val_loss: 0.6271 - val_acc: 0.7842\n",
            "Epoch 37/40\n",
            "50000/50000 [==============================] - 781s 16ms/step - loss: 0.4276 - acc: 0.8488 - val_loss: 0.6218 - val_acc: 0.7874\n",
            "Epoch 38/40\n",
            "50000/50000 [==============================] - 784s 16ms/step - loss: 0.4171 - acc: 0.8517 - val_loss: 0.6487 - val_acc: 0.7809\n",
            "Epoch 39/40\n",
            "50000/50000 [==============================] - 779s 16ms/step - loss: 0.4109 - acc: 0.8553 - val_loss: 0.6282 - val_acc: 0.7858\n",
            "Epoch 40/40\n",
            "50000/50000 [==============================] - 785s 16ms/step - loss: 0.4017 - acc: 0.8575 - val_loss: 0.6184 - val_acc: 0.7922\n"
          ],
          "name": "stdout"
        }
      ]
    },
    {
      "cell_type": "code",
      "metadata": {
        "id": "k_DYfnBcxwFd",
        "colab_type": "code",
        "outputId": "4f15aceb-c6cc-4e00-f61f-1732f9979989",
        "colab": {
          "base_uri": "https://localhost:8080/",
          "height": 572
        }
      },
      "source": [
        "# summarize history for accuracy\n",
        "plt.plot(train_model1.history['acc'])\n",
        "plt.plot(train_model1.history['val_acc'])\n",
        "plt.title('model accuracy')\n",
        "plt.ylabel('accuracy')\n",
        "plt.xlabel('epoch')\n",
        "plt.legend(['train', 'test'], loc='upper left')\n",
        "plt.show()\n",
        "# summarize history for loss\n",
        "plt.plot(train_model1.history['loss'])\n",
        "plt.plot(train_model1.history['val_loss'])\n",
        "plt.title('model loss')\n",
        "plt.ylabel('loss')\n",
        "plt.xlabel('epoch')\n",
        "plt.legend(['train', 'test'], loc='upper left')\n",
        "plt.show()"
      ],
      "execution_count": 0,
      "outputs": [
        {
          "output_type": "display_data",
          "data": {
            "image/png": "[encoded data removed]",
            "text/plain": [
              "<Figure size 432x288 with 1 Axes>"
            ]
          },
          "metadata": {
            "tags": []
          }
        },
        {
          "output_type": "display_data",
          "data": {
            "image/png": "[encoded data removed]",
            "text/plain": [
              "<Figure size 432x288 with 1 Axes>"
            ]
          },
          "metadata": {
            "tags": []
          }
        }
      ]
    },
    {
      "cell_type": "markdown",
      "metadata": {
        "id": "3jlt0OMc-FIH",
        "colab_type": "text"
      },
      "source": [
        "### Model with no Batch Normalization"
      ]
    },
    {
      "cell_type": "code",
      "metadata": {
        "id": "40KdZuXDG9KW",
        "colab_type": "code",
        "colab": {}
      },
      "source": [
        "def model2(model,batch_size,epochs):\n",
        "    \n",
        "        model.add(Conv2D(32, (3, 3), padding='same',\n",
        "                         input_shape=x_train.shape[1:]))\n",
        "        model.add(Activation('relu'))\n",
        "        \n",
        "        model.add(Conv2D(32, (3, 3)))\n",
        "        model.add(Activation('relu'))\n",
        "        \n",
        "        model.add(MaxPooling2D(pool_size=(2, 2)))\n",
        "        model.add(Dropout(rate = 0.25))\n",
        "\n",
        "        model.add(Conv2D(64, (3, 3), padding='same'))\n",
        "        model.add(Activation('relu'))\n",
        "        \n",
        "        model.add(Conv2D(64, (3, 3)))\n",
        "        model.add(Activation('relu'))\n",
        "        \n",
        "        model.add(MaxPooling2D(pool_size=(2, 2)))\n",
        "        model.add(Dropout(rate = 0.25))\n",
        "\n",
        "        model.add(Flatten())\n",
        "        model.add(Dense(512))\n",
        "        model.add(Activation('relu'))\n",
        "        model.add(Dropout(rate = 0.5))\n",
        "        model.add(Dense(num_classes))\n",
        "        model.add(Activation('softmax'))\n",
        "        \n",
        "        \n",
        "        opt = keras.optimizers.adam(lr=0.0001, decay=1e-6)\n",
        "       \n",
        "\n",
        "        # Let's train the model\n",
        "        model.compile(loss='categorical_crossentropy',\n",
        "              optimizer=opt,\n",
        "              metrics=['accuracy'])\n",
        "        \n",
        "        history = model.fit(x_train, y_train,\n",
        "              batch_size=batch_size,\n",
        "              epochs=epochs,\n",
        "              validation_data=(x_test, y_test),\n",
        "              shuffle=True)\n",
        "        return history"
      ],
      "execution_count": 0,
      "outputs": []
    },
    {
      "cell_type": "code",
      "metadata": {
        "id": "d5KsToXDHBaF",
        "colab_type": "code",
        "outputId": "764325c4-c0a2-4928-e03a-2ffd6abad734",
        "colab": {
          "base_uri": "https://localhost:8080/",
          "height": 1000
        }
      },
      "source": [
        "tmodel2 = Sequential()\n",
        "train_model2 = model2(tmodel2,128,40)"
      ],
      "execution_count": 0,
      "outputs": [
        {
          "output_type": "stream",
          "text": [
            "WARNING: Logging before flag parsing goes to stderr.\n",
            "W0703 05:24:32.116563 139859960416128 deprecation_wrapper.py:119] From /usr/local/lib/python3.6/dist-packages/keras/backend/tensorflow_backend.py:74: The name tf.get_default_graph is deprecated. Please use tf.compat.v1.get_default_graph instead.\n",
            "\n",
            "W0703 05:24:32.172583 139859960416128 deprecation_wrapper.py:119] From /usr/local/lib/python3.6/dist-packages/keras/backend/tensorflow_backend.py:517: The name tf.placeholder is deprecated. Please use tf.compat.v1.placeholder instead.\n",
            "\n",
            "W0703 05:24:32.189921 139859960416128 deprecation_wrapper.py:119] From /usr/local/lib/python3.6/dist-packages/keras/backend/tensorflow_backend.py:4138: The name tf.random_uniform is deprecated. Please use tf.random.uniform instead.\n",
            "\n",
            "W0703 05:24:32.245065 139859960416128 deprecation_wrapper.py:119] From /usr/local/lib/python3.6/dist-packages/keras/backend/tensorflow_backend.py:3976: The name tf.nn.max_pool is deprecated. Please use tf.nn.max_pool2d instead.\n",
            "\n",
            "W0703 05:24:32.255280 139859960416128 deprecation_wrapper.py:119] From /usr/local/lib/python3.6/dist-packages/keras/backend/tensorflow_backend.py:133: The name tf.placeholder_with_default is deprecated. Please use tf.compat.v1.placeholder_with_default instead.\n",
            "\n",
            "W0703 05:24:32.273118 139859960416128 deprecation.py:506] From /usr/local/lib/python3.6/dist-packages/keras/backend/tensorflow_backend.py:3445: calling dropout (from tensorflow.python.ops.nn_ops) with keep_prob is deprecated and will be removed in a future version.\n",
            "Instructions for updating:\n",
            "Please use `rate` instead of `keep_prob`. Rate should be set to `rate = 1 - keep_prob`.\n",
            "W0703 05:24:32.530068 139859960416128 deprecation_wrapper.py:119] From /usr/local/lib/python3.6/dist-packages/keras/optimizers.py:790: The name tf.train.Optimizer is deprecated. Please use tf.compat.v1.train.Optimizer instead.\n",
            "\n",
            "W0703 05:24:32.548625 139859960416128 deprecation_wrapper.py:119] From /usr/local/lib/python3.6/dist-packages/keras/backend/tensorflow_backend.py:3295: The name tf.log is deprecated. Please use tf.math.log instead.\n",
            "\n",
            "W0703 05:24:32.721822 139859960416128 deprecation.py:323] From /usr/local/lib/python3.6/dist-packages/tensorflow/python/ops/math_grad.py:1250: add_dispatch_support.<locals>.wrapper (from tensorflow.python.ops.array_ops) is deprecated and will be removed in a future version.\n",
            "Instructions for updating:\n",
            "Use tf.where in 2.0, which has the same broadcast rule as np.where\n"
          ],
          "name": "stderr"
        },
        {
          "output_type": "stream",
          "text": [
            "Train on 50000 samples, validate on 10000 samples\n",
            "Epoch 1/40\n",
            "50000/50000 [==============================] - 485s 10ms/step - loss: 1.9187 - acc: 0.2935 - val_loss: 1.6017 - val_acc: 0.4179\n",
            "Epoch 2/40\n",
            "50000/50000 [==============================] - 484s 10ms/step - loss: 1.5802 - acc: 0.4235 - val_loss: 1.4580 - val_acc: 0.4723\n",
            "Epoch 3/40\n",
            "50000/50000 [==============================] - 488s 10ms/step - loss: 1.4570 - acc: 0.4700 - val_loss: 1.3587 - val_acc: 0.5152\n",
            "Epoch 4/40\n",
            "50000/50000 [==============================] - 487s 10ms/step - loss: 1.3669 - acc: 0.5107 - val_loss: 1.3102 - val_acc: 0.5265\n",
            "Epoch 5/40\n",
            "50000/50000 [==============================] - 487s 10ms/step - loss: 1.3107 - acc: 0.5303 - val_loss: 1.2327 - val_acc: 0.5650\n",
            "Epoch 6/40\n",
            "50000/50000 [==============================] - 485s 10ms/step - loss: 1.2588 - acc: 0.5502 - val_loss: 1.1653 - val_acc: 0.5913\n",
            "Epoch 7/40\n",
            "50000/50000 [==============================] - 473s 9ms/step - loss: 1.2151 - acc: 0.5690 - val_loss: 1.1246 - val_acc: 0.6067\n",
            "Epoch 8/40\n",
            "50000/50000 [==============================] - 460s 9ms/step - loss: 1.1728 - acc: 0.5837 - val_loss: 1.0980 - val_acc: 0.6149\n",
            "Epoch 9/40\n",
            "50000/50000 [==============================] - 462s 9ms/step - loss: 1.1375 - acc: 0.5997 - val_loss: 1.0525 - val_acc: 0.6351\n",
            "Epoch 10/40\n",
            "50000/50000 [==============================] - 460s 9ms/step - loss: 1.1027 - acc: 0.6109 - val_loss: 1.0217 - val_acc: 0.6449\n",
            "Epoch 11/40\n",
            "50000/50000 [==============================] - 464s 9ms/step - loss: 1.0729 - acc: 0.6231 - val_loss: 1.0172 - val_acc: 0.6448\n",
            "Epoch 12/40\n",
            "50000/50000 [==============================] - 474s 9ms/step - loss: 1.0467 - acc: 0.6321 - val_loss: 0.9813 - val_acc: 0.6565\n",
            "Epoch 13/40\n",
            "50000/50000 [==============================] - 472s 9ms/step - loss: 1.0145 - acc: 0.6455 - val_loss: 0.9503 - val_acc: 0.6721\n",
            "Epoch 14/40\n",
            "50000/50000 [==============================] - 471s 9ms/step - loss: 0.9908 - acc: 0.6541 - val_loss: 0.9187 - val_acc: 0.6790\n",
            "Epoch 15/40\n",
            "50000/50000 [==============================] - 477s 10ms/step - loss: 0.9693 - acc: 0.6604 - val_loss: 0.9063 - val_acc: 0.6814\n",
            "Epoch 16/40\n",
            "50000/50000 [==============================] - 478s 10ms/step - loss: 0.9429 - acc: 0.6695 - val_loss: 0.8830 - val_acc: 0.6929\n",
            "Epoch 17/40\n",
            "50000/50000 [==============================] - 472s 9ms/step - loss: 0.9266 - acc: 0.6759 - val_loss: 0.8685 - val_acc: 0.6988\n",
            "Epoch 18/40\n",
            "50000/50000 [==============================] - 474s 9ms/step - loss: 0.9022 - acc: 0.6863 - val_loss: 0.8498 - val_acc: 0.7070\n",
            "Epoch 19/40\n",
            "50000/50000 [==============================] - 473s 9ms/step - loss: 0.8889 - acc: 0.6902 - val_loss: 0.8409 - val_acc: 0.7091\n",
            "Epoch 20/40\n",
            "50000/50000 [==============================] - 473s 9ms/step - loss: 0.8663 - acc: 0.6975 - val_loss: 0.8386 - val_acc: 0.7136\n",
            "Epoch 21/40\n",
            "50000/50000 [==============================] - 473s 9ms/step - loss: 0.8529 - acc: 0.7031 - val_loss: 0.8109 - val_acc: 0.7201\n",
            "Epoch 22/40\n",
            "50000/50000 [==============================] - 472s 9ms/step - loss: 0.8377 - acc: 0.7084 - val_loss: 0.8024 - val_acc: 0.7219\n",
            "Epoch 23/40\n",
            "50000/50000 [==============================] - 472s 9ms/step - loss: 0.8207 - acc: 0.7139 - val_loss: 0.7858 - val_acc: 0.7289\n",
            "Epoch 24/40\n",
            "50000/50000 [==============================] - 469s 9ms/step - loss: 0.8038 - acc: 0.7212 - val_loss: 0.7779 - val_acc: 0.7295\n",
            "Epoch 25/40\n",
            "50000/50000 [==============================] - 470s 9ms/step - loss: 0.7935 - acc: 0.7239 - val_loss: 0.7650 - val_acc: 0.7341\n",
            "Epoch 26/40\n",
            "50000/50000 [==============================] - 470s 9ms/step - loss: 0.7755 - acc: 0.7318 - val_loss: 0.7645 - val_acc: 0.7372\n",
            "Epoch 27/40\n",
            "50000/50000 [==============================] - 457s 9ms/step - loss: 0.7630 - acc: 0.7347 - val_loss: 0.7593 - val_acc: 0.7317\n",
            "Epoch 28/40\n",
            "50000/50000 [==============================] - 458s 9ms/step - loss: 0.7499 - acc: 0.7358 - val_loss: 0.7500 - val_acc: 0.7391\n",
            "Epoch 29/40\n",
            "50000/50000 [==============================] - 459s 9ms/step - loss: 0.7342 - acc: 0.7444 - val_loss: 0.7335 - val_acc: 0.7435\n",
            "Epoch 30/40\n",
            "50000/50000 [==============================] - 458s 9ms/step - loss: 0.7258 - acc: 0.7481 - val_loss: 0.7374 - val_acc: 0.7454\n",
            "Epoch 31/40\n",
            "50000/50000 [==============================] - 462s 9ms/step - loss: 0.7101 - acc: 0.7508 - val_loss: 0.7148 - val_acc: 0.7495\n",
            "Epoch 32/40\n",
            "50000/50000 [==============================] - 467s 9ms/step - loss: 0.6977 - acc: 0.7553 - val_loss: 0.7164 - val_acc: 0.7542\n",
            "Epoch 33/40\n",
            "50000/50000 [==============================] - 465s 9ms/step - loss: 0.6862 - acc: 0.7615 - val_loss: 0.7044 - val_acc: 0.7572\n",
            "Epoch 34/40\n",
            "50000/50000 [==============================] - 467s 9ms/step - loss: 0.6780 - acc: 0.7641 - val_loss: 0.6997 - val_acc: 0.7586\n",
            "Epoch 35/40\n",
            "50000/50000 [==============================] - 468s 9ms/step - loss: 0.6648 - acc: 0.7674 - val_loss: 0.6915 - val_acc: 0.7593\n",
            "Epoch 36/40\n",
            "50000/50000 [==============================] - 470s 9ms/step - loss: 0.6544 - acc: 0.7710 - val_loss: 0.6857 - val_acc: 0.7636\n",
            "Epoch 37/40\n",
            "50000/50000 [==============================] - 464s 9ms/step - loss: 0.6441 - acc: 0.7741 - val_loss: 0.6812 - val_acc: 0.7625\n",
            "Epoch 38/40\n",
            "50000/50000 [==============================] - 466s 9ms/step - loss: 0.6367 - acc: 0.7759 - val_loss: 0.6739 - val_acc: 0.7636\n",
            "Epoch 39/40\n",
            "50000/50000 [==============================] - 466s 9ms/step - loss: 0.6247 - acc: 0.7807 - val_loss: 0.6673 - val_acc: 0.7694\n",
            "Epoch 40/40\n",
            "50000/50000 [==============================] - 464s 9ms/step - loss: 0.6151 - acc: 0.7858 - val_loss: 0.6774 - val_acc: 0.7625\n"
          ],
          "name": "stdout"
        }
      ]
    },
    {
      "cell_type": "code",
      "metadata": {
        "id": "d2aMEjDNHOD1",
        "colab_type": "code",
        "outputId": "ef595463-7041-4ff7-8393-26a2c02b0e9b",
        "colab": {
          "base_uri": "https://localhost:8080/",
          "height": 572
        }
      },
      "source": [
        "# summarize history for accuracy\n",
        "plt.plot(train_model2.history['acc'])\n",
        "plt.plot(train_model2.history['val_acc'])\n",
        "plt.title('model accuracy')\n",
        "plt.ylabel('accuracy')\n",
        "plt.xlabel('epoch')\n",
        "plt.legend(['train', 'test'], loc='upper left')\n",
        "plt.show()\n",
        "# summarize history for loss\n",
        "plt.plot(train_model2.history['loss'])\n",
        "plt.plot(train_model2.history['val_loss'])\n",
        "plt.title('model loss')\n",
        "plt.ylabel('loss')\n",
        "plt.xlabel('epoch')\n",
        "plt.legend(['train', 'test'], loc='upper left')\n",
        "plt.show()"
      ],
      "execution_count": 0,
      "outputs": [
        {
          "output_type": "display_data",
          "data": {
            "image/png": "[encoded data removed]",
            "text/plain": [
              "<Figure size 432x288 with 1 Axes>"
            ]
          },
          "metadata": {
            "tags": []
          }
        },
        {
          "output_type": "display_data",
          "data": {
            "image/png": "[encoded data removed]",
            "text/plain": [
              "<Figure size 432x288 with 1 Axes>"
            ]
          },
          "metadata": {
            "tags": []
          }
        }
      ]
    }
  ]
}